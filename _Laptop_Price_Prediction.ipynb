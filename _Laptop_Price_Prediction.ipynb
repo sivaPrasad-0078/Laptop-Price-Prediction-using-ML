{
  "cells": [
    {
      "cell_type": "markdown",
      "source": [
        "# **Laptop Price Prediction**"
      ],
      "metadata": {
        "id": "el9rYZlqPrX_"
      },
      "id": "el9rYZlqPrX_"
    },
    {
      "cell_type": "code",
      "execution_count": null,
      "id": "ce86ba7a",
      "metadata": {
        "id": "ce86ba7a"
      },
      "outputs": [],
      "source": [
        "import warnings\n",
        "warnings.filterwarnings('ignore')"
      ]
    },
    {
      "cell_type": "code",
      "execution_count": null,
      "id": "50ff9cd1",
      "metadata": {
        "id": "50ff9cd1"
      },
      "outputs": [],
      "source": [
        "import pandas as pd\n",
        "import matplotlib.pyplot as plt\n",
        "import seaborn as sns\n",
        "import numpy as np"
      ]
    },
    {
      "cell_type": "code",
      "execution_count": null,
      "id": "1aaf0b48",
      "metadata": {
        "id": "1aaf0b48"
      },
      "outputs": [],
      "source": [
        "df=pd.read_csv('laptop.csv')"
      ]
    },
    {
      "cell_type": "code",
      "execution_count": null,
      "id": "674ea659",
      "metadata": {
        "id": "674ea659",
        "outputId": "e4bf97eb-5331-4a22-d34e-f8bab12aba67"
      },
      "outputs": [
        {
          "data": {
            "text/html": [
              "<div>\n",
              "<style scoped>\n",
              "    .dataframe tbody tr th:only-of-type {\n",
              "        vertical-align: middle;\n",
              "    }\n",
              "\n",
              "    .dataframe tbody tr th {\n",
              "        vertical-align: top;\n",
              "    }\n",
              "\n",
              "    .dataframe thead th {\n",
              "        text-align: right;\n",
              "    }\n",
              "</style>\n",
              "<table border=\"1\" class=\"dataframe\">\n",
              "  <thead>\n",
              "    <tr style=\"text-align: right;\">\n",
              "      <th></th>\n",
              "      <th>Unnamed: 0.1</th>\n",
              "      <th>Unnamed: 0</th>\n",
              "      <th>Company</th>\n",
              "      <th>TypeName</th>\n",
              "      <th>Inches</th>\n",
              "      <th>ScreenResolution</th>\n",
              "      <th>Cpu</th>\n",
              "      <th>Ram</th>\n",
              "      <th>Memory</th>\n",
              "      <th>Gpu</th>\n",
              "      <th>OpSys</th>\n",
              "      <th>Weight</th>\n",
              "      <th>Price</th>\n",
              "    </tr>\n",
              "  </thead>\n",
              "  <tbody>\n",
              "    <tr>\n",
              "      <th>0</th>\n",
              "      <td>0</td>\n",
              "      <td>0.0</td>\n",
              "      <td>Apple</td>\n",
              "      <td>Ultrabook</td>\n",
              "      <td>13.3</td>\n",
              "      <td>IPS Panel Retina Display 2560x1600</td>\n",
              "      <td>Intel Core i5 2.3GHz</td>\n",
              "      <td>8GB</td>\n",
              "      <td>128GB SSD</td>\n",
              "      <td>Intel Iris Plus Graphics 640</td>\n",
              "      <td>macOS</td>\n",
              "      <td>1.37kg</td>\n",
              "      <td>71378.6832</td>\n",
              "    </tr>\n",
              "    <tr>\n",
              "      <th>1</th>\n",
              "      <td>1</td>\n",
              "      <td>1.0</td>\n",
              "      <td>Apple</td>\n",
              "      <td>Ultrabook</td>\n",
              "      <td>13.3</td>\n",
              "      <td>1440x900</td>\n",
              "      <td>Intel Core i5 1.8GHz</td>\n",
              "      <td>8GB</td>\n",
              "      <td>128GB Flash Storage</td>\n",
              "      <td>Intel HD Graphics 6000</td>\n",
              "      <td>macOS</td>\n",
              "      <td>1.34kg</td>\n",
              "      <td>47895.5232</td>\n",
              "    </tr>\n",
              "    <tr>\n",
              "      <th>2</th>\n",
              "      <td>2</td>\n",
              "      <td>2.0</td>\n",
              "      <td>HP</td>\n",
              "      <td>Notebook</td>\n",
              "      <td>15.6</td>\n",
              "      <td>Full HD 1920x1080</td>\n",
              "      <td>Intel Core i5 7200U 2.5GHz</td>\n",
              "      <td>8GB</td>\n",
              "      <td>256GB SSD</td>\n",
              "      <td>Intel HD Graphics 620</td>\n",
              "      <td>No OS</td>\n",
              "      <td>1.86kg</td>\n",
              "      <td>30636.0000</td>\n",
              "    </tr>\n",
              "    <tr>\n",
              "      <th>3</th>\n",
              "      <td>3</td>\n",
              "      <td>3.0</td>\n",
              "      <td>Apple</td>\n",
              "      <td>Ultrabook</td>\n",
              "      <td>15.4</td>\n",
              "      <td>IPS Panel Retina Display 2880x1800</td>\n",
              "      <td>Intel Core i7 2.7GHz</td>\n",
              "      <td>16GB</td>\n",
              "      <td>512GB SSD</td>\n",
              "      <td>AMD Radeon Pro 455</td>\n",
              "      <td>macOS</td>\n",
              "      <td>1.83kg</td>\n",
              "      <td>135195.3360</td>\n",
              "    </tr>\n",
              "    <tr>\n",
              "      <th>4</th>\n",
              "      <td>4</td>\n",
              "      <td>4.0</td>\n",
              "      <td>Apple</td>\n",
              "      <td>Ultrabook</td>\n",
              "      <td>13.3</td>\n",
              "      <td>IPS Panel Retina Display 2560x1600</td>\n",
              "      <td>Intel Core i5 3.1GHz</td>\n",
              "      <td>8GB</td>\n",
              "      <td>256GB SSD</td>\n",
              "      <td>Intel Iris Plus Graphics 650</td>\n",
              "      <td>macOS</td>\n",
              "      <td>1.37kg</td>\n",
              "      <td>96095.8080</td>\n",
              "    </tr>\n",
              "  </tbody>\n",
              "</table>\n",
              "</div>"
            ],
            "text/plain": [
              "   Unnamed: 0.1  Unnamed: 0 Company   TypeName Inches  \\\n",
              "0             0         0.0   Apple  Ultrabook   13.3   \n",
              "1             1         1.0   Apple  Ultrabook   13.3   \n",
              "2             2         2.0      HP   Notebook   15.6   \n",
              "3             3         3.0   Apple  Ultrabook   15.4   \n",
              "4             4         4.0   Apple  Ultrabook   13.3   \n",
              "\n",
              "                     ScreenResolution                         Cpu   Ram  \\\n",
              "0  IPS Panel Retina Display 2560x1600        Intel Core i5 2.3GHz   8GB   \n",
              "1                            1440x900        Intel Core i5 1.8GHz   8GB   \n",
              "2                   Full HD 1920x1080  Intel Core i5 7200U 2.5GHz   8GB   \n",
              "3  IPS Panel Retina Display 2880x1800        Intel Core i7 2.7GHz  16GB   \n",
              "4  IPS Panel Retina Display 2560x1600        Intel Core i5 3.1GHz   8GB   \n",
              "\n",
              "                Memory                           Gpu  OpSys  Weight  \\\n",
              "0            128GB SSD  Intel Iris Plus Graphics 640  macOS  1.37kg   \n",
              "1  128GB Flash Storage        Intel HD Graphics 6000  macOS  1.34kg   \n",
              "2            256GB SSD         Intel HD Graphics 620  No OS  1.86kg   \n",
              "3            512GB SSD            AMD Radeon Pro 455  macOS  1.83kg   \n",
              "4            256GB SSD  Intel Iris Plus Graphics 650  macOS  1.37kg   \n",
              "\n",
              "         Price  \n",
              "0   71378.6832  \n",
              "1   47895.5232  \n",
              "2   30636.0000  \n",
              "3  135195.3360  \n",
              "4   96095.8080  "
            ]
          },
          "execution_count": 144,
          "metadata": {},
          "output_type": "execute_result"
        }
      ],
      "source": [
        "df.head()"
      ]
    },
    {
      "cell_type": "code",
      "execution_count": null,
      "id": "a6b24ce8",
      "metadata": {
        "id": "a6b24ce8"
      },
      "outputs": [],
      "source": [
        "#We have to delete the unnamed columns\n",
        "\n",
        "df.drop(columns=['Unnamed: 0.1','Unnamed: 0'],inplace=True)"
      ]
    },
    {
      "cell_type": "code",
      "execution_count": null,
      "id": "8f9a4d1a",
      "metadata": {
        "id": "8f9a4d1a",
        "outputId": "71c2e591-145f-44b6-9067-51dcb8ab2642"
      },
      "outputs": [
        {
          "data": {
            "text/html": [
              "<div>\n",
              "<style scoped>\n",
              "    .dataframe tbody tr th:only-of-type {\n",
              "        vertical-align: middle;\n",
              "    }\n",
              "\n",
              "    .dataframe tbody tr th {\n",
              "        vertical-align: top;\n",
              "    }\n",
              "\n",
              "    .dataframe thead th {\n",
              "        text-align: right;\n",
              "    }\n",
              "</style>\n",
              "<table border=\"1\" class=\"dataframe\">\n",
              "  <thead>\n",
              "    <tr style=\"text-align: right;\">\n",
              "      <th></th>\n",
              "      <th>Company</th>\n",
              "      <th>TypeName</th>\n",
              "      <th>Inches</th>\n",
              "      <th>ScreenResolution</th>\n",
              "      <th>Cpu</th>\n",
              "      <th>Ram</th>\n",
              "      <th>Memory</th>\n",
              "      <th>Gpu</th>\n",
              "      <th>OpSys</th>\n",
              "      <th>Weight</th>\n",
              "      <th>Price</th>\n",
              "    </tr>\n",
              "  </thead>\n",
              "  <tbody>\n",
              "    <tr>\n",
              "      <th>0</th>\n",
              "      <td>Apple</td>\n",
              "      <td>Ultrabook</td>\n",
              "      <td>13.3</td>\n",
              "      <td>IPS Panel Retina Display 2560x1600</td>\n",
              "      <td>Intel Core i5 2.3GHz</td>\n",
              "      <td>8GB</td>\n",
              "      <td>128GB SSD</td>\n",
              "      <td>Intel Iris Plus Graphics 640</td>\n",
              "      <td>macOS</td>\n",
              "      <td>1.37kg</td>\n",
              "      <td>71378.6832</td>\n",
              "    </tr>\n",
              "    <tr>\n",
              "      <th>1</th>\n",
              "      <td>Apple</td>\n",
              "      <td>Ultrabook</td>\n",
              "      <td>13.3</td>\n",
              "      <td>1440x900</td>\n",
              "      <td>Intel Core i5 1.8GHz</td>\n",
              "      <td>8GB</td>\n",
              "      <td>128GB Flash Storage</td>\n",
              "      <td>Intel HD Graphics 6000</td>\n",
              "      <td>macOS</td>\n",
              "      <td>1.34kg</td>\n",
              "      <td>47895.5232</td>\n",
              "    </tr>\n",
              "    <tr>\n",
              "      <th>2</th>\n",
              "      <td>HP</td>\n",
              "      <td>Notebook</td>\n",
              "      <td>15.6</td>\n",
              "      <td>Full HD 1920x1080</td>\n",
              "      <td>Intel Core i5 7200U 2.5GHz</td>\n",
              "      <td>8GB</td>\n",
              "      <td>256GB SSD</td>\n",
              "      <td>Intel HD Graphics 620</td>\n",
              "      <td>No OS</td>\n",
              "      <td>1.86kg</td>\n",
              "      <td>30636.0000</td>\n",
              "    </tr>\n",
              "    <tr>\n",
              "      <th>3</th>\n",
              "      <td>Apple</td>\n",
              "      <td>Ultrabook</td>\n",
              "      <td>15.4</td>\n",
              "      <td>IPS Panel Retina Display 2880x1800</td>\n",
              "      <td>Intel Core i7 2.7GHz</td>\n",
              "      <td>16GB</td>\n",
              "      <td>512GB SSD</td>\n",
              "      <td>AMD Radeon Pro 455</td>\n",
              "      <td>macOS</td>\n",
              "      <td>1.83kg</td>\n",
              "      <td>135195.3360</td>\n",
              "    </tr>\n",
              "    <tr>\n",
              "      <th>4</th>\n",
              "      <td>Apple</td>\n",
              "      <td>Ultrabook</td>\n",
              "      <td>13.3</td>\n",
              "      <td>IPS Panel Retina Display 2560x1600</td>\n",
              "      <td>Intel Core i5 3.1GHz</td>\n",
              "      <td>8GB</td>\n",
              "      <td>256GB SSD</td>\n",
              "      <td>Intel Iris Plus Graphics 650</td>\n",
              "      <td>macOS</td>\n",
              "      <td>1.37kg</td>\n",
              "      <td>96095.8080</td>\n",
              "    </tr>\n",
              "  </tbody>\n",
              "</table>\n",
              "</div>"
            ],
            "text/plain": [
              "  Company   TypeName Inches                    ScreenResolution  \\\n",
              "0   Apple  Ultrabook   13.3  IPS Panel Retina Display 2560x1600   \n",
              "1   Apple  Ultrabook   13.3                            1440x900   \n",
              "2      HP   Notebook   15.6                   Full HD 1920x1080   \n",
              "3   Apple  Ultrabook   15.4  IPS Panel Retina Display 2880x1800   \n",
              "4   Apple  Ultrabook   13.3  IPS Panel Retina Display 2560x1600   \n",
              "\n",
              "                          Cpu   Ram               Memory  \\\n",
              "0        Intel Core i5 2.3GHz   8GB            128GB SSD   \n",
              "1        Intel Core i5 1.8GHz   8GB  128GB Flash Storage   \n",
              "2  Intel Core i5 7200U 2.5GHz   8GB            256GB SSD   \n",
              "3        Intel Core i7 2.7GHz  16GB            512GB SSD   \n",
              "4        Intel Core i5 3.1GHz   8GB            256GB SSD   \n",
              "\n",
              "                            Gpu  OpSys  Weight        Price  \n",
              "0  Intel Iris Plus Graphics 640  macOS  1.37kg   71378.6832  \n",
              "1        Intel HD Graphics 6000  macOS  1.34kg   47895.5232  \n",
              "2         Intel HD Graphics 620  No OS  1.86kg   30636.0000  \n",
              "3            AMD Radeon Pro 455  macOS  1.83kg  135195.3360  \n",
              "4  Intel Iris Plus Graphics 650  macOS  1.37kg   96095.8080  "
            ]
          },
          "execution_count": 146,
          "metadata": {},
          "output_type": "execute_result"
        }
      ],
      "source": [
        "df.head()"
      ]
    },
    {
      "cell_type": "code",
      "execution_count": null,
      "id": "79975823",
      "metadata": {
        "id": "79975823",
        "outputId": "70f0feef-fc7e-4f54-b927-f6198de0266f"
      },
      "outputs": [
        {
          "data": {
            "text/plain": [
              "(1303, 11)"
            ]
          },
          "execution_count": 147,
          "metadata": {},
          "output_type": "execute_result"
        }
      ],
      "source": [
        "df.shape"
      ]
    },
    {
      "cell_type": "markdown",
      "id": "6ace07f7",
      "metadata": {
        "id": "6ace07f7"
      },
      "source": [
        "# EDA"
      ]
    },
    {
      "cell_type": "code",
      "execution_count": null,
      "id": "52d5e5b5",
      "metadata": {
        "id": "52d5e5b5",
        "outputId": "f9a6504f-a68c-4c5d-f6ce-1fc084743901"
      },
      "outputs": [
        {
          "data": {
            "text/plain": [
              "58"
            ]
          },
          "execution_count": 148,
          "metadata": {},
          "output_type": "execute_result"
        }
      ],
      "source": [
        "df.duplicated().sum()"
      ]
    },
    {
      "cell_type": "code",
      "execution_count": null,
      "id": "1f82dd30",
      "metadata": {
        "id": "1f82dd30",
        "outputId": "594f8148-3351-42b6-87f3-ffb0b157f587"
      },
      "outputs": [
        {
          "name": "stdout",
          "output_type": "stream",
          "text": [
            "     Company            TypeName Inches  \\\n",
            "20       NaN                 NaN    NaN   \n",
            "46       NaN                 NaN    NaN   \n",
            "50       NaN                 NaN    NaN   \n",
            "115      NaN                 NaN    NaN   \n",
            "125      NaN                 NaN    NaN   \n",
            "...      ...                 ...    ...   \n",
            "1298  Lenovo  2 in 1 Convertible     14   \n",
            "1299  Lenovo  2 in 1 Convertible   13.3   \n",
            "1300  Lenovo            Notebook     14   \n",
            "1301      HP            Notebook   15.6   \n",
            "1302    Asus            Notebook   15.6   \n",
            "\n",
            "                                ScreenResolution  \\\n",
            "20                                           NaN   \n",
            "46                                           NaN   \n",
            "50                                           NaN   \n",
            "115                                          NaN   \n",
            "125                                          NaN   \n",
            "...                                          ...   \n",
            "1298   IPS Panel Full HD / Touchscreen 1920x1080   \n",
            "1299  IPS Panel Quad HD+ / Touchscreen 3200x1800   \n",
            "1300                                    1366x768   \n",
            "1301                                    1366x768   \n",
            "1302                                    1366x768   \n",
            "\n",
            "                                       Cpu   Ram              Memory  \\\n",
            "20                                     NaN   NaN                 NaN   \n",
            "46                                     NaN   NaN                 NaN   \n",
            "50                                     NaN   NaN                 NaN   \n",
            "115                                    NaN   NaN                 NaN   \n",
            "125                                    NaN   NaN                 NaN   \n",
            "...                                    ...   ...                 ...   \n",
            "1298            Intel Core i7 6500U 2.5GHz   4GB           128GB SSD   \n",
            "1299            Intel Core i7 6500U 2.5GHz  16GB           512GB SSD   \n",
            "1300  Intel Celeron Dual Core N3050 1.6GHz   2GB  64GB Flash Storage   \n",
            "1301            Intel Core i7 6500U 2.5GHz   6GB             1TB HDD   \n",
            "1302  Intel Celeron Dual Core N3050 1.6GHz   4GB           500GB HDD   \n",
            "\n",
            "                        Gpu       OpSys  Weight     Price  \n",
            "20                      NaN         NaN     NaN       NaN  \n",
            "46                      NaN         NaN     NaN       NaN  \n",
            "50                      NaN         NaN     NaN       NaN  \n",
            "115                     NaN         NaN     NaN       NaN  \n",
            "125                     NaN         NaN     NaN       NaN  \n",
            "...                     ...         ...     ...       ...  \n",
            "1298  Intel HD Graphics 520  Windows 10   1.8kg  33992.64  \n",
            "1299  Intel HD Graphics 520  Windows 10   1.3kg  79866.72  \n",
            "1300      Intel HD Graphics  Windows 10   1.5kg  12201.12  \n",
            "1301     AMD Radeon R5 M330  Windows 10  2.19kg  40705.92  \n",
            "1302      Intel HD Graphics  Windows 10   2.2kg  19660.32  \n",
            "\n",
            "[73 rows x 11 columns]\n"
          ]
        }
      ],
      "source": [
        "dupli=df[df.duplicated(keep=False)]\n",
        "print(dupli)"
      ]
    },
    {
      "cell_type": "code",
      "execution_count": null,
      "id": "2884e94f",
      "metadata": {
        "scrolled": false,
        "id": "2884e94f",
        "outputId": "7ac00df9-4357-420e-9fc2-7da6ecba56f9"
      },
      "outputs": [
        {
          "name": "stdout",
          "output_type": "stream",
          "text": [
            "Duplicate Group:\n",
            "     Company  TypeName Inches ScreenResolution  \\\n",
            "1263    Acer  Notebook   15.6         1366x768   \n",
            "1277    Acer  Notebook   15.6         1366x768   \n",
            "1291    Acer  Notebook   15.6         1366x768   \n",
            "\n",
            "                                       Cpu  Ram     Memory  \\\n",
            "1263  Intel Celeron Dual Core N3060 1.6GHz  4GB  500GB HDD   \n",
            "1277  Intel Celeron Dual Core N3060 1.6GHz  4GB  500GB HDD   \n",
            "1291  Intel Celeron Dual Core N3060 1.6GHz  4GB  500GB HDD   \n",
            "\n",
            "                        Gpu  OpSys Weight     Price  \n",
            "1263  Intel HD Graphics 400  Linux  2.4kg  15397.92  \n",
            "1277  Intel HD Graphics 400  Linux  2.4kg  15397.92  \n",
            "1291  Intel HD Graphics 400  Linux  2.4kg  15397.92  \n",
            "\n",
            "Duplicate Group:\n",
            "     Company  TypeName Inches ScreenResolution  \\\n",
            "1172    Asus  Notebook   15.6         1366x768   \n",
            "1274    Asus  Notebook   15.6         1366x768   \n",
            "1288    Asus  Notebook   15.6         1366x768   \n",
            "1302    Asus  Notebook   15.6         1366x768   \n",
            "\n",
            "                                       Cpu  Ram     Memory                Gpu  \\\n",
            "1172  Intel Celeron Dual Core N3050 1.6GHz  4GB  500GB HDD  Intel HD Graphics   \n",
            "1274  Intel Celeron Dual Core N3050 1.6GHz  4GB  500GB HDD  Intel HD Graphics   \n",
            "1288  Intel Celeron Dual Core N3050 1.6GHz  4GB  500GB HDD  Intel HD Graphics   \n",
            "1302  Intel Celeron Dual Core N3050 1.6GHz  4GB  500GB HDD  Intel HD Graphics   \n",
            "\n",
            "           OpSys Weight     Price  \n",
            "1172  Windows 10  2.2kg  19660.32  \n",
            "1274  Windows 10  2.2kg  19660.32  \n",
            "1288  Windows 10  2.2kg  19660.32  \n",
            "1302  Windows 10  2.2kg  19660.32  \n",
            "\n",
            "Duplicate Group:\n",
            "     Company  TypeName Inches ScreenResolution                         Cpu  \\\n",
            "1269    Asus  Notebook   15.6         1366x768  Intel Core i7 6500U 2.5GHz   \n",
            "1283    Asus  Notebook   15.6         1366x768  Intel Core i7 6500U 2.5GHz   \n",
            "1297    Asus  Notebook   15.6         1366x768  Intel Core i7 6500U 2.5GHz   \n",
            "\n",
            "      Ram     Memory                  Gpu       OpSys Weight       Price  \n",
            "1269  4GB  500GB HDD  Nvidia GeForce 920M  Windows 10  2.2kg  38378.6496  \n",
            "1283  4GB  500GB HDD  Nvidia GeForce 920M  Windows 10  2.2kg  38378.6496  \n",
            "1297  4GB  500GB HDD  Nvidia GeForce 920M  Windows 10  2.2kg  38378.6496  \n",
            "\n",
            "Duplicate Group:\n",
            "     Company   TypeName Inches             ScreenResolution  \\\n",
            "1261    Asus  Ultrabook   13.3  IPS Panel Full HD 1920x1080   \n",
            "1275    Asus  Ultrabook   13.3  IPS Panel Full HD 1920x1080   \n",
            "1289    Asus  Ultrabook   13.3  IPS Panel Full HD 1920x1080   \n",
            "\n",
            "                           Cpu  Ram     Memory                    Gpu  \\\n",
            "1261  Intel Core M 6Y30 0.9GHz  8GB  512GB SSD  Intel HD Graphics 515   \n",
            "1275  Intel Core M 6Y30 0.9GHz  8GB  512GB SSD  Intel HD Graphics 515   \n",
            "1289  Intel Core M 6Y30 0.9GHz  8GB  512GB SSD  Intel HD Graphics 515   \n",
            "\n",
            "           OpSys Weight     Price  \n",
            "1261  Windows 10  1.2kg  38841.12  \n",
            "1275  Windows 10  1.2kg  38841.12  \n",
            "1289  Windows 10  1.2kg  38841.12  \n",
            "\n",
            "Duplicate Group:\n",
            "     Company  TypeName Inches ScreenResolution  \\\n",
            "1264    Dell  Notebook   15.6         1366x768   \n",
            "1278    Dell  Notebook   15.6         1366x768   \n",
            "1292    Dell  Notebook   15.6         1366x768   \n",
            "\n",
            "                                       Cpu  Ram     Memory                Gpu  \\\n",
            "1264  Intel Celeron Dual Core N3050 1.6GHz  2GB  500GB HDD  Intel HD Graphics   \n",
            "1278  Intel Celeron Dual Core N3050 1.6GHz  2GB  500GB HDD  Intel HD Graphics   \n",
            "1292  Intel Celeron Dual Core N3050 1.6GHz  2GB  500GB HDD  Intel HD Graphics   \n",
            "\n",
            "           OpSys  Weight     Price  \n",
            "1264  Windows 10  2.20kg  20193.12  \n",
            "1278  Windows 10  2.20kg  20193.12  \n",
            "1292  Windows 10  2.20kg  20193.12  \n",
            "\n",
            "Duplicate Group:\n",
            "     Company  TypeName Inches ScreenResolution                         Cpu  \\\n",
            "1262    Dell  Notebook   15.6         1366x768  Intel Core i3 7100U 2.4GHz   \n",
            "1276    Dell  Notebook   15.6         1366x768  Intel Core i3 7100U 2.4GHz   \n",
            "1290    Dell  Notebook   15.6         1366x768  Intel Core i3 7100U 2.4GHz   \n",
            "\n",
            "      Ram   Memory                    Gpu       OpSys Weight     Price  \n",
            "1262  6GB  1TB HDD  Intel HD Graphics 620  Windows 10  2.3kg  24455.52  \n",
            "1276  6GB  1TB HDD  Intel HD Graphics 620  Windows 10  2.3kg  24455.52  \n",
            "1290  6GB  1TB HDD  Intel HD Graphics 620  Windows 10  2.3kg  24455.52  \n",
            "\n",
            "Duplicate Group:\n",
            "     Company  TypeName Inches ScreenResolution                         Cpu  \\\n",
            "1267    Dell  Notebook   15.6         1366x768  Intel Core i7 7500U 2.7GHz   \n",
            "1281    Dell  Notebook   15.6         1366x768  Intel Core i7 7500U 2.7GHz   \n",
            "1295    Dell  Notebook   15.6         1366x768  Intel Core i7 7500U 2.7GHz   \n",
            "\n",
            "      Ram   Memory                 Gpu  OpSys Weight       Price  \n",
            "1267  8GB  1TB HDD  AMD Radeon R5 M430  Linux  2.3kg  42943.1472  \n",
            "1281  8GB  1TB HDD  AMD Radeon R5 M430  Linux  2.3kg  42943.1472  \n",
            "1295  8GB  1TB HDD  AMD Radeon R5 M430  Linux  2.3kg  42943.1472  \n",
            "\n",
            "Duplicate Group:\n",
            "     Company TypeName Inches ScreenResolution  \\\n",
            "1268      HP  Netbook   11.6         1366x768   \n",
            "1282      HP  Netbook   11.6         1366x768   \n",
            "1296      HP  Netbook   11.6         1366x768   \n",
            "\n",
            "                                       Cpu  Ram              Memory  \\\n",
            "1268  Intel Celeron Dual Core N3060 1.6GHz  2GB  32GB Flash Storage   \n",
            "1282  Intel Celeron Dual Core N3060 1.6GHz  2GB  32GB Flash Storage   \n",
            "1296  Intel Celeron Dual Core N3060 1.6GHz  2GB  32GB Flash Storage   \n",
            "\n",
            "                        Gpu       OpSys  Weight     Price  \n",
            "1268  Intel HD Graphics 400  Windows 10  1.17kg  11135.52  \n",
            "1282  Intel HD Graphics 400  Windows 10  1.17kg  11135.52  \n",
            "1296  Intel HD Graphics 400  Windows 10  1.17kg  11135.52  \n",
            "\n",
            "Duplicate Group:\n",
            "     Company  TypeName Inches ScreenResolution                         Cpu  \\\n",
            "1273      HP  Notebook   15.6         1366x768  Intel Core i7 6500U 2.5GHz   \n",
            "1287      HP  Notebook   15.6         1366x768  Intel Core i7 6500U 2.5GHz   \n",
            "1301      HP  Notebook   15.6         1366x768  Intel Core i7 6500U 2.5GHz   \n",
            "\n",
            "      Ram   Memory                 Gpu       OpSys  Weight     Price  \n",
            "1273  6GB  1TB HDD  AMD Radeon R5 M330  Windows 10  2.19kg  40705.92  \n",
            "1287  6GB  1TB HDD  AMD Radeon R5 M330  Windows 10  2.19kg  40705.92  \n",
            "1301  6GB  1TB HDD  AMD Radeon R5 M330  Windows 10  2.19kg  40705.92  \n",
            "\n",
            "Duplicate Group:\n",
            "     Company  TypeName Inches   ScreenResolution                        Cpu  \\\n",
            "1266      HP  Notebook   15.6  Full HD 1920x1080  AMD A9-Series 9410 2.9GHz   \n",
            "1280      HP  Notebook   15.6  Full HD 1920x1080  AMD A9-Series 9410 2.9GHz   \n",
            "1294      HP  Notebook   15.6  Full HD 1920x1080  AMD A9-Series 9410 2.9GHz   \n",
            "\n",
            "      Ram        Memory                 Gpu       OpSys  Weight       Price  \n",
            "1266  6GB  1.0TB Hybrid  AMD Radeon R7 M440  Windows 10  2.04kg  29303.4672  \n",
            "1280  6GB  1.0TB Hybrid  AMD Radeon R7 M440  Windows 10  2.04kg  29303.4672  \n",
            "1294  6GB  1.0TB Hybrid  AMD Radeon R7 M440  Windows 10  2.04kg  29303.4672  \n",
            "\n",
            "Duplicate Group:\n",
            "     Company            TypeName Inches  \\\n",
            "1271  Lenovo  2 in 1 Convertible   13.3   \n",
            "1285  Lenovo  2 in 1 Convertible   13.3   \n",
            "1299  Lenovo  2 in 1 Convertible   13.3   \n",
            "\n",
            "                                ScreenResolution                         Cpu  \\\n",
            "1271  IPS Panel Quad HD+ / Touchscreen 3200x1800  Intel Core i7 6500U 2.5GHz   \n",
            "1285  IPS Panel Quad HD+ / Touchscreen 3200x1800  Intel Core i7 6500U 2.5GHz   \n",
            "1299  IPS Panel Quad HD+ / Touchscreen 3200x1800  Intel Core i7 6500U 2.5GHz   \n",
            "\n",
            "       Ram     Memory                    Gpu       OpSys Weight     Price  \n",
            "1271  16GB  512GB SSD  Intel HD Graphics 520  Windows 10  1.3kg  79866.72  \n",
            "1285  16GB  512GB SSD  Intel HD Graphics 520  Windows 10  1.3kg  79866.72  \n",
            "1299  16GB  512GB SSD  Intel HD Graphics 520  Windows 10  1.3kg  79866.72  \n",
            "\n",
            "Duplicate Group:\n",
            "     Company            TypeName Inches  \\\n",
            "1270  Lenovo  2 in 1 Convertible     14   \n",
            "1284  Lenovo  2 in 1 Convertible     14   \n",
            "1298  Lenovo  2 in 1 Convertible     14   \n",
            "\n",
            "                               ScreenResolution                         Cpu  \\\n",
            "1270  IPS Panel Full HD / Touchscreen 1920x1080  Intel Core i7 6500U 2.5GHz   \n",
            "1284  IPS Panel Full HD / Touchscreen 1920x1080  Intel Core i7 6500U 2.5GHz   \n",
            "1298  IPS Panel Full HD / Touchscreen 1920x1080  Intel Core i7 6500U 2.5GHz   \n",
            "\n",
            "      Ram     Memory                    Gpu       OpSys Weight     Price  \n",
            "1270  4GB  128GB SSD  Intel HD Graphics 520  Windows 10  1.8kg  33992.64  \n",
            "1284  4GB  128GB SSD  Intel HD Graphics 520  Windows 10  1.8kg  33992.64  \n",
            "1298  4GB  128GB SSD  Intel HD Graphics 520  Windows 10  1.8kg  33992.64  \n",
            "\n",
            "Duplicate Group:\n",
            "     Company  TypeName Inches ScreenResolution  \\\n",
            "1272  Lenovo  Notebook     14         1366x768   \n",
            "1286  Lenovo  Notebook     14         1366x768   \n",
            "1300  Lenovo  Notebook     14         1366x768   \n",
            "\n",
            "                                       Cpu  Ram              Memory  \\\n",
            "1272  Intel Celeron Dual Core N3050 1.6GHz  2GB  64GB Flash Storage   \n",
            "1286  Intel Celeron Dual Core N3050 1.6GHz  2GB  64GB Flash Storage   \n",
            "1300  Intel Celeron Dual Core N3050 1.6GHz  2GB  64GB Flash Storage   \n",
            "\n",
            "                    Gpu       OpSys Weight     Price  \n",
            "1272  Intel HD Graphics  Windows 10  1.5kg  12201.12  \n",
            "1286  Intel HD Graphics  Windows 10  1.5kg  12201.12  \n",
            "1300  Intel HD Graphics  Windows 10  1.5kg  12201.12  \n",
            "\n",
            "Duplicate Group:\n",
            "     Company  TypeName Inches             ScreenResolution  \\\n",
            "1265  Lenovo  Notebook   15.6  IPS Panel Full HD 1920x1080   \n",
            "1279  Lenovo  Notebook   15.6  IPS Panel Full HD 1920x1080   \n",
            "1293  Lenovo  Notebook   15.6  IPS Panel Full HD 1920x1080   \n",
            "\n",
            "                              Cpu  Ram   Memory                      Gpu  \\\n",
            "1265  Intel Core i7 6700HQ 2.6GHz  8GB  1TB HDD  Nvidia GeForce GTX 960M   \n",
            "1279  Intel Core i7 6700HQ 2.6GHz  8GB  1TB HDD  Nvidia GeForce GTX 960M   \n",
            "1293  Intel Core i7 6700HQ 2.6GHz  8GB  1TB HDD  Nvidia GeForce GTX 960M   \n",
            "\n",
            "           OpSys Weight     Price  \n",
            "1265  Windows 10  2.6kg  47898.72  \n",
            "1279  Windows 10  2.6kg  47898.72  \n",
            "1293  Windows 10  2.6kg  47898.72  \n",
            "\n"
          ]
        }
      ],
      "source": [
        "duplicate_pairs = df[df.duplicated(keep=False)]\n",
        "grouped_duplicates = duplicate_pairs.groupby(list(df.columns))\n",
        "\n",
        "for group, duplicates in grouped_duplicates:\n",
        "    print(\"Duplicate Group:\")\n",
        "    print(duplicates)\n",
        "    print()"
      ]
    },
    {
      "cell_type": "code",
      "execution_count": null,
      "id": "df9b3457",
      "metadata": {
        "id": "df9b3457"
      },
      "outputs": [],
      "source": [
        "df=df.drop_duplicates()"
      ]
    },
    {
      "cell_type": "code",
      "execution_count": null,
      "id": "1c71cbbc",
      "metadata": {
        "id": "1c71cbbc",
        "outputId": "c7f9f83b-4d3c-42d1-d874-0401d9434574"
      },
      "outputs": [
        {
          "data": {
            "text/html": [
              "<div>\n",
              "<style scoped>\n",
              "    .dataframe tbody tr th:only-of-type {\n",
              "        vertical-align: middle;\n",
              "    }\n",
              "\n",
              "    .dataframe tbody tr th {\n",
              "        vertical-align: top;\n",
              "    }\n",
              "\n",
              "    .dataframe thead th {\n",
              "        text-align: right;\n",
              "    }\n",
              "</style>\n",
              "<table border=\"1\" class=\"dataframe\">\n",
              "  <thead>\n",
              "    <tr style=\"text-align: right;\">\n",
              "      <th></th>\n",
              "      <th>Company</th>\n",
              "      <th>TypeName</th>\n",
              "      <th>Inches</th>\n",
              "      <th>ScreenResolution</th>\n",
              "      <th>Cpu</th>\n",
              "      <th>Ram</th>\n",
              "      <th>Memory</th>\n",
              "      <th>Gpu</th>\n",
              "      <th>OpSys</th>\n",
              "      <th>Weight</th>\n",
              "      <th>Price</th>\n",
              "    </tr>\n",
              "  </thead>\n",
              "  <tbody>\n",
              "    <tr>\n",
              "      <th>0</th>\n",
              "      <td>Apple</td>\n",
              "      <td>Ultrabook</td>\n",
              "      <td>13.3</td>\n",
              "      <td>IPS Panel Retina Display 2560x1600</td>\n",
              "      <td>Intel Core i5 2.3GHz</td>\n",
              "      <td>8GB</td>\n",
              "      <td>128GB SSD</td>\n",
              "      <td>Intel Iris Plus Graphics 640</td>\n",
              "      <td>macOS</td>\n",
              "      <td>1.37kg</td>\n",
              "      <td>71378.6832</td>\n",
              "    </tr>\n",
              "    <tr>\n",
              "      <th>1</th>\n",
              "      <td>Apple</td>\n",
              "      <td>Ultrabook</td>\n",
              "      <td>13.3</td>\n",
              "      <td>1440x900</td>\n",
              "      <td>Intel Core i5 1.8GHz</td>\n",
              "      <td>8GB</td>\n",
              "      <td>128GB Flash Storage</td>\n",
              "      <td>Intel HD Graphics 6000</td>\n",
              "      <td>macOS</td>\n",
              "      <td>1.34kg</td>\n",
              "      <td>47895.5232</td>\n",
              "    </tr>\n",
              "    <tr>\n",
              "      <th>2</th>\n",
              "      <td>HP</td>\n",
              "      <td>Notebook</td>\n",
              "      <td>15.6</td>\n",
              "      <td>Full HD 1920x1080</td>\n",
              "      <td>Intel Core i5 7200U 2.5GHz</td>\n",
              "      <td>8GB</td>\n",
              "      <td>256GB SSD</td>\n",
              "      <td>Intel HD Graphics 620</td>\n",
              "      <td>No OS</td>\n",
              "      <td>1.86kg</td>\n",
              "      <td>30636.0000</td>\n",
              "    </tr>\n",
              "    <tr>\n",
              "      <th>3</th>\n",
              "      <td>Apple</td>\n",
              "      <td>Ultrabook</td>\n",
              "      <td>15.4</td>\n",
              "      <td>IPS Panel Retina Display 2880x1800</td>\n",
              "      <td>Intel Core i7 2.7GHz</td>\n",
              "      <td>16GB</td>\n",
              "      <td>512GB SSD</td>\n",
              "      <td>AMD Radeon Pro 455</td>\n",
              "      <td>macOS</td>\n",
              "      <td>1.83kg</td>\n",
              "      <td>135195.3360</td>\n",
              "    </tr>\n",
              "    <tr>\n",
              "      <th>4</th>\n",
              "      <td>Apple</td>\n",
              "      <td>Ultrabook</td>\n",
              "      <td>13.3</td>\n",
              "      <td>IPS Panel Retina Display 2560x1600</td>\n",
              "      <td>Intel Core i5 3.1GHz</td>\n",
              "      <td>8GB</td>\n",
              "      <td>256GB SSD</td>\n",
              "      <td>Intel Iris Plus Graphics 650</td>\n",
              "      <td>macOS</td>\n",
              "      <td>1.37kg</td>\n",
              "      <td>96095.8080</td>\n",
              "    </tr>\n",
              "  </tbody>\n",
              "</table>\n",
              "</div>"
            ],
            "text/plain": [
              "  Company   TypeName Inches                    ScreenResolution  \\\n",
              "0   Apple  Ultrabook   13.3  IPS Panel Retina Display 2560x1600   \n",
              "1   Apple  Ultrabook   13.3                            1440x900   \n",
              "2      HP   Notebook   15.6                   Full HD 1920x1080   \n",
              "3   Apple  Ultrabook   15.4  IPS Panel Retina Display 2880x1800   \n",
              "4   Apple  Ultrabook   13.3  IPS Panel Retina Display 2560x1600   \n",
              "\n",
              "                          Cpu   Ram               Memory  \\\n",
              "0        Intel Core i5 2.3GHz   8GB            128GB SSD   \n",
              "1        Intel Core i5 1.8GHz   8GB  128GB Flash Storage   \n",
              "2  Intel Core i5 7200U 2.5GHz   8GB            256GB SSD   \n",
              "3        Intel Core i7 2.7GHz  16GB            512GB SSD   \n",
              "4        Intel Core i5 3.1GHz   8GB            256GB SSD   \n",
              "\n",
              "                            Gpu  OpSys  Weight        Price  \n",
              "0  Intel Iris Plus Graphics 640  macOS  1.37kg   71378.6832  \n",
              "1        Intel HD Graphics 6000  macOS  1.34kg   47895.5232  \n",
              "2         Intel HD Graphics 620  No OS  1.86kg   30636.0000  \n",
              "3            AMD Radeon Pro 455  macOS  1.83kg  135195.3360  \n",
              "4  Intel Iris Plus Graphics 650  macOS  1.37kg   96095.8080  "
            ]
          },
          "execution_count": 152,
          "metadata": {},
          "output_type": "execute_result"
        }
      ],
      "source": [
        "df.head()"
      ]
    },
    {
      "cell_type": "code",
      "execution_count": null,
      "id": "d39abe03",
      "metadata": {
        "id": "d39abe03",
        "outputId": "69b7766b-920d-4a64-8726-801a93399cba"
      },
      "outputs": [
        {
          "data": {
            "text/plain": [
              "Company             1\n",
              "TypeName            1\n",
              "Inches              1\n",
              "ScreenResolution    1\n",
              "Cpu                 1\n",
              "Ram                 1\n",
              "Memory              1\n",
              "Gpu                 1\n",
              "OpSys               1\n",
              "Weight              1\n",
              "Price               1\n",
              "dtype: int64"
            ]
          },
          "execution_count": 153,
          "metadata": {},
          "output_type": "execute_result"
        }
      ],
      "source": [
        "df.isna().sum()"
      ]
    },
    {
      "cell_type": "code",
      "execution_count": null,
      "id": "c81475ba",
      "metadata": {
        "id": "c81475ba"
      },
      "outputs": [],
      "source": [
        "df=df.dropna()"
      ]
    },
    {
      "cell_type": "code",
      "execution_count": null,
      "id": "68be296b",
      "metadata": {
        "id": "68be296b",
        "outputId": "57a89b76-d917-49f6-d30c-0591c19a931c"
      },
      "outputs": [
        {
          "data": {
            "text/plain": [
              "Company             0\n",
              "TypeName            0\n",
              "Inches              0\n",
              "ScreenResolution    0\n",
              "Cpu                 0\n",
              "Ram                 0\n",
              "Memory              0\n",
              "Gpu                 0\n",
              "OpSys               0\n",
              "Weight              0\n",
              "Price               0\n",
              "dtype: int64"
            ]
          },
          "execution_count": 155,
          "metadata": {},
          "output_type": "execute_result"
        }
      ],
      "source": [
        "df.isna().sum()"
      ]
    },
    {
      "cell_type": "code",
      "execution_count": null,
      "id": "0042954f",
      "metadata": {
        "id": "0042954f",
        "outputId": "8aaeb629-7ee7-4b95-d280-5ea76fd5dbba"
      },
      "outputs": [
        {
          "data": {
            "text/plain": [
              "(1244, 11)"
            ]
          },
          "execution_count": 156,
          "metadata": {},
          "output_type": "execute_result"
        }
      ],
      "source": [
        "df.shape"
      ]
    },
    {
      "cell_type": "code",
      "execution_count": null,
      "id": "368f01e6",
      "metadata": {
        "id": "368f01e6",
        "outputId": "cdd10ebc-a649-472b-b65a-6438ffd2c5ee"
      },
      "outputs": [
        {
          "name": "stdout",
          "output_type": "stream",
          "text": [
            "<class 'pandas.core.frame.DataFrame'>\n",
            "Int64Index: 1244 entries, 0 to 1273\n",
            "Data columns (total 11 columns):\n",
            " #   Column            Non-Null Count  Dtype  \n",
            "---  ------            --------------  -----  \n",
            " 0   Company           1244 non-null   object \n",
            " 1   TypeName          1244 non-null   object \n",
            " 2   Inches            1244 non-null   object \n",
            " 3   ScreenResolution  1244 non-null   object \n",
            " 4   Cpu               1244 non-null   object \n",
            " 5   Ram               1244 non-null   object \n",
            " 6   Memory            1244 non-null   object \n",
            " 7   Gpu               1244 non-null   object \n",
            " 8   OpSys             1244 non-null   object \n",
            " 9   Weight            1244 non-null   object \n",
            " 10  Price             1244 non-null   float64\n",
            "dtypes: float64(1), object(10)\n",
            "memory usage: 116.6+ KB\n"
          ]
        }
      ],
      "source": [
        "df.info()"
      ]
    },
    {
      "cell_type": "code",
      "execution_count": null,
      "id": "e7fb574f",
      "metadata": {
        "id": "e7fb574f"
      },
      "outputs": [],
      "source": [
        "df['Ram']=df['Ram'].str.replace('GB','')"
      ]
    },
    {
      "cell_type": "code",
      "execution_count": null,
      "id": "f82eced8",
      "metadata": {
        "id": "f82eced8"
      },
      "outputs": [],
      "source": [
        "df['Ram']=df['Ram'].astype('float')"
      ]
    },
    {
      "cell_type": "code",
      "execution_count": null,
      "id": "417fbbfe",
      "metadata": {
        "id": "417fbbfe",
        "outputId": "e4757fec-b2a7-4bd9-fcdf-e3d32b864a0d"
      },
      "outputs": [
        {
          "data": {
            "text/plain": [
              "2.2kg     106\n",
              "2.1kg      57\n",
              "2.4kg      41\n",
              "2.5kg      37\n",
              "2.3kg      37\n",
              "         ... \n",
              "1.41kg      1\n",
              "3.6kg       1\n",
              "4.7kg       1\n",
              "4.33kg      1\n",
              "4.0kg       1\n",
              "Name: Weight, Length: 189, dtype: int64"
            ]
          },
          "execution_count": 160,
          "metadata": {},
          "output_type": "execute_result"
        }
      ],
      "source": [
        "df['Weight'].value_counts()"
      ]
    },
    {
      "cell_type": "code",
      "execution_count": null,
      "id": "eb2c1897",
      "metadata": {
        "id": "eb2c1897"
      },
      "outputs": [],
      "source": [
        "df['Weight']=df['Weight'].str.replace('kg','')"
      ]
    },
    {
      "cell_type": "code",
      "execution_count": null,
      "id": "a879fd34",
      "metadata": {
        "id": "a879fd34",
        "outputId": "708b430f-07de-4f70-d9df-fbe94c4617cc"
      },
      "outputs": [
        {
          "data": {
            "text/html": [
              "<div>\n",
              "<style scoped>\n",
              "    .dataframe tbody tr th:only-of-type {\n",
              "        vertical-align: middle;\n",
              "    }\n",
              "\n",
              "    .dataframe tbody tr th {\n",
              "        vertical-align: top;\n",
              "    }\n",
              "\n",
              "    .dataframe thead th {\n",
              "        text-align: right;\n",
              "    }\n",
              "</style>\n",
              "<table border=\"1\" class=\"dataframe\">\n",
              "  <thead>\n",
              "    <tr style=\"text-align: right;\">\n",
              "      <th></th>\n",
              "      <th>Company</th>\n",
              "      <th>TypeName</th>\n",
              "      <th>Inches</th>\n",
              "      <th>ScreenResolution</th>\n",
              "      <th>Cpu</th>\n",
              "      <th>Ram</th>\n",
              "      <th>Memory</th>\n",
              "      <th>Gpu</th>\n",
              "      <th>OpSys</th>\n",
              "      <th>Weight</th>\n",
              "      <th>Price</th>\n",
              "    </tr>\n",
              "  </thead>\n",
              "  <tbody>\n",
              "    <tr>\n",
              "      <th>208</th>\n",
              "      <td>Dell</td>\n",
              "      <td>Ultrabook</td>\n",
              "      <td>13.3</td>\n",
              "      <td>Full HD 1920x1080</td>\n",
              "      <td>Intel Core i7 8550U 1.8GHz</td>\n",
              "      <td>8.0</td>\n",
              "      <td>256GB SSD</td>\n",
              "      <td>Intel UHD Graphics 620</td>\n",
              "      <td>Windows 10</td>\n",
              "      <td>?</td>\n",
              "      <td>77202.72</td>\n",
              "    </tr>\n",
              "  </tbody>\n",
              "</table>\n",
              "</div>"
            ],
            "text/plain": [
              "    Company   TypeName Inches   ScreenResolution                         Cpu  \\\n",
              "208    Dell  Ultrabook   13.3  Full HD 1920x1080  Intel Core i7 8550U 1.8GHz   \n",
              "\n",
              "     Ram     Memory                     Gpu       OpSys Weight     Price  \n",
              "208  8.0  256GB SSD  Intel UHD Graphics 620  Windows 10      ?  77202.72  "
            ]
          },
          "execution_count": 162,
          "metadata": {},
          "output_type": "execute_result"
        }
      ],
      "source": [
        "df[df['Weight']=='?']"
      ]
    },
    {
      "cell_type": "code",
      "execution_count": null,
      "id": "eab8ad4a",
      "metadata": {
        "id": "eab8ad4a"
      },
      "outputs": [],
      "source": [
        "df['Weight']=df['Weight'].replace('?',np.nan)"
      ]
    },
    {
      "cell_type": "code",
      "execution_count": null,
      "id": "36181bf2",
      "metadata": {
        "id": "36181bf2"
      },
      "outputs": [],
      "source": [
        "df['Weight']=df['Weight'].astype(float)"
      ]
    },
    {
      "cell_type": "code",
      "execution_count": null,
      "id": "69f42421",
      "metadata": {
        "id": "69f42421",
        "outputId": "b7b05b22-b1f5-45f3-d404-805a164234ed"
      },
      "outputs": [
        {
          "data": {
            "text/html": [
              "<div>\n",
              "<style scoped>\n",
              "    .dataframe tbody tr th:only-of-type {\n",
              "        vertical-align: middle;\n",
              "    }\n",
              "\n",
              "    .dataframe tbody tr th {\n",
              "        vertical-align: top;\n",
              "    }\n",
              "\n",
              "    .dataframe thead th {\n",
              "        text-align: right;\n",
              "    }\n",
              "</style>\n",
              "<table border=\"1\" class=\"dataframe\">\n",
              "  <thead>\n",
              "    <tr style=\"text-align: right;\">\n",
              "      <th></th>\n",
              "      <th>Company</th>\n",
              "      <th>TypeName</th>\n",
              "      <th>Inches</th>\n",
              "      <th>ScreenResolution</th>\n",
              "      <th>Cpu</th>\n",
              "      <th>Ram</th>\n",
              "      <th>Memory</th>\n",
              "      <th>Gpu</th>\n",
              "      <th>OpSys</th>\n",
              "      <th>Weight</th>\n",
              "      <th>Price</th>\n",
              "    </tr>\n",
              "  </thead>\n",
              "  <tbody>\n",
              "    <tr>\n",
              "      <th>0</th>\n",
              "      <td>Apple</td>\n",
              "      <td>Ultrabook</td>\n",
              "      <td>13.3</td>\n",
              "      <td>IPS Panel Retina Display 2560x1600</td>\n",
              "      <td>Intel Core i5 2.3GHz</td>\n",
              "      <td>8.0</td>\n",
              "      <td>128GB SSD</td>\n",
              "      <td>Intel Iris Plus Graphics 640</td>\n",
              "      <td>macOS</td>\n",
              "      <td>1.37</td>\n",
              "      <td>71378.6832</td>\n",
              "    </tr>\n",
              "    <tr>\n",
              "      <th>1</th>\n",
              "      <td>Apple</td>\n",
              "      <td>Ultrabook</td>\n",
              "      <td>13.3</td>\n",
              "      <td>1440x900</td>\n",
              "      <td>Intel Core i5 1.8GHz</td>\n",
              "      <td>8.0</td>\n",
              "      <td>128GB Flash Storage</td>\n",
              "      <td>Intel HD Graphics 6000</td>\n",
              "      <td>macOS</td>\n",
              "      <td>1.34</td>\n",
              "      <td>47895.5232</td>\n",
              "    </tr>\n",
              "    <tr>\n",
              "      <th>2</th>\n",
              "      <td>HP</td>\n",
              "      <td>Notebook</td>\n",
              "      <td>15.6</td>\n",
              "      <td>Full HD 1920x1080</td>\n",
              "      <td>Intel Core i5 7200U 2.5GHz</td>\n",
              "      <td>8.0</td>\n",
              "      <td>256GB SSD</td>\n",
              "      <td>Intel HD Graphics 620</td>\n",
              "      <td>No OS</td>\n",
              "      <td>1.86</td>\n",
              "      <td>30636.0000</td>\n",
              "    </tr>\n",
              "    <tr>\n",
              "      <th>3</th>\n",
              "      <td>Apple</td>\n",
              "      <td>Ultrabook</td>\n",
              "      <td>15.4</td>\n",
              "      <td>IPS Panel Retina Display 2880x1800</td>\n",
              "      <td>Intel Core i7 2.7GHz</td>\n",
              "      <td>16.0</td>\n",
              "      <td>512GB SSD</td>\n",
              "      <td>AMD Radeon Pro 455</td>\n",
              "      <td>macOS</td>\n",
              "      <td>1.83</td>\n",
              "      <td>135195.3360</td>\n",
              "    </tr>\n",
              "    <tr>\n",
              "      <th>4</th>\n",
              "      <td>Apple</td>\n",
              "      <td>Ultrabook</td>\n",
              "      <td>13.3</td>\n",
              "      <td>IPS Panel Retina Display 2560x1600</td>\n",
              "      <td>Intel Core i5 3.1GHz</td>\n",
              "      <td>8.0</td>\n",
              "      <td>256GB SSD</td>\n",
              "      <td>Intel Iris Plus Graphics 650</td>\n",
              "      <td>macOS</td>\n",
              "      <td>1.37</td>\n",
              "      <td>96095.8080</td>\n",
              "    </tr>\n",
              "  </tbody>\n",
              "</table>\n",
              "</div>"
            ],
            "text/plain": [
              "  Company   TypeName Inches                    ScreenResolution  \\\n",
              "0   Apple  Ultrabook   13.3  IPS Panel Retina Display 2560x1600   \n",
              "1   Apple  Ultrabook   13.3                            1440x900   \n",
              "2      HP   Notebook   15.6                   Full HD 1920x1080   \n",
              "3   Apple  Ultrabook   15.4  IPS Panel Retina Display 2880x1800   \n",
              "4   Apple  Ultrabook   13.3  IPS Panel Retina Display 2560x1600   \n",
              "\n",
              "                          Cpu   Ram               Memory  \\\n",
              "0        Intel Core i5 2.3GHz   8.0            128GB SSD   \n",
              "1        Intel Core i5 1.8GHz   8.0  128GB Flash Storage   \n",
              "2  Intel Core i5 7200U 2.5GHz   8.0            256GB SSD   \n",
              "3        Intel Core i7 2.7GHz  16.0            512GB SSD   \n",
              "4        Intel Core i5 3.1GHz   8.0            256GB SSD   \n",
              "\n",
              "                            Gpu  OpSys  Weight        Price  \n",
              "0  Intel Iris Plus Graphics 640  macOS    1.37   71378.6832  \n",
              "1        Intel HD Graphics 6000  macOS    1.34   47895.5232  \n",
              "2         Intel HD Graphics 620  No OS    1.86   30636.0000  \n",
              "3            AMD Radeon Pro 455  macOS    1.83  135195.3360  \n",
              "4  Intel Iris Plus Graphics 650  macOS    1.37   96095.8080  "
            ]
          },
          "execution_count": 165,
          "metadata": {},
          "output_type": "execute_result"
        }
      ],
      "source": [
        "df.head()"
      ]
    },
    {
      "cell_type": "code",
      "execution_count": null,
      "id": "14edbac1",
      "metadata": {
        "id": "14edbac1",
        "outputId": "1f927ec4-4525-46a0-d65d-75cb1bddff11"
      },
      "outputs": [
        {
          "data": {
            "text/plain": [
              "Company             0\n",
              "TypeName            0\n",
              "Inches              0\n",
              "ScreenResolution    0\n",
              "Cpu                 0\n",
              "Ram                 0\n",
              "Memory              0\n",
              "Gpu                 0\n",
              "OpSys               0\n",
              "Weight              1\n",
              "Price               0\n",
              "dtype: int64"
            ]
          },
          "execution_count": 166,
          "metadata": {},
          "output_type": "execute_result"
        }
      ],
      "source": [
        "df.isna().sum()"
      ]
    },
    {
      "cell_type": "code",
      "execution_count": null,
      "id": "aeab713a",
      "metadata": {
        "id": "aeab713a",
        "outputId": "2d6e34cf-d84a-4f11-e429-e9d34b509611"
      },
      "outputs": [
        {
          "data": {
            "text/plain": [
              "<AxesSubplot:ylabel='Weight'>"
            ]
          },
          "execution_count": 167,
          "metadata": {},
          "output_type": "execute_result"
        },
        {
          "data": {
            "image/png": "[encoded data removed]",
            "text/plain": [
              "<Figure size 640x480 with 1 Axes>"
            ]
          },
          "metadata": {},
          "output_type": "display_data"
        }
      ],
      "source": [
        "sns.boxplot(y=df['Weight'],data=df)"
      ]
    },
    {
      "cell_type": "code",
      "execution_count": null,
      "id": "f7b779f8",
      "metadata": {
        "id": "f7b779f8"
      },
      "outputs": [],
      "source": [
        "df['Weight']=df['Weight'].fillna(df['Weight'].median())"
      ]
    },
    {
      "cell_type": "code",
      "execution_count": null,
      "id": "e303604a",
      "metadata": {
        "id": "e303604a"
      },
      "outputs": [],
      "source": [
        "df['Inches']=df['Inches'].replace('?',np.nan)"
      ]
    },
    {
      "cell_type": "code",
      "execution_count": null,
      "id": "063af868",
      "metadata": {
        "id": "063af868"
      },
      "outputs": [],
      "source": [
        "df['Inches']=df['Inches'].astype('float')"
      ]
    },
    {
      "cell_type": "code",
      "execution_count": null,
      "id": "3b8e26ee",
      "metadata": {
        "id": "3b8e26ee",
        "outputId": "890aff25-b766-4ea3-d515-9bf6563b2c34"
      },
      "outputs": [
        {
          "data": {
            "text/plain": [
              "<AxesSubplot:ylabel='Inches'>"
            ]
          },
          "execution_count": 171,
          "metadata": {},
          "output_type": "execute_result"
        },
        {
          "data": {
            "image/png": "[encoded data removed]",
            "text/plain": [
              "<Figure size 640x480 with 1 Axes>"
            ]
          },
          "metadata": {},
          "output_type": "display_data"
        }
      ],
      "source": [
        "sns.boxplot(y=df['Inches'],data=df)"
      ]
    },
    {
      "cell_type": "code",
      "execution_count": null,
      "id": "835562ba",
      "metadata": {
        "id": "835562ba"
      },
      "outputs": [],
      "source": [
        "df['Inches']=df['Inches'].fillna(df['Inches'].median())"
      ]
    },
    {
      "cell_type": "code",
      "execution_count": null,
      "id": "2e3d7d76",
      "metadata": {
        "id": "2e3d7d76"
      },
      "outputs": [],
      "source": [
        "df=df.reset_index()\n",
        "df=df.drop(columns=['index'])"
      ]
    },
    {
      "cell_type": "code",
      "execution_count": null,
      "id": "5f57703b",
      "metadata": {
        "id": "5f57703b",
        "outputId": "4db33c1c-a5b1-40e5-e912-e4f5b3cee257"
      },
      "outputs": [
        {
          "name": "stdout",
          "output_type": "stream",
          "text": [
            "<class 'pandas.core.frame.DataFrame'>\n",
            "RangeIndex: 1244 entries, 0 to 1243\n",
            "Data columns (total 11 columns):\n",
            " #   Column            Non-Null Count  Dtype  \n",
            "---  ------            --------------  -----  \n",
            " 0   Company           1244 non-null   object \n",
            " 1   TypeName          1244 non-null   object \n",
            " 2   Inches            1244 non-null   float64\n",
            " 3   ScreenResolution  1244 non-null   object \n",
            " 4   Cpu               1244 non-null   object \n",
            " 5   Ram               1244 non-null   float64\n",
            " 6   Memory            1244 non-null   object \n",
            " 7   Gpu               1244 non-null   object \n",
            " 8   OpSys             1244 non-null   object \n",
            " 9   Weight            1244 non-null   float64\n",
            " 10  Price             1244 non-null   float64\n",
            "dtypes: float64(4), object(7)\n",
            "memory usage: 107.0+ KB\n"
          ]
        }
      ],
      "source": [
        "df.info()"
      ]
    },
    {
      "cell_type": "code",
      "execution_count": null,
      "id": "0cfcfe62",
      "metadata": {
        "id": "0cfcfe62",
        "outputId": "ae4c6cce-cdd7-480f-af02-a916ab8846d9"
      },
      "outputs": [
        {
          "data": {
            "text/html": [
              "<div>\n",
              "<style scoped>\n",
              "    .dataframe tbody tr th:only-of-type {\n",
              "        vertical-align: middle;\n",
              "    }\n",
              "\n",
              "    .dataframe tbody tr th {\n",
              "        vertical-align: top;\n",
              "    }\n",
              "\n",
              "    .dataframe thead th {\n",
              "        text-align: right;\n",
              "    }\n",
              "</style>\n",
              "<table border=\"1\" class=\"dataframe\">\n",
              "  <thead>\n",
              "    <tr style=\"text-align: right;\">\n",
              "      <th></th>\n",
              "      <th>Company</th>\n",
              "      <th>TypeName</th>\n",
              "      <th>Inches</th>\n",
              "      <th>ScreenResolution</th>\n",
              "      <th>Cpu</th>\n",
              "      <th>Ram</th>\n",
              "      <th>Memory</th>\n",
              "      <th>Gpu</th>\n",
              "      <th>OpSys</th>\n",
              "      <th>Weight</th>\n",
              "      <th>Price</th>\n",
              "    </tr>\n",
              "  </thead>\n",
              "  <tbody>\n",
              "    <tr>\n",
              "      <th>0</th>\n",
              "      <td>Apple</td>\n",
              "      <td>Ultrabook</td>\n",
              "      <td>13.3</td>\n",
              "      <td>IPS Panel Retina Display 2560x1600</td>\n",
              "      <td>Intel Core i5 2.3GHz</td>\n",
              "      <td>8.0</td>\n",
              "      <td>128GB SSD</td>\n",
              "      <td>Intel Iris Plus Graphics 640</td>\n",
              "      <td>macOS</td>\n",
              "      <td>1.37</td>\n",
              "      <td>71378.6832</td>\n",
              "    </tr>\n",
              "    <tr>\n",
              "      <th>1</th>\n",
              "      <td>Apple</td>\n",
              "      <td>Ultrabook</td>\n",
              "      <td>13.3</td>\n",
              "      <td>1440x900</td>\n",
              "      <td>Intel Core i5 1.8GHz</td>\n",
              "      <td>8.0</td>\n",
              "      <td>128GB Flash Storage</td>\n",
              "      <td>Intel HD Graphics 6000</td>\n",
              "      <td>macOS</td>\n",
              "      <td>1.34</td>\n",
              "      <td>47895.5232</td>\n",
              "    </tr>\n",
              "    <tr>\n",
              "      <th>2</th>\n",
              "      <td>HP</td>\n",
              "      <td>Notebook</td>\n",
              "      <td>15.6</td>\n",
              "      <td>Full HD 1920x1080</td>\n",
              "      <td>Intel Core i5 7200U 2.5GHz</td>\n",
              "      <td>8.0</td>\n",
              "      <td>256GB SSD</td>\n",
              "      <td>Intel HD Graphics 620</td>\n",
              "      <td>No OS</td>\n",
              "      <td>1.86</td>\n",
              "      <td>30636.0000</td>\n",
              "    </tr>\n",
              "    <tr>\n",
              "      <th>3</th>\n",
              "      <td>Apple</td>\n",
              "      <td>Ultrabook</td>\n",
              "      <td>15.4</td>\n",
              "      <td>IPS Panel Retina Display 2880x1800</td>\n",
              "      <td>Intel Core i7 2.7GHz</td>\n",
              "      <td>16.0</td>\n",
              "      <td>512GB SSD</td>\n",
              "      <td>AMD Radeon Pro 455</td>\n",
              "      <td>macOS</td>\n",
              "      <td>1.83</td>\n",
              "      <td>135195.3360</td>\n",
              "    </tr>\n",
              "    <tr>\n",
              "      <th>4</th>\n",
              "      <td>Apple</td>\n",
              "      <td>Ultrabook</td>\n",
              "      <td>13.3</td>\n",
              "      <td>IPS Panel Retina Display 2560x1600</td>\n",
              "      <td>Intel Core i5 3.1GHz</td>\n",
              "      <td>8.0</td>\n",
              "      <td>256GB SSD</td>\n",
              "      <td>Intel Iris Plus Graphics 650</td>\n",
              "      <td>macOS</td>\n",
              "      <td>1.37</td>\n",
              "      <td>96095.8080</td>\n",
              "    </tr>\n",
              "  </tbody>\n",
              "</table>\n",
              "</div>"
            ],
            "text/plain": [
              "  Company   TypeName  Inches                    ScreenResolution  \\\n",
              "0   Apple  Ultrabook    13.3  IPS Panel Retina Display 2560x1600   \n",
              "1   Apple  Ultrabook    13.3                            1440x900   \n",
              "2      HP   Notebook    15.6                   Full HD 1920x1080   \n",
              "3   Apple  Ultrabook    15.4  IPS Panel Retina Display 2880x1800   \n",
              "4   Apple  Ultrabook    13.3  IPS Panel Retina Display 2560x1600   \n",
              "\n",
              "                          Cpu   Ram               Memory  \\\n",
              "0        Intel Core i5 2.3GHz   8.0            128GB SSD   \n",
              "1        Intel Core i5 1.8GHz   8.0  128GB Flash Storage   \n",
              "2  Intel Core i5 7200U 2.5GHz   8.0            256GB SSD   \n",
              "3        Intel Core i7 2.7GHz  16.0            512GB SSD   \n",
              "4        Intel Core i5 3.1GHz   8.0            256GB SSD   \n",
              "\n",
              "                            Gpu  OpSys  Weight        Price  \n",
              "0  Intel Iris Plus Graphics 640  macOS    1.37   71378.6832  \n",
              "1        Intel HD Graphics 6000  macOS    1.34   47895.5232  \n",
              "2         Intel HD Graphics 620  No OS    1.86   30636.0000  \n",
              "3            AMD Radeon Pro 455  macOS    1.83  135195.3360  \n",
              "4  Intel Iris Plus Graphics 650  macOS    1.37   96095.8080  "
            ]
          },
          "execution_count": 175,
          "metadata": {},
          "output_type": "execute_result"
        }
      ],
      "source": [
        "df.head()"
      ]
    },
    {
      "cell_type": "code",
      "execution_count": null,
      "id": "9cfecfc2",
      "metadata": {
        "id": "9cfecfc2",
        "outputId": "5040e3bd-63e0-4d29-bbd3-6dd6670c6b6c"
      },
      "outputs": [
        {
          "data": {
            "text/plain": [
              "(1244, 11)"
            ]
          },
          "execution_count": 176,
          "metadata": {},
          "output_type": "execute_result"
        }
      ],
      "source": [
        "df.shape"
      ]
    },
    {
      "cell_type": "code",
      "execution_count": null,
      "id": "8615083e",
      "metadata": {
        "id": "8615083e",
        "outputId": "279cddc5-53dc-4530-93e8-cefc619c1242"
      },
      "outputs": [
        {
          "data": {
            "text/plain": [
              "Windows 10      1022\n",
              "No OS             63\n",
              "Linux             57\n",
              "Windows 7         45\n",
              "Chrome OS         27\n",
              "macOS             13\n",
              "Mac OS X           8\n",
              "Windows 10 S       8\n",
              "Android            1\n",
              "Name: OpSys, dtype: int64"
            ]
          },
          "execution_count": 177,
          "metadata": {},
          "output_type": "execute_result"
        }
      ],
      "source": [
        "df['OpSys'].value_counts()"
      ]
    },
    {
      "cell_type": "code",
      "execution_count": null,
      "id": "e6fd8797",
      "metadata": {
        "id": "e6fd8797",
        "outputId": "370f0c8e-aedf-46e8-cdfc-8911d0a406c1"
      },
      "outputs": [
        {
          "data": {
            "text/plain": [
              "<AxesSubplot:ylabel='Density'>"
            ]
          },
          "execution_count": 178,
          "metadata": {},
          "output_type": "execute_result"
        },
        {
          "data": {
            "image/png": "[encoded data removed]",
            "text/plain": [
              "<Figure size 640x480 with 1 Axes>"
            ]
          },
          "metadata": {},
          "output_type": "display_data"
        }
      ],
      "source": [
        "sns.distplot(x=df['Price'])"
      ]
    },
    {
      "cell_type": "markdown",
      "id": "8d1cd19a",
      "metadata": {
        "id": "8d1cd19a"
      },
      "source": [
        "**-->Data is skewed negatively skewed here the Laptop with Low price is more and the Laptop with High Price is Less**"
      ]
    },
    {
      "cell_type": "code",
      "execution_count": null,
      "id": "65027fc2",
      "metadata": {
        "id": "65027fc2",
        "outputId": "869f0fa3-5e97-4f62-e8b3-6e374a7a2ac7"
      },
      "outputs": [
        {
          "data": {
            "image/png": "[encoded data removed]",
            "text/plain": [
              "<Figure size 1500x600 with 1 Axes>"
            ]
          },
          "metadata": {},
          "output_type": "display_data"
        }
      ],
      "source": [
        "plt.figure(figsize=(15,6))\n",
        "sns.countplot(x=df['Company'])\n",
        "plt.xlabel('Company')\n",
        "plt.ylabel('Count of Laptops')\n",
        "plt.show()"
      ]
    },
    {
      "cell_type": "markdown",
      "id": "c11369ff",
      "metadata": {
        "id": "c11369ff"
      },
      "source": [
        "**-->From the Above graph we can Understand the data set contains most of HP, Dell, Lenovo Laptops**"
      ]
    },
    {
      "cell_type": "code",
      "execution_count": null,
      "id": "a3a3cc2e",
      "metadata": {
        "id": "a3a3cc2e",
        "outputId": "4f203462-e39a-437a-8673-eb51a0c50b6c"
      },
      "outputs": [
        {
          "data": {
            "text/plain": [
              "<AxesSubplot:xlabel='Company', ylabel='Price'>"
            ]
          },
          "execution_count": 180,
          "metadata": {},
          "output_type": "execute_result"
        },
        {
          "data": {
            "image/png": "[encoded data removed]",
            "text/plain": [
              "<Figure size 1500x600 with 1 Axes>"
            ]
          },
          "metadata": {},
          "output_type": "display_data"
        }
      ],
      "source": [
        "plt.figure(figsize=(15,6))\n",
        "sns.barplot(x=df['Company'],y=df['Price'])"
      ]
    },
    {
      "cell_type": "markdown",
      "id": "5ba2bb13",
      "metadata": {
        "id": "5ba2bb13"
      },
      "source": [
        "**--> As we compared among all the brands Razer is the most expansive than others**"
      ]
    },
    {
      "cell_type": "code",
      "execution_count": null,
      "id": "fcd15cdf",
      "metadata": {
        "id": "fcd15cdf",
        "outputId": "7779e776-2e46-48a7-8fd2-21fba2e97295"
      },
      "outputs": [
        {
          "data": {
            "text/plain": [
              "<AxesSubplot:xlabel='TypeName', ylabel='Price'>"
            ]
          },
          "execution_count": 181,
          "metadata": {},
          "output_type": "execute_result"
        },
        {
          "data": {
            "image/png": "[encoded data removed]",
            "text/plain": [
              "<Figure size 1200x600 with 1 Axes>"
            ]
          },
          "metadata": {},
          "output_type": "display_data"
        }
      ],
      "source": [
        "plt.figure(figsize=(12,6))\n",
        "sns.barplot(x=df['TypeName'],y=df['Price'])\n"
      ]
    },
    {
      "cell_type": "markdown",
      "id": "0abebaf2",
      "metadata": {
        "id": "0abebaf2"
      },
      "source": [
        "**-->From the above graph we can conclude the Workstation Laptops have the Highest Price among the others**"
      ]
    },
    {
      "cell_type": "code",
      "execution_count": null,
      "id": "19304be6",
      "metadata": {
        "id": "19304be6",
        "outputId": "91faf684-bb4c-414f-b75f-7bd16d4da363"
      },
      "outputs": [
        {
          "data": {
            "text/plain": [
              "<AxesSubplot:xlabel='TypeName', ylabel='count'>"
            ]
          },
          "execution_count": 182,
          "metadata": {},
          "output_type": "execute_result"
        },
        {
          "data": {
            "image/png": "[encoded data removed]",
            "text/plain": [
              "<Figure size 900x500 with 1 Axes>"
            ]
          },
          "metadata": {},
          "output_type": "display_data"
        }
      ],
      "source": [
        "plt.figure(figsize=(9,5))\n",
        "sns.countplot(x=df['TypeName'])"
      ]
    },
    {
      "cell_type": "markdown",
      "id": "c389375f",
      "metadata": {
        "id": "c389375f"
      },
      "source": [
        "**-->From the above graph Notebook are the most in the dataset**"
      ]
    },
    {
      "cell_type": "code",
      "execution_count": null,
      "id": "36b8fd43",
      "metadata": {
        "id": "36b8fd43",
        "outputId": "9ccd9fef-0235-47d3-9d93-bc58c096737c"
      },
      "outputs": [
        {
          "data": {
            "text/plain": [
              "Full HD 1920x1080                                493\n",
              "1366x768                                         255\n",
              "IPS Panel Full HD 1920x1080                      222\n",
              "IPS Panel Full HD / Touchscreen 1920x1080         50\n",
              "Full HD / Touchscreen 1920x1080                   45\n",
              "1600x900                                          23\n",
              "Touchscreen 1366x768                              16\n",
              "Quad HD+ / Touchscreen 3200x1800                  14\n",
              "IPS Panel 4K Ultra HD 3840x2160                   12\n",
              "IPS Panel 4K Ultra HD / Touchscreen 3840x2160     11\n",
              "4K Ultra HD / Touchscreen 3840x2160                9\n",
              "4K Ultra HD 3840x2160                              7\n",
              "IPS Panel 1366x768                                 7\n",
              "IPS Panel Retina Display 2560x1600                 6\n",
              "Touchscreen 2560x1440                              6\n",
              "IPS Panel Retina Display 2304x1440                 6\n",
              "Touchscreen 2256x1504                              6\n",
              "IPS Panel Touchscreen 2560x1440                    5\n",
              "IPS Panel Retina Display 2880x1800                 4\n",
              "1440x900                                           4\n",
              "IPS Panel 2560x1440                                4\n",
              "IPS Panel Quad HD+ / Touchscreen 3200x1800         4\n",
              "IPS Panel Quad HD+ 2560x1440                       3\n",
              "IPS Panel Touchscreen 1366x768                     3\n",
              "IPS Panel Touchscreen 1920x1200                    3\n",
              "Quad HD+ 3200x1800                                 3\n",
              "Touchscreen 2400x1600                              3\n",
              "2560x1440                                          3\n",
              "1920x1080                                          3\n",
              "IPS Panel Touchscreen / 4K Ultra HD 3840x2160      2\n",
              "IPS Panel Full HD 2160x1440                        2\n",
              "IPS Panel Quad HD+ 3200x1800                       2\n",
              "IPS Panel Full HD 1920x1200                        1\n",
              "IPS Panel Retina Display 2736x1824                 1\n",
              "IPS Panel Full HD 2560x1440                        1\n",
              "Touchscreen / Full HD 1920x1080                    1\n",
              "IPS Panel Full HD 1366x768                         1\n",
              "Touchscreen / Quad HD+ 3200x1800                   1\n",
              "Touchscreen / 4K Ultra HD 3840x2160                1\n",
              "IPS Panel Touchscreen 2400x1600                    1\n",
              "Name: ScreenResolution, dtype: int64"
            ]
          },
          "execution_count": 183,
          "metadata": {},
          "output_type": "execute_result"
        }
      ],
      "source": [
        "df['ScreenResolution'].value_counts()"
      ]
    },
    {
      "cell_type": "code",
      "execution_count": null,
      "id": "58095692",
      "metadata": {
        "id": "58095692"
      },
      "outputs": [],
      "source": [
        "df['TouchScreen']=df['ScreenResolution'].apply(lambda x:1 if 'Touchscreen' in x else 0)"
      ]
    },
    {
      "cell_type": "code",
      "execution_count": null,
      "id": "e1342ff8",
      "metadata": {
        "id": "e1342ff8"
      },
      "outputs": [],
      "source": [
        "df.drop(columns=['TouchScreen'],inplace=True)"
      ]
    },
    {
      "cell_type": "code",
      "execution_count": null,
      "id": "69f2eaed",
      "metadata": {
        "id": "69f2eaed",
        "outputId": "311e8de4-261a-4157-8009-39e74dac542c"
      },
      "outputs": [
        {
          "data": {
            "text/html": [
              "<div>\n",
              "<style scoped>\n",
              "    .dataframe tbody tr th:only-of-type {\n",
              "        vertical-align: middle;\n",
              "    }\n",
              "\n",
              "    .dataframe tbody tr th {\n",
              "        vertical-align: top;\n",
              "    }\n",
              "\n",
              "    .dataframe thead th {\n",
              "        text-align: right;\n",
              "    }\n",
              "</style>\n",
              "<table border=\"1\" class=\"dataframe\">\n",
              "  <thead>\n",
              "    <tr style=\"text-align: right;\">\n",
              "      <th></th>\n",
              "      <th>Company</th>\n",
              "      <th>TypeName</th>\n",
              "      <th>Inches</th>\n",
              "      <th>ScreenResolution</th>\n",
              "      <th>Cpu</th>\n",
              "      <th>Ram</th>\n",
              "      <th>Memory</th>\n",
              "      <th>Gpu</th>\n",
              "      <th>OpSys</th>\n",
              "      <th>Weight</th>\n",
              "      <th>Price</th>\n",
              "    </tr>\n",
              "  </thead>\n",
              "  <tbody>\n",
              "    <tr>\n",
              "      <th>0</th>\n",
              "      <td>Apple</td>\n",
              "      <td>Ultrabook</td>\n",
              "      <td>13.3</td>\n",
              "      <td>IPS Panel Retina Display 2560x1600</td>\n",
              "      <td>Intel Core i5 2.3GHz</td>\n",
              "      <td>8.0</td>\n",
              "      <td>128GB SSD</td>\n",
              "      <td>Intel Iris Plus Graphics 640</td>\n",
              "      <td>macOS</td>\n",
              "      <td>1.37</td>\n",
              "      <td>71378.6832</td>\n",
              "    </tr>\n",
              "    <tr>\n",
              "      <th>1</th>\n",
              "      <td>Apple</td>\n",
              "      <td>Ultrabook</td>\n",
              "      <td>13.3</td>\n",
              "      <td>1440x900</td>\n",
              "      <td>Intel Core i5 1.8GHz</td>\n",
              "      <td>8.0</td>\n",
              "      <td>128GB Flash Storage</td>\n",
              "      <td>Intel HD Graphics 6000</td>\n",
              "      <td>macOS</td>\n",
              "      <td>1.34</td>\n",
              "      <td>47895.5232</td>\n",
              "    </tr>\n",
              "    <tr>\n",
              "      <th>2</th>\n",
              "      <td>HP</td>\n",
              "      <td>Notebook</td>\n",
              "      <td>15.6</td>\n",
              "      <td>Full HD 1920x1080</td>\n",
              "      <td>Intel Core i5 7200U 2.5GHz</td>\n",
              "      <td>8.0</td>\n",
              "      <td>256GB SSD</td>\n",
              "      <td>Intel HD Graphics 620</td>\n",
              "      <td>No OS</td>\n",
              "      <td>1.86</td>\n",
              "      <td>30636.0000</td>\n",
              "    </tr>\n",
              "    <tr>\n",
              "      <th>3</th>\n",
              "      <td>Apple</td>\n",
              "      <td>Ultrabook</td>\n",
              "      <td>15.4</td>\n",
              "      <td>IPS Panel Retina Display 2880x1800</td>\n",
              "      <td>Intel Core i7 2.7GHz</td>\n",
              "      <td>16.0</td>\n",
              "      <td>512GB SSD</td>\n",
              "      <td>AMD Radeon Pro 455</td>\n",
              "      <td>macOS</td>\n",
              "      <td>1.83</td>\n",
              "      <td>135195.3360</td>\n",
              "    </tr>\n",
              "    <tr>\n",
              "      <th>4</th>\n",
              "      <td>Apple</td>\n",
              "      <td>Ultrabook</td>\n",
              "      <td>13.3</td>\n",
              "      <td>IPS Panel Retina Display 2560x1600</td>\n",
              "      <td>Intel Core i5 3.1GHz</td>\n",
              "      <td>8.0</td>\n",
              "      <td>256GB SSD</td>\n",
              "      <td>Intel Iris Plus Graphics 650</td>\n",
              "      <td>macOS</td>\n",
              "      <td>1.37</td>\n",
              "      <td>96095.8080</td>\n",
              "    </tr>\n",
              "  </tbody>\n",
              "</table>\n",
              "</div>"
            ],
            "text/plain": [
              "  Company   TypeName  Inches                    ScreenResolution  \\\n",
              "0   Apple  Ultrabook    13.3  IPS Panel Retina Display 2560x1600   \n",
              "1   Apple  Ultrabook    13.3                            1440x900   \n",
              "2      HP   Notebook    15.6                   Full HD 1920x1080   \n",
              "3   Apple  Ultrabook    15.4  IPS Panel Retina Display 2880x1800   \n",
              "4   Apple  Ultrabook    13.3  IPS Panel Retina Display 2560x1600   \n",
              "\n",
              "                          Cpu   Ram               Memory  \\\n",
              "0        Intel Core i5 2.3GHz   8.0            128GB SSD   \n",
              "1        Intel Core i5 1.8GHz   8.0  128GB Flash Storage   \n",
              "2  Intel Core i5 7200U 2.5GHz   8.0            256GB SSD   \n",
              "3        Intel Core i7 2.7GHz  16.0            512GB SSD   \n",
              "4        Intel Core i5 3.1GHz   8.0            256GB SSD   \n",
              "\n",
              "                            Gpu  OpSys  Weight        Price  \n",
              "0  Intel Iris Plus Graphics 640  macOS    1.37   71378.6832  \n",
              "1        Intel HD Graphics 6000  macOS    1.34   47895.5232  \n",
              "2         Intel HD Graphics 620  No OS    1.86   30636.0000  \n",
              "3            AMD Radeon Pro 455  macOS    1.83  135195.3360  \n",
              "4  Intel Iris Plus Graphics 650  macOS    1.37   96095.8080  "
            ]
          },
          "execution_count": 186,
          "metadata": {},
          "output_type": "execute_result"
        }
      ],
      "source": [
        "df.head()"
      ]
    },
    {
      "cell_type": "code",
      "execution_count": null,
      "id": "9ccb63a8",
      "metadata": {
        "id": "9ccb63a8"
      },
      "outputs": [],
      "source": [
        "df['TouchScreen']=df['ScreenResolution'].str.contains('Touchscreen').astype('int')"
      ]
    },
    {
      "cell_type": "code",
      "execution_count": null,
      "id": "bbf78d14",
      "metadata": {
        "id": "bbf78d14"
      },
      "outputs": [],
      "source": [
        "df['IPS']=df['ScreenResolution'].str.contains('IPS').astype('int')"
      ]
    },
    {
      "cell_type": "code",
      "execution_count": null,
      "id": "4ea6ef3c",
      "metadata": {
        "id": "4ea6ef3c",
        "outputId": "c27ec4b2-ac42-4fb0-e5ea-057070d66179"
      },
      "outputs": [
        {
          "data": {
            "text/html": [
              "<div>\n",
              "<style scoped>\n",
              "    .dataframe tbody tr th:only-of-type {\n",
              "        vertical-align: middle;\n",
              "    }\n",
              "\n",
              "    .dataframe tbody tr th {\n",
              "        vertical-align: top;\n",
              "    }\n",
              "\n",
              "    .dataframe thead th {\n",
              "        text-align: right;\n",
              "    }\n",
              "</style>\n",
              "<table border=\"1\" class=\"dataframe\">\n",
              "  <thead>\n",
              "    <tr style=\"text-align: right;\">\n",
              "      <th></th>\n",
              "      <th>Company</th>\n",
              "      <th>TypeName</th>\n",
              "      <th>Inches</th>\n",
              "      <th>ScreenResolution</th>\n",
              "      <th>Cpu</th>\n",
              "      <th>Ram</th>\n",
              "      <th>Memory</th>\n",
              "      <th>Gpu</th>\n",
              "      <th>OpSys</th>\n",
              "      <th>Weight</th>\n",
              "      <th>Price</th>\n",
              "      <th>TouchScreen</th>\n",
              "      <th>IPS</th>\n",
              "    </tr>\n",
              "  </thead>\n",
              "  <tbody>\n",
              "    <tr>\n",
              "      <th>0</th>\n",
              "      <td>Apple</td>\n",
              "      <td>Ultrabook</td>\n",
              "      <td>13.3</td>\n",
              "      <td>IPS Panel Retina Display 2560x1600</td>\n",
              "      <td>Intel Core i5 2.3GHz</td>\n",
              "      <td>8.0</td>\n",
              "      <td>128GB SSD</td>\n",
              "      <td>Intel Iris Plus Graphics 640</td>\n",
              "      <td>macOS</td>\n",
              "      <td>1.37</td>\n",
              "      <td>71378.6832</td>\n",
              "      <td>0</td>\n",
              "      <td>1</td>\n",
              "    </tr>\n",
              "    <tr>\n",
              "      <th>1</th>\n",
              "      <td>Apple</td>\n",
              "      <td>Ultrabook</td>\n",
              "      <td>13.3</td>\n",
              "      <td>1440x900</td>\n",
              "      <td>Intel Core i5 1.8GHz</td>\n",
              "      <td>8.0</td>\n",
              "      <td>128GB Flash Storage</td>\n",
              "      <td>Intel HD Graphics 6000</td>\n",
              "      <td>macOS</td>\n",
              "      <td>1.34</td>\n",
              "      <td>47895.5232</td>\n",
              "      <td>0</td>\n",
              "      <td>0</td>\n",
              "    </tr>\n",
              "    <tr>\n",
              "      <th>2</th>\n",
              "      <td>HP</td>\n",
              "      <td>Notebook</td>\n",
              "      <td>15.6</td>\n",
              "      <td>Full HD 1920x1080</td>\n",
              "      <td>Intel Core i5 7200U 2.5GHz</td>\n",
              "      <td>8.0</td>\n",
              "      <td>256GB SSD</td>\n",
              "      <td>Intel HD Graphics 620</td>\n",
              "      <td>No OS</td>\n",
              "      <td>1.86</td>\n",
              "      <td>30636.0000</td>\n",
              "      <td>0</td>\n",
              "      <td>0</td>\n",
              "    </tr>\n",
              "    <tr>\n",
              "      <th>3</th>\n",
              "      <td>Apple</td>\n",
              "      <td>Ultrabook</td>\n",
              "      <td>15.4</td>\n",
              "      <td>IPS Panel Retina Display 2880x1800</td>\n",
              "      <td>Intel Core i7 2.7GHz</td>\n",
              "      <td>16.0</td>\n",
              "      <td>512GB SSD</td>\n",
              "      <td>AMD Radeon Pro 455</td>\n",
              "      <td>macOS</td>\n",
              "      <td>1.83</td>\n",
              "      <td>135195.3360</td>\n",
              "      <td>0</td>\n",
              "      <td>1</td>\n",
              "    </tr>\n",
              "    <tr>\n",
              "      <th>4</th>\n",
              "      <td>Apple</td>\n",
              "      <td>Ultrabook</td>\n",
              "      <td>13.3</td>\n",
              "      <td>IPS Panel Retina Display 2560x1600</td>\n",
              "      <td>Intel Core i5 3.1GHz</td>\n",
              "      <td>8.0</td>\n",
              "      <td>256GB SSD</td>\n",
              "      <td>Intel Iris Plus Graphics 650</td>\n",
              "      <td>macOS</td>\n",
              "      <td>1.37</td>\n",
              "      <td>96095.8080</td>\n",
              "      <td>0</td>\n",
              "      <td>1</td>\n",
              "    </tr>\n",
              "  </tbody>\n",
              "</table>\n",
              "</div>"
            ],
            "text/plain": [
              "  Company   TypeName  Inches                    ScreenResolution  \\\n",
              "0   Apple  Ultrabook    13.3  IPS Panel Retina Display 2560x1600   \n",
              "1   Apple  Ultrabook    13.3                            1440x900   \n",
              "2      HP   Notebook    15.6                   Full HD 1920x1080   \n",
              "3   Apple  Ultrabook    15.4  IPS Panel Retina Display 2880x1800   \n",
              "4   Apple  Ultrabook    13.3  IPS Panel Retina Display 2560x1600   \n",
              "\n",
              "                          Cpu   Ram               Memory  \\\n",
              "0        Intel Core i5 2.3GHz   8.0            128GB SSD   \n",
              "1        Intel Core i5 1.8GHz   8.0  128GB Flash Storage   \n",
              "2  Intel Core i5 7200U 2.5GHz   8.0            256GB SSD   \n",
              "3        Intel Core i7 2.7GHz  16.0            512GB SSD   \n",
              "4        Intel Core i5 3.1GHz   8.0            256GB SSD   \n",
              "\n",
              "                            Gpu  OpSys  Weight        Price  TouchScreen  IPS  \n",
              "0  Intel Iris Plus Graphics 640  macOS    1.37   71378.6832            0    1  \n",
              "1        Intel HD Graphics 6000  macOS    1.34   47895.5232            0    0  \n",
              "2         Intel HD Graphics 620  No OS    1.86   30636.0000            0    0  \n",
              "3            AMD Radeon Pro 455  macOS    1.83  135195.3360            0    1  \n",
              "4  Intel Iris Plus Graphics 650  macOS    1.37   96095.8080            0    1  "
            ]
          },
          "execution_count": 189,
          "metadata": {},
          "output_type": "execute_result"
        }
      ],
      "source": [
        "df.head()"
      ]
    },
    {
      "cell_type": "code",
      "execution_count": null,
      "id": "57501727",
      "metadata": {
        "id": "57501727",
        "outputId": "ebe38011-2eeb-4bd1-ed87-918ae55ffcdd"
      },
      "outputs": [
        {
          "data": {
            "text/plain": [
              "Intel Core i5 7200U 2.5GHz     183\n",
              "Intel Core i7 7700HQ 2.8GHz    142\n",
              "Intel Core i7 7500U 2.7GHz     126\n",
              "Intel Core i7 8550U 1.8GHz      72\n",
              "Intel Core i5 8250U 1.6GHz      68\n",
              "                              ... \n",
              "AMD A9-Series 9420 2.9GHz        1\n",
              "Intel Core i5 6440HQ 2.6GHz      1\n",
              "AMD A6-Series 7310 2GHz          1\n",
              "Intel Atom Z8350 1.92GHz         1\n",
              "AMD A9-Series 9410 2.9GHz        1\n",
              "Name: Cpu, Length: 118, dtype: int64"
            ]
          },
          "execution_count": 190,
          "metadata": {},
          "output_type": "execute_result"
        }
      ],
      "source": [
        "df['Cpu'].value_counts()"
      ]
    },
    {
      "cell_type": "code",
      "execution_count": null,
      "id": "e656e719",
      "metadata": {
        "id": "e656e719",
        "outputId": "40981a7e-1122-4815-c855-cf313615b719"
      },
      "outputs": [
        {
          "data": {
            "text/plain": [
              "0    1063\n",
              "1     181\n",
              "Name: TouchScreen, dtype: int64"
            ]
          },
          "execution_count": 191,
          "metadata": {},
          "output_type": "execute_result"
        }
      ],
      "source": [
        "df['TouchScreen'].value_counts()"
      ]
    },
    {
      "cell_type": "code",
      "execution_count": null,
      "id": "481af855",
      "metadata": {
        "id": "481af855",
        "outputId": "5271fc0b-b022-47ea-d85b-2c2e5d397ee2"
      },
      "outputs": [
        {
          "data": {
            "text/plain": [
              "0    893\n",
              "1    351\n",
              "Name: IPS, dtype: int64"
            ]
          },
          "execution_count": 192,
          "metadata": {},
          "output_type": "execute_result"
        }
      ],
      "source": [
        "df['IPS'].value_counts()"
      ]
    },
    {
      "cell_type": "code",
      "execution_count": null,
      "id": "2042287b",
      "metadata": {
        "id": "2042287b"
      },
      "outputs": [],
      "source": [
        "df['Resolution']=df['ScreenResolution'].str.extract(r'(\\d+x\\d+)')"
      ]
    },
    {
      "cell_type": "code",
      "execution_count": null,
      "id": "91f26ac0",
      "metadata": {
        "id": "91f26ac0",
        "outputId": "95378ce9-928f-47ec-c8fc-058822b8e66b"
      },
      "outputs": [
        {
          "data": {
            "text/html": [
              "<div>\n",
              "<style scoped>\n",
              "    .dataframe tbody tr th:only-of-type {\n",
              "        vertical-align: middle;\n",
              "    }\n",
              "\n",
              "    .dataframe tbody tr th {\n",
              "        vertical-align: top;\n",
              "    }\n",
              "\n",
              "    .dataframe thead th {\n",
              "        text-align: right;\n",
              "    }\n",
              "</style>\n",
              "<table border=\"1\" class=\"dataframe\">\n",
              "  <thead>\n",
              "    <tr style=\"text-align: right;\">\n",
              "      <th></th>\n",
              "      <th>Company</th>\n",
              "      <th>TypeName</th>\n",
              "      <th>Inches</th>\n",
              "      <th>ScreenResolution</th>\n",
              "      <th>Cpu</th>\n",
              "      <th>Ram</th>\n",
              "      <th>Memory</th>\n",
              "      <th>Gpu</th>\n",
              "      <th>OpSys</th>\n",
              "      <th>Weight</th>\n",
              "      <th>Price</th>\n",
              "      <th>TouchScreen</th>\n",
              "      <th>IPS</th>\n",
              "      <th>Resolution</th>\n",
              "    </tr>\n",
              "  </thead>\n",
              "  <tbody>\n",
              "    <tr>\n",
              "      <th>0</th>\n",
              "      <td>Apple</td>\n",
              "      <td>Ultrabook</td>\n",
              "      <td>13.3</td>\n",
              "      <td>IPS Panel Retina Display 2560x1600</td>\n",
              "      <td>Intel Core i5 2.3GHz</td>\n",
              "      <td>8.0</td>\n",
              "      <td>128GB SSD</td>\n",
              "      <td>Intel Iris Plus Graphics 640</td>\n",
              "      <td>macOS</td>\n",
              "      <td>1.37</td>\n",
              "      <td>71378.6832</td>\n",
              "      <td>0</td>\n",
              "      <td>1</td>\n",
              "      <td>2560x1600</td>\n",
              "    </tr>\n",
              "    <tr>\n",
              "      <th>1</th>\n",
              "      <td>Apple</td>\n",
              "      <td>Ultrabook</td>\n",
              "      <td>13.3</td>\n",
              "      <td>1440x900</td>\n",
              "      <td>Intel Core i5 1.8GHz</td>\n",
              "      <td>8.0</td>\n",
              "      <td>128GB Flash Storage</td>\n",
              "      <td>Intel HD Graphics 6000</td>\n",
              "      <td>macOS</td>\n",
              "      <td>1.34</td>\n",
              "      <td>47895.5232</td>\n",
              "      <td>0</td>\n",
              "      <td>0</td>\n",
              "      <td>1440x900</td>\n",
              "    </tr>\n",
              "    <tr>\n",
              "      <th>2</th>\n",
              "      <td>HP</td>\n",
              "      <td>Notebook</td>\n",
              "      <td>15.6</td>\n",
              "      <td>Full HD 1920x1080</td>\n",
              "      <td>Intel Core i5 7200U 2.5GHz</td>\n",
              "      <td>8.0</td>\n",
              "      <td>256GB SSD</td>\n",
              "      <td>Intel HD Graphics 620</td>\n",
              "      <td>No OS</td>\n",
              "      <td>1.86</td>\n",
              "      <td>30636.0000</td>\n",
              "      <td>0</td>\n",
              "      <td>0</td>\n",
              "      <td>1920x1080</td>\n",
              "    </tr>\n",
              "    <tr>\n",
              "      <th>3</th>\n",
              "      <td>Apple</td>\n",
              "      <td>Ultrabook</td>\n",
              "      <td>15.4</td>\n",
              "      <td>IPS Panel Retina Display 2880x1800</td>\n",
              "      <td>Intel Core i7 2.7GHz</td>\n",
              "      <td>16.0</td>\n",
              "      <td>512GB SSD</td>\n",
              "      <td>AMD Radeon Pro 455</td>\n",
              "      <td>macOS</td>\n",
              "      <td>1.83</td>\n",
              "      <td>135195.3360</td>\n",
              "      <td>0</td>\n",
              "      <td>1</td>\n",
              "      <td>2880x1800</td>\n",
              "    </tr>\n",
              "    <tr>\n",
              "      <th>4</th>\n",
              "      <td>Apple</td>\n",
              "      <td>Ultrabook</td>\n",
              "      <td>13.3</td>\n",
              "      <td>IPS Panel Retina Display 2560x1600</td>\n",
              "      <td>Intel Core i5 3.1GHz</td>\n",
              "      <td>8.0</td>\n",
              "      <td>256GB SSD</td>\n",
              "      <td>Intel Iris Plus Graphics 650</td>\n",
              "      <td>macOS</td>\n",
              "      <td>1.37</td>\n",
              "      <td>96095.8080</td>\n",
              "      <td>0</td>\n",
              "      <td>1</td>\n",
              "      <td>2560x1600</td>\n",
              "    </tr>\n",
              "  </tbody>\n",
              "</table>\n",
              "</div>"
            ],
            "text/plain": [
              "  Company   TypeName  Inches                    ScreenResolution  \\\n",
              "0   Apple  Ultrabook    13.3  IPS Panel Retina Display 2560x1600   \n",
              "1   Apple  Ultrabook    13.3                            1440x900   \n",
              "2      HP   Notebook    15.6                   Full HD 1920x1080   \n",
              "3   Apple  Ultrabook    15.4  IPS Panel Retina Display 2880x1800   \n",
              "4   Apple  Ultrabook    13.3  IPS Panel Retina Display 2560x1600   \n",
              "\n",
              "                          Cpu   Ram               Memory  \\\n",
              "0        Intel Core i5 2.3GHz   8.0            128GB SSD   \n",
              "1        Intel Core i5 1.8GHz   8.0  128GB Flash Storage   \n",
              "2  Intel Core i5 7200U 2.5GHz   8.0            256GB SSD   \n",
              "3        Intel Core i7 2.7GHz  16.0            512GB SSD   \n",
              "4        Intel Core i5 3.1GHz   8.0            256GB SSD   \n",
              "\n",
              "                            Gpu  OpSys  Weight        Price  TouchScreen  IPS  \\\n",
              "0  Intel Iris Plus Graphics 640  macOS    1.37   71378.6832            0    1   \n",
              "1        Intel HD Graphics 6000  macOS    1.34   47895.5232            0    0   \n",
              "2         Intel HD Graphics 620  No OS    1.86   30636.0000            0    0   \n",
              "3            AMD Radeon Pro 455  macOS    1.83  135195.3360            0    1   \n",
              "4  Intel Iris Plus Graphics 650  macOS    1.37   96095.8080            0    1   \n",
              "\n",
              "  Resolution  \n",
              "0  2560x1600  \n",
              "1   1440x900  \n",
              "2  1920x1080  \n",
              "3  2880x1800  \n",
              "4  2560x1600  "
            ]
          },
          "execution_count": 194,
          "metadata": {},
          "output_type": "execute_result"
        }
      ],
      "source": [
        "df.head()"
      ]
    },
    {
      "cell_type": "code",
      "execution_count": null,
      "id": "7b367286",
      "metadata": {
        "id": "7b367286"
      },
      "outputs": [],
      "source": [
        "df[['X_res','Y_res']]=df['Resolution'].str.split('x',expand=True)"
      ]
    },
    {
      "cell_type": "code",
      "execution_count": null,
      "id": "beaa1bbf",
      "metadata": {
        "id": "beaa1bbf",
        "outputId": "7ef88d12-31a1-48c4-9d8c-82cebccd1c4c"
      },
      "outputs": [
        {
          "data": {
            "text/html": [
              "<div>\n",
              "<style scoped>\n",
              "    .dataframe tbody tr th:only-of-type {\n",
              "        vertical-align: middle;\n",
              "    }\n",
              "\n",
              "    .dataframe tbody tr th {\n",
              "        vertical-align: top;\n",
              "    }\n",
              "\n",
              "    .dataframe thead th {\n",
              "        text-align: right;\n",
              "    }\n",
              "</style>\n",
              "<table border=\"1\" class=\"dataframe\">\n",
              "  <thead>\n",
              "    <tr style=\"text-align: right;\">\n",
              "      <th></th>\n",
              "      <th>Company</th>\n",
              "      <th>TypeName</th>\n",
              "      <th>Inches</th>\n",
              "      <th>ScreenResolution</th>\n",
              "      <th>Cpu</th>\n",
              "      <th>Ram</th>\n",
              "      <th>Memory</th>\n",
              "      <th>Gpu</th>\n",
              "      <th>OpSys</th>\n",
              "      <th>Weight</th>\n",
              "      <th>Price</th>\n",
              "      <th>TouchScreen</th>\n",
              "      <th>IPS</th>\n",
              "      <th>Resolution</th>\n",
              "      <th>X_res</th>\n",
              "      <th>Y_res</th>\n",
              "    </tr>\n",
              "  </thead>\n",
              "  <tbody>\n",
              "    <tr>\n",
              "      <th>0</th>\n",
              "      <td>Apple</td>\n",
              "      <td>Ultrabook</td>\n",
              "      <td>13.3</td>\n",
              "      <td>IPS Panel Retina Display 2560x1600</td>\n",
              "      <td>Intel Core i5 2.3GHz</td>\n",
              "      <td>8.0</td>\n",
              "      <td>128GB SSD</td>\n",
              "      <td>Intel Iris Plus Graphics 640</td>\n",
              "      <td>macOS</td>\n",
              "      <td>1.37</td>\n",
              "      <td>71378.6832</td>\n",
              "      <td>0</td>\n",
              "      <td>1</td>\n",
              "      <td>2560x1600</td>\n",
              "      <td>2560</td>\n",
              "      <td>1600</td>\n",
              "    </tr>\n",
              "    <tr>\n",
              "      <th>1</th>\n",
              "      <td>Apple</td>\n",
              "      <td>Ultrabook</td>\n",
              "      <td>13.3</td>\n",
              "      <td>1440x900</td>\n",
              "      <td>Intel Core i5 1.8GHz</td>\n",
              "      <td>8.0</td>\n",
              "      <td>128GB Flash Storage</td>\n",
              "      <td>Intel HD Graphics 6000</td>\n",
              "      <td>macOS</td>\n",
              "      <td>1.34</td>\n",
              "      <td>47895.5232</td>\n",
              "      <td>0</td>\n",
              "      <td>0</td>\n",
              "      <td>1440x900</td>\n",
              "      <td>1440</td>\n",
              "      <td>900</td>\n",
              "    </tr>\n",
              "    <tr>\n",
              "      <th>2</th>\n",
              "      <td>HP</td>\n",
              "      <td>Notebook</td>\n",
              "      <td>15.6</td>\n",
              "      <td>Full HD 1920x1080</td>\n",
              "      <td>Intel Core i5 7200U 2.5GHz</td>\n",
              "      <td>8.0</td>\n",
              "      <td>256GB SSD</td>\n",
              "      <td>Intel HD Graphics 620</td>\n",
              "      <td>No OS</td>\n",
              "      <td>1.86</td>\n",
              "      <td>30636.0000</td>\n",
              "      <td>0</td>\n",
              "      <td>0</td>\n",
              "      <td>1920x1080</td>\n",
              "      <td>1920</td>\n",
              "      <td>1080</td>\n",
              "    </tr>\n",
              "    <tr>\n",
              "      <th>3</th>\n",
              "      <td>Apple</td>\n",
              "      <td>Ultrabook</td>\n",
              "      <td>15.4</td>\n",
              "      <td>IPS Panel Retina Display 2880x1800</td>\n",
              "      <td>Intel Core i7 2.7GHz</td>\n",
              "      <td>16.0</td>\n",
              "      <td>512GB SSD</td>\n",
              "      <td>AMD Radeon Pro 455</td>\n",
              "      <td>macOS</td>\n",
              "      <td>1.83</td>\n",
              "      <td>135195.3360</td>\n",
              "      <td>0</td>\n",
              "      <td>1</td>\n",
              "      <td>2880x1800</td>\n",
              "      <td>2880</td>\n",
              "      <td>1800</td>\n",
              "    </tr>\n",
              "    <tr>\n",
              "      <th>4</th>\n",
              "      <td>Apple</td>\n",
              "      <td>Ultrabook</td>\n",
              "      <td>13.3</td>\n",
              "      <td>IPS Panel Retina Display 2560x1600</td>\n",
              "      <td>Intel Core i5 3.1GHz</td>\n",
              "      <td>8.0</td>\n",
              "      <td>256GB SSD</td>\n",
              "      <td>Intel Iris Plus Graphics 650</td>\n",
              "      <td>macOS</td>\n",
              "      <td>1.37</td>\n",
              "      <td>96095.8080</td>\n",
              "      <td>0</td>\n",
              "      <td>1</td>\n",
              "      <td>2560x1600</td>\n",
              "      <td>2560</td>\n",
              "      <td>1600</td>\n",
              "    </tr>\n",
              "  </tbody>\n",
              "</table>\n",
              "</div>"
            ],
            "text/plain": [
              "  Company   TypeName  Inches                    ScreenResolution  \\\n",
              "0   Apple  Ultrabook    13.3  IPS Panel Retina Display 2560x1600   \n",
              "1   Apple  Ultrabook    13.3                            1440x900   \n",
              "2      HP   Notebook    15.6                   Full HD 1920x1080   \n",
              "3   Apple  Ultrabook    15.4  IPS Panel Retina Display 2880x1800   \n",
              "4   Apple  Ultrabook    13.3  IPS Panel Retina Display 2560x1600   \n",
              "\n",
              "                          Cpu   Ram               Memory  \\\n",
              "0        Intel Core i5 2.3GHz   8.0            128GB SSD   \n",
              "1        Intel Core i5 1.8GHz   8.0  128GB Flash Storage   \n",
              "2  Intel Core i5 7200U 2.5GHz   8.0            256GB SSD   \n",
              "3        Intel Core i7 2.7GHz  16.0            512GB SSD   \n",
              "4        Intel Core i5 3.1GHz   8.0            256GB SSD   \n",
              "\n",
              "                            Gpu  OpSys  Weight        Price  TouchScreen  IPS  \\\n",
              "0  Intel Iris Plus Graphics 640  macOS    1.37   71378.6832            0    1   \n",
              "1        Intel HD Graphics 6000  macOS    1.34   47895.5232            0    0   \n",
              "2         Intel HD Graphics 620  No OS    1.86   30636.0000            0    0   \n",
              "3            AMD Radeon Pro 455  macOS    1.83  135195.3360            0    1   \n",
              "4  Intel Iris Plus Graphics 650  macOS    1.37   96095.8080            0    1   \n",
              "\n",
              "  Resolution X_res Y_res  \n",
              "0  2560x1600  2560  1600  \n",
              "1   1440x900  1440   900  \n",
              "2  1920x1080  1920  1080  \n",
              "3  2880x1800  2880  1800  \n",
              "4  2560x1600  2560  1600  "
            ]
          },
          "execution_count": 196,
          "metadata": {},
          "output_type": "execute_result"
        }
      ],
      "source": [
        "df.head()"
      ]
    },
    {
      "cell_type": "code",
      "execution_count": null,
      "id": "6bcf4f46",
      "metadata": {
        "id": "6bcf4f46"
      },
      "outputs": [],
      "source": [
        "df['X_res']=df['X_res'].astype('int')\n",
        "df['Y_res']=df['Y_res'].astype('int')"
      ]
    },
    {
      "cell_type": "code",
      "execution_count": null,
      "id": "fd9cbd64",
      "metadata": {
        "id": "fd9cbd64",
        "outputId": "d3a60381-cb0f-4ab9-ee08-21c27cc05bf0"
      },
      "outputs": [
        {
          "name": "stdout",
          "output_type": "stream",
          "text": [
            "<class 'pandas.core.frame.DataFrame'>\n",
            "RangeIndex: 1244 entries, 0 to 1243\n",
            "Data columns (total 16 columns):\n",
            " #   Column            Non-Null Count  Dtype  \n",
            "---  ------            --------------  -----  \n",
            " 0   Company           1244 non-null   object \n",
            " 1   TypeName          1244 non-null   object \n",
            " 2   Inches            1244 non-null   float64\n",
            " 3   ScreenResolution  1244 non-null   object \n",
            " 4   Cpu               1244 non-null   object \n",
            " 5   Ram               1244 non-null   float64\n",
            " 6   Memory            1244 non-null   object \n",
            " 7   Gpu               1244 non-null   object \n",
            " 8   OpSys             1244 non-null   object \n",
            " 9   Weight            1244 non-null   float64\n",
            " 10  Price             1244 non-null   float64\n",
            " 11  TouchScreen       1244 non-null   int32  \n",
            " 12  IPS               1244 non-null   int32  \n",
            " 13  Resolution        1244 non-null   object \n",
            " 14  X_res             1244 non-null   int32  \n",
            " 15  Y_res             1244 non-null   int32  \n",
            "dtypes: float64(4), int32(4), object(8)\n",
            "memory usage: 136.2+ KB\n"
          ]
        }
      ],
      "source": [
        "df.info()"
      ]
    },
    {
      "cell_type": "code",
      "execution_count": null,
      "id": "18892522",
      "metadata": {
        "id": "18892522"
      },
      "outputs": [],
      "source": [
        "df.drop(columns=['ScreenResolution'],inplace=True)"
      ]
    },
    {
      "cell_type": "code",
      "execution_count": null,
      "id": "dee1cad3",
      "metadata": {
        "id": "dee1cad3"
      },
      "outputs": [],
      "source": [
        "df.drop(columns=['Resolution'],inplace=True)"
      ]
    },
    {
      "cell_type": "code",
      "execution_count": null,
      "id": "676cd2ba",
      "metadata": {
        "id": "676cd2ba"
      },
      "outputs": [],
      "source": [
        "df['ppi']=(df['X_res']**2+df['Y_res']**2)**0.5/df['Inches']"
      ]
    },
    {
      "cell_type": "code",
      "execution_count": null,
      "id": "5744fc51",
      "metadata": {
        "id": "5744fc51"
      },
      "outputs": [],
      "source": [
        "df.drop(columns=['Inches','X_res','Y_res'],inplace=True)"
      ]
    },
    {
      "cell_type": "code",
      "execution_count": null,
      "id": "0e00bb32",
      "metadata": {
        "id": "0e00bb32",
        "outputId": "63473a93-d7fe-4213-f936-7a9c59292d7f"
      },
      "outputs": [
        {
          "data": {
            "text/html": [
              "<div>\n",
              "<style scoped>\n",
              "    .dataframe tbody tr th:only-of-type {\n",
              "        vertical-align: middle;\n",
              "    }\n",
              "\n",
              "    .dataframe tbody tr th {\n",
              "        vertical-align: top;\n",
              "    }\n",
              "\n",
              "    .dataframe thead th {\n",
              "        text-align: right;\n",
              "    }\n",
              "</style>\n",
              "<table border=\"1\" class=\"dataframe\">\n",
              "  <thead>\n",
              "    <tr style=\"text-align: right;\">\n",
              "      <th></th>\n",
              "      <th>Company</th>\n",
              "      <th>TypeName</th>\n",
              "      <th>Cpu</th>\n",
              "      <th>Ram</th>\n",
              "      <th>Memory</th>\n",
              "      <th>Gpu</th>\n",
              "      <th>OpSys</th>\n",
              "      <th>Weight</th>\n",
              "      <th>Price</th>\n",
              "      <th>TouchScreen</th>\n",
              "      <th>IPS</th>\n",
              "      <th>ppi</th>\n",
              "    </tr>\n",
              "  </thead>\n",
              "  <tbody>\n",
              "    <tr>\n",
              "      <th>0</th>\n",
              "      <td>Apple</td>\n",
              "      <td>Ultrabook</td>\n",
              "      <td>Intel Core i5 2.3GHz</td>\n",
              "      <td>8.0</td>\n",
              "      <td>128GB SSD</td>\n",
              "      <td>Intel Iris Plus Graphics 640</td>\n",
              "      <td>macOS</td>\n",
              "      <td>1.37</td>\n",
              "      <td>71378.6832</td>\n",
              "      <td>0</td>\n",
              "      <td>1</td>\n",
              "      <td>226.983005</td>\n",
              "    </tr>\n",
              "    <tr>\n",
              "      <th>1</th>\n",
              "      <td>Apple</td>\n",
              "      <td>Ultrabook</td>\n",
              "      <td>Intel Core i5 1.8GHz</td>\n",
              "      <td>8.0</td>\n",
              "      <td>128GB Flash Storage</td>\n",
              "      <td>Intel HD Graphics 6000</td>\n",
              "      <td>macOS</td>\n",
              "      <td>1.34</td>\n",
              "      <td>47895.5232</td>\n",
              "      <td>0</td>\n",
              "      <td>0</td>\n",
              "      <td>127.677940</td>\n",
              "    </tr>\n",
              "    <tr>\n",
              "      <th>2</th>\n",
              "      <td>HP</td>\n",
              "      <td>Notebook</td>\n",
              "      <td>Intel Core i5 7200U 2.5GHz</td>\n",
              "      <td>8.0</td>\n",
              "      <td>256GB SSD</td>\n",
              "      <td>Intel HD Graphics 620</td>\n",
              "      <td>No OS</td>\n",
              "      <td>1.86</td>\n",
              "      <td>30636.0000</td>\n",
              "      <td>0</td>\n",
              "      <td>0</td>\n",
              "      <td>141.211998</td>\n",
              "    </tr>\n",
              "    <tr>\n",
              "      <th>3</th>\n",
              "      <td>Apple</td>\n",
              "      <td>Ultrabook</td>\n",
              "      <td>Intel Core i7 2.7GHz</td>\n",
              "      <td>16.0</td>\n",
              "      <td>512GB SSD</td>\n",
              "      <td>AMD Radeon Pro 455</td>\n",
              "      <td>macOS</td>\n",
              "      <td>1.83</td>\n",
              "      <td>135195.3360</td>\n",
              "      <td>0</td>\n",
              "      <td>1</td>\n",
              "      <td>220.534624</td>\n",
              "    </tr>\n",
              "    <tr>\n",
              "      <th>4</th>\n",
              "      <td>Apple</td>\n",
              "      <td>Ultrabook</td>\n",
              "      <td>Intel Core i5 3.1GHz</td>\n",
              "      <td>8.0</td>\n",
              "      <td>256GB SSD</td>\n",
              "      <td>Intel Iris Plus Graphics 650</td>\n",
              "      <td>macOS</td>\n",
              "      <td>1.37</td>\n",
              "      <td>96095.8080</td>\n",
              "      <td>0</td>\n",
              "      <td>1</td>\n",
              "      <td>226.983005</td>\n",
              "    </tr>\n",
              "  </tbody>\n",
              "</table>\n",
              "</div>"
            ],
            "text/plain": [
              "  Company   TypeName                         Cpu   Ram               Memory  \\\n",
              "0   Apple  Ultrabook        Intel Core i5 2.3GHz   8.0            128GB SSD   \n",
              "1   Apple  Ultrabook        Intel Core i5 1.8GHz   8.0  128GB Flash Storage   \n",
              "2      HP   Notebook  Intel Core i5 7200U 2.5GHz   8.0            256GB SSD   \n",
              "3   Apple  Ultrabook        Intel Core i7 2.7GHz  16.0            512GB SSD   \n",
              "4   Apple  Ultrabook        Intel Core i5 3.1GHz   8.0            256GB SSD   \n",
              "\n",
              "                            Gpu  OpSys  Weight        Price  TouchScreen  IPS  \\\n",
              "0  Intel Iris Plus Graphics 640  macOS    1.37   71378.6832            0    1   \n",
              "1        Intel HD Graphics 6000  macOS    1.34   47895.5232            0    0   \n",
              "2         Intel HD Graphics 620  No OS    1.86   30636.0000            0    0   \n",
              "3            AMD Radeon Pro 455  macOS    1.83  135195.3360            0    1   \n",
              "4  Intel Iris Plus Graphics 650  macOS    1.37   96095.8080            0    1   \n",
              "\n",
              "          ppi  \n",
              "0  226.983005  \n",
              "1  127.677940  \n",
              "2  141.211998  \n",
              "3  220.534624  \n",
              "4  226.983005  "
            ]
          },
          "execution_count": 203,
          "metadata": {},
          "output_type": "execute_result"
        }
      ],
      "source": [
        "df.head()"
      ]
    },
    {
      "cell_type": "code",
      "execution_count": null,
      "id": "6e3b6843",
      "metadata": {
        "id": "6e3b6843"
      },
      "outputs": [],
      "source": [
        "df['Cpu_Model'] = df['Cpu'].str.extract(r'(\\b\\w+\\s\\w+(?:\\s\\w+)?(?:-\\w+)?)')"
      ]
    },
    {
      "cell_type": "code",
      "execution_count": null,
      "id": "53c18848",
      "metadata": {
        "id": "53c18848",
        "outputId": "76f48626-aabf-4518-d36c-08a6458c387e"
      },
      "outputs": [
        {
          "data": {
            "text/plain": [
              "Intel Core i7          503\n",
              "Intel Core i5          410\n",
              "Intel Core i3          132\n",
              "Intel Celeron Dual      68\n",
              "Intel Pentium Quad      27\n",
              "Intel Core M            17\n",
              "AMD A9-Series           15\n",
              "AMD A6-Series           11\n",
              "AMD E-Series             9\n",
              "Intel Celeron Quad       8\n",
              "AMD A12-Series           8\n",
              "AMD A10-Series           6\n",
              "AMD A8-Series            4\n",
              "Intel Atom x5-Z8350      4\n",
              "AMD Ryzen 1700           3\n",
              "Intel Pentium Dual       3\n",
              "Intel Atom x5-Z8550      3\n",
              "Intel Xeon E3-1505M      2\n",
              "Intel Xeon E3-1535M      2\n",
              "Intel Atom X5-Z8350      2\n",
              "AMD FX 9830P             1\n",
              "Intel Atom x5-Z8300      1\n",
              "AMD Ryzen 1600           1\n",
              "Intel Atom Z8350         1\n",
              "AMD A4-Series            1\n",
              "AMD FX 8800P             1\n",
              "Samsung Cortex A72       1\n",
              "Name: Cpu_Model, dtype: int64"
            ]
          },
          "execution_count": 205,
          "metadata": {},
          "output_type": "execute_result"
        }
      ],
      "source": [
        "df['Cpu_Model'].value_counts()"
      ]
    },
    {
      "cell_type": "code",
      "execution_count": null,
      "id": "aac4de5b",
      "metadata": {
        "id": "aac4de5b"
      },
      "outputs": [],
      "source": [
        "def cpunames(text):\n",
        "    if text == 'Intel Core i7' or text == 'Intel Core i5' or text == 'Intel Core i3':\n",
        "        return text\n",
        "    elif text.split()[0] == 'Intel':\n",
        "        return 'Other Intel Processosr'\n",
        "    else:\n",
        "        return 'AMD'\n",
        "df['cpu_brand']=df['Cpu_Model'].apply(cpunames)"
      ]
    },
    {
      "cell_type": "code",
      "execution_count": null,
      "id": "38a7dc11",
      "metadata": {
        "id": "38a7dc11",
        "outputId": "5f5307ec-1786-4a7f-e9f2-74f00c8bf36e"
      },
      "outputs": [
        {
          "data": {
            "text/html": [
              "<div>\n",
              "<style scoped>\n",
              "    .dataframe tbody tr th:only-of-type {\n",
              "        vertical-align: middle;\n",
              "    }\n",
              "\n",
              "    .dataframe tbody tr th {\n",
              "        vertical-align: top;\n",
              "    }\n",
              "\n",
              "    .dataframe thead th {\n",
              "        text-align: right;\n",
              "    }\n",
              "</style>\n",
              "<table border=\"1\" class=\"dataframe\">\n",
              "  <thead>\n",
              "    <tr style=\"text-align: right;\">\n",
              "      <th></th>\n",
              "      <th>Company</th>\n",
              "      <th>TypeName</th>\n",
              "      <th>Cpu</th>\n",
              "      <th>Ram</th>\n",
              "      <th>Memory</th>\n",
              "      <th>Gpu</th>\n",
              "      <th>OpSys</th>\n",
              "      <th>Weight</th>\n",
              "      <th>Price</th>\n",
              "      <th>TouchScreen</th>\n",
              "      <th>IPS</th>\n",
              "      <th>ppi</th>\n",
              "      <th>Cpu_Model</th>\n",
              "      <th>cpu_brand</th>\n",
              "    </tr>\n",
              "  </thead>\n",
              "  <tbody>\n",
              "    <tr>\n",
              "      <th>0</th>\n",
              "      <td>Apple</td>\n",
              "      <td>Ultrabook</td>\n",
              "      <td>Intel Core i5 2.3GHz</td>\n",
              "      <td>8.0</td>\n",
              "      <td>128GB SSD</td>\n",
              "      <td>Intel Iris Plus Graphics 640</td>\n",
              "      <td>macOS</td>\n",
              "      <td>1.37</td>\n",
              "      <td>71378.6832</td>\n",
              "      <td>0</td>\n",
              "      <td>1</td>\n",
              "      <td>226.983005</td>\n",
              "      <td>Intel Core i5</td>\n",
              "      <td>Intel Core i5</td>\n",
              "    </tr>\n",
              "    <tr>\n",
              "      <th>1</th>\n",
              "      <td>Apple</td>\n",
              "      <td>Ultrabook</td>\n",
              "      <td>Intel Core i5 1.8GHz</td>\n",
              "      <td>8.0</td>\n",
              "      <td>128GB Flash Storage</td>\n",
              "      <td>Intel HD Graphics 6000</td>\n",
              "      <td>macOS</td>\n",
              "      <td>1.34</td>\n",
              "      <td>47895.5232</td>\n",
              "      <td>0</td>\n",
              "      <td>0</td>\n",
              "      <td>127.677940</td>\n",
              "      <td>Intel Core i5</td>\n",
              "      <td>Intel Core i5</td>\n",
              "    </tr>\n",
              "    <tr>\n",
              "      <th>2</th>\n",
              "      <td>HP</td>\n",
              "      <td>Notebook</td>\n",
              "      <td>Intel Core i5 7200U 2.5GHz</td>\n",
              "      <td>8.0</td>\n",
              "      <td>256GB SSD</td>\n",
              "      <td>Intel HD Graphics 620</td>\n",
              "      <td>No OS</td>\n",
              "      <td>1.86</td>\n",
              "      <td>30636.0000</td>\n",
              "      <td>0</td>\n",
              "      <td>0</td>\n",
              "      <td>141.211998</td>\n",
              "      <td>Intel Core i5</td>\n",
              "      <td>Intel Core i5</td>\n",
              "    </tr>\n",
              "    <tr>\n",
              "      <th>3</th>\n",
              "      <td>Apple</td>\n",
              "      <td>Ultrabook</td>\n",
              "      <td>Intel Core i7 2.7GHz</td>\n",
              "      <td>16.0</td>\n",
              "      <td>512GB SSD</td>\n",
              "      <td>AMD Radeon Pro 455</td>\n",
              "      <td>macOS</td>\n",
              "      <td>1.83</td>\n",
              "      <td>135195.3360</td>\n",
              "      <td>0</td>\n",
              "      <td>1</td>\n",
              "      <td>220.534624</td>\n",
              "      <td>Intel Core i7</td>\n",
              "      <td>Intel Core i7</td>\n",
              "    </tr>\n",
              "    <tr>\n",
              "      <th>4</th>\n",
              "      <td>Apple</td>\n",
              "      <td>Ultrabook</td>\n",
              "      <td>Intel Core i5 3.1GHz</td>\n",
              "      <td>8.0</td>\n",
              "      <td>256GB SSD</td>\n",
              "      <td>Intel Iris Plus Graphics 650</td>\n",
              "      <td>macOS</td>\n",
              "      <td>1.37</td>\n",
              "      <td>96095.8080</td>\n",
              "      <td>0</td>\n",
              "      <td>1</td>\n",
              "      <td>226.983005</td>\n",
              "      <td>Intel Core i5</td>\n",
              "      <td>Intel Core i5</td>\n",
              "    </tr>\n",
              "  </tbody>\n",
              "</table>\n",
              "</div>"
            ],
            "text/plain": [
              "  Company   TypeName                         Cpu   Ram               Memory  \\\n",
              "0   Apple  Ultrabook        Intel Core i5 2.3GHz   8.0            128GB SSD   \n",
              "1   Apple  Ultrabook        Intel Core i5 1.8GHz   8.0  128GB Flash Storage   \n",
              "2      HP   Notebook  Intel Core i5 7200U 2.5GHz   8.0            256GB SSD   \n",
              "3   Apple  Ultrabook        Intel Core i7 2.7GHz  16.0            512GB SSD   \n",
              "4   Apple  Ultrabook        Intel Core i5 3.1GHz   8.0            256GB SSD   \n",
              "\n",
              "                            Gpu  OpSys  Weight        Price  TouchScreen  IPS  \\\n",
              "0  Intel Iris Plus Graphics 640  macOS    1.37   71378.6832            0    1   \n",
              "1        Intel HD Graphics 6000  macOS    1.34   47895.5232            0    0   \n",
              "2         Intel HD Graphics 620  No OS    1.86   30636.0000            0    0   \n",
              "3            AMD Radeon Pro 455  macOS    1.83  135195.3360            0    1   \n",
              "4  Intel Iris Plus Graphics 650  macOS    1.37   96095.8080            0    1   \n",
              "\n",
              "          ppi      Cpu_Model      cpu_brand  \n",
              "0  226.983005  Intel Core i5  Intel Core i5  \n",
              "1  127.677940  Intel Core i5  Intel Core i5  \n",
              "2  141.211998  Intel Core i5  Intel Core i5  \n",
              "3  220.534624  Intel Core i7  Intel Core i7  \n",
              "4  226.983005  Intel Core i5  Intel Core i5  "
            ]
          },
          "execution_count": 207,
          "metadata": {},
          "output_type": "execute_result"
        }
      ],
      "source": [
        "df.head()"
      ]
    },
    {
      "cell_type": "code",
      "execution_count": null,
      "id": "491b7050",
      "metadata": {
        "id": "491b7050",
        "outputId": "a18c59d3-9347-4892-99d6-016a76a9edb2"
      },
      "outputs": [
        {
          "data": {
            "text/plain": [
              "Intel Core i7             503\n",
              "Intel Core i5             410\n",
              "Other Intel Processosr    138\n",
              "Intel Core i3             132\n",
              "AMD                        61\n",
              "Name: cpu_brand, dtype: int64"
            ]
          },
          "execution_count": 208,
          "metadata": {},
          "output_type": "execute_result"
        }
      ],
      "source": [
        "df['cpu_brand'].value_counts()"
      ]
    },
    {
      "cell_type": "code",
      "execution_count": null,
      "id": "8eaadefb",
      "metadata": {
        "scrolled": true,
        "id": "8eaadefb"
      },
      "outputs": [],
      "source": [
        "df['Gpu_Model']=df['Gpu'].apply(lambda x:x.split()[0])"
      ]
    },
    {
      "cell_type": "code",
      "execution_count": null,
      "id": "c9276a2f",
      "metadata": {
        "id": "c9276a2f"
      },
      "outputs": [],
      "source": [
        "df.drop(columns=['Cpu_Model'],inplace=True)"
      ]
    },
    {
      "cell_type": "code",
      "execution_count": null,
      "id": "691b7728",
      "metadata": {
        "id": "691b7728"
      },
      "outputs": [],
      "source": [
        "df.drop(columns=['Cpu'],inplace=True)"
      ]
    },
    {
      "cell_type": "code",
      "execution_count": null,
      "id": "93ef3812",
      "metadata": {
        "id": "93ef3812"
      },
      "outputs": [],
      "source": [
        "df.drop(columns=['Gpu'],inplace=True)"
      ]
    },
    {
      "cell_type": "code",
      "execution_count": null,
      "id": "fa14510a",
      "metadata": {
        "scrolled": true,
        "id": "fa14510a",
        "outputId": "81df6363-75b6-45f6-959d-9cff22da30a3"
      },
      "outputs": [
        {
          "data": {
            "text/html": [
              "<div>\n",
              "<style scoped>\n",
              "    .dataframe tbody tr th:only-of-type {\n",
              "        vertical-align: middle;\n",
              "    }\n",
              "\n",
              "    .dataframe tbody tr th {\n",
              "        vertical-align: top;\n",
              "    }\n",
              "\n",
              "    .dataframe thead th {\n",
              "        text-align: right;\n",
              "    }\n",
              "</style>\n",
              "<table border=\"1\" class=\"dataframe\">\n",
              "  <thead>\n",
              "    <tr style=\"text-align: right;\">\n",
              "      <th></th>\n",
              "      <th>Company</th>\n",
              "      <th>TypeName</th>\n",
              "      <th>Ram</th>\n",
              "      <th>Memory</th>\n",
              "      <th>OpSys</th>\n",
              "      <th>Weight</th>\n",
              "      <th>Price</th>\n",
              "      <th>TouchScreen</th>\n",
              "      <th>IPS</th>\n",
              "      <th>ppi</th>\n",
              "      <th>cpu_brand</th>\n",
              "      <th>Gpu_Model</th>\n",
              "    </tr>\n",
              "  </thead>\n",
              "  <tbody>\n",
              "    <tr>\n",
              "      <th>0</th>\n",
              "      <td>Apple</td>\n",
              "      <td>Ultrabook</td>\n",
              "      <td>8.0</td>\n",
              "      <td>128GB SSD</td>\n",
              "      <td>macOS</td>\n",
              "      <td>1.37</td>\n",
              "      <td>71378.6832</td>\n",
              "      <td>0</td>\n",
              "      <td>1</td>\n",
              "      <td>226.983005</td>\n",
              "      <td>Intel Core i5</td>\n",
              "      <td>Intel</td>\n",
              "    </tr>\n",
              "    <tr>\n",
              "      <th>1</th>\n",
              "      <td>Apple</td>\n",
              "      <td>Ultrabook</td>\n",
              "      <td>8.0</td>\n",
              "      <td>128GB Flash Storage</td>\n",
              "      <td>macOS</td>\n",
              "      <td>1.34</td>\n",
              "      <td>47895.5232</td>\n",
              "      <td>0</td>\n",
              "      <td>0</td>\n",
              "      <td>127.677940</td>\n",
              "      <td>Intel Core i5</td>\n",
              "      <td>Intel</td>\n",
              "    </tr>\n",
              "    <tr>\n",
              "      <th>2</th>\n",
              "      <td>HP</td>\n",
              "      <td>Notebook</td>\n",
              "      <td>8.0</td>\n",
              "      <td>256GB SSD</td>\n",
              "      <td>No OS</td>\n",
              "      <td>1.86</td>\n",
              "      <td>30636.0000</td>\n",
              "      <td>0</td>\n",
              "      <td>0</td>\n",
              "      <td>141.211998</td>\n",
              "      <td>Intel Core i5</td>\n",
              "      <td>Intel</td>\n",
              "    </tr>\n",
              "    <tr>\n",
              "      <th>3</th>\n",
              "      <td>Apple</td>\n",
              "      <td>Ultrabook</td>\n",
              "      <td>16.0</td>\n",
              "      <td>512GB SSD</td>\n",
              "      <td>macOS</td>\n",
              "      <td>1.83</td>\n",
              "      <td>135195.3360</td>\n",
              "      <td>0</td>\n",
              "      <td>1</td>\n",
              "      <td>220.534624</td>\n",
              "      <td>Intel Core i7</td>\n",
              "      <td>AMD</td>\n",
              "    </tr>\n",
              "    <tr>\n",
              "      <th>4</th>\n",
              "      <td>Apple</td>\n",
              "      <td>Ultrabook</td>\n",
              "      <td>8.0</td>\n",
              "      <td>256GB SSD</td>\n",
              "      <td>macOS</td>\n",
              "      <td>1.37</td>\n",
              "      <td>96095.8080</td>\n",
              "      <td>0</td>\n",
              "      <td>1</td>\n",
              "      <td>226.983005</td>\n",
              "      <td>Intel Core i5</td>\n",
              "      <td>Intel</td>\n",
              "    </tr>\n",
              "  </tbody>\n",
              "</table>\n",
              "</div>"
            ],
            "text/plain": [
              "  Company   TypeName   Ram               Memory  OpSys  Weight        Price  \\\n",
              "0   Apple  Ultrabook   8.0            128GB SSD  macOS    1.37   71378.6832   \n",
              "1   Apple  Ultrabook   8.0  128GB Flash Storage  macOS    1.34   47895.5232   \n",
              "2      HP   Notebook   8.0            256GB SSD  No OS    1.86   30636.0000   \n",
              "3   Apple  Ultrabook  16.0            512GB SSD  macOS    1.83  135195.3360   \n",
              "4   Apple  Ultrabook   8.0            256GB SSD  macOS    1.37   96095.8080   \n",
              "\n",
              "   TouchScreen  IPS         ppi      cpu_brand Gpu_Model  \n",
              "0            0    1  226.983005  Intel Core i5     Intel  \n",
              "1            0    0  127.677940  Intel Core i5     Intel  \n",
              "2            0    0  141.211998  Intel Core i5     Intel  \n",
              "3            0    1  220.534624  Intel Core i7       AMD  \n",
              "4            0    1  226.983005  Intel Core i5     Intel  "
            ]
          },
          "execution_count": 213,
          "metadata": {},
          "output_type": "execute_result"
        }
      ],
      "source": [
        "df.head()"
      ]
    },
    {
      "cell_type": "code",
      "execution_count": null,
      "id": "2b424d5e",
      "metadata": {
        "id": "2b424d5e",
        "outputId": "8220815a-683d-4480-a2ae-e8beddd5c864"
      },
      "outputs": [
        {
          "data": {
            "text/plain": [
              "Intel     684\n",
              "Nvidia    389\n",
              "AMD       170\n",
              "ARM         1\n",
              "Name: Gpu_Model, dtype: int64"
            ]
          },
          "execution_count": 214,
          "metadata": {},
          "output_type": "execute_result"
        }
      ],
      "source": [
        "df['Gpu_Model'].value_counts()"
      ]
    },
    {
      "cell_type": "code",
      "execution_count": null,
      "id": "fac10c96",
      "metadata": {
        "id": "fac10c96",
        "outputId": "b432cf91-f51e-4732-b420-adce97ea1973"
      },
      "outputs": [
        {
          "data": {
            "text/plain": [
              "<AxesSubplot:xlabel='cpu_brand', ylabel='count'>"
            ]
          },
          "execution_count": 215,
          "metadata": {},
          "output_type": "execute_result"
        },
        {
          "data": {
            "image/png": "[encoded data removed]",
            "text/plain": [
              "<Figure size 800x500 with 1 Axes>"
            ]
          },
          "metadata": {},
          "output_type": "display_data"
        }
      ],
      "source": [
        "plt.figure(figsize=(8,5))\n",
        "sns.countplot(x=df['cpu_brand'],data=df)"
      ]
    },
    {
      "cell_type": "code",
      "execution_count": null,
      "id": "eb30061a",
      "metadata": {
        "id": "eb30061a",
        "outputId": "47f18cc3-4719-4b8e-feb0-3da644756686"
      },
      "outputs": [
        {
          "data": {
            "text/plain": [
              "<AxesSubplot:xlabel='cpu_brand', ylabel='Price'>"
            ]
          },
          "execution_count": 216,
          "metadata": {},
          "output_type": "execute_result"
        },
        {
          "data": {
            "image/png": "[encoded data removed]",
            "text/plain": [
              "<Figure size 800x500 with 1 Axes>"
            ]
          },
          "metadata": {},
          "output_type": "display_data"
        }
      ],
      "source": [
        "plt.figure(figsize=(8,5))\n",
        "sns.barplot(x=df['cpu_brand'],y=df['Price'])"
      ]
    },
    {
      "cell_type": "code",
      "execution_count": null,
      "id": "56097058",
      "metadata": {
        "id": "56097058",
        "outputId": "3f56b307-c7c5-4e96-dfca-df8c8f13df4d"
      },
      "outputs": [
        {
          "data": {
            "text/plain": [
              "<AxesSubplot:xlabel='Gpu_Model', ylabel='count'>"
            ]
          },
          "execution_count": 217,
          "metadata": {},
          "output_type": "execute_result"
        },
        {
          "data": {
            "image/png": "[encoded data removed]",
            "text/plain": [
              "<Figure size 800x500 with 1 Axes>"
            ]
          },
          "metadata": {},
          "output_type": "display_data"
        }
      ],
      "source": [
        "plt.figure(figsize=(8,5))\n",
        "sns.countplot(x=df['Gpu_Model'],data=df)"
      ]
    },
    {
      "cell_type": "code",
      "execution_count": null,
      "id": "50d64750",
      "metadata": {
        "id": "50d64750",
        "outputId": "35fb840f-0137-45ec-9904-298bf5fc3451"
      },
      "outputs": [
        {
          "data": {
            "text/plain": [
              "<AxesSubplot:xlabel='Gpu_Model', ylabel='Price'>"
            ]
          },
          "execution_count": 218,
          "metadata": {},
          "output_type": "execute_result"
        },
        {
          "data": {
            "image/png": "[encoded data removed]",
            "text/plain": [
              "<Figure size 800x500 with 1 Axes>"
            ]
          },
          "metadata": {},
          "output_type": "display_data"
        }
      ],
      "source": [
        "plt.figure(figsize=(8,5))\n",
        "sns.barplot(x=df['Gpu_Model'],y=df['Price'])"
      ]
    },
    {
      "cell_type": "code",
      "execution_count": null,
      "id": "acf07bf9",
      "metadata": {
        "id": "acf07bf9",
        "outputId": "eebc8c0d-cf81-4c17-bbd1-4780617a8ea3"
      },
      "outputs": [
        {
          "data": {
            "text/plain": [
              "256GB SSD                        401\n",
              "1TB HDD                          209\n",
              "500GB HDD                        121\n",
              "512GB SSD                        112\n",
              "128GB SSD +  1TB HDD              92\n",
              "128GB SSD                         72\n",
              "256GB SSD +  1TB HDD              71\n",
              "32GB Flash Storage                35\n",
              "2TB HDD                           16\n",
              "512GB SSD +  1TB HDD              14\n",
              "1TB SSD                           13\n",
              "64GB Flash Storage                12\n",
              "256GB SSD +  2TB HDD              10\n",
              "256GB Flash Storage                8\n",
              "16GB Flash Storage                 7\n",
              "1.0TB Hybrid                       7\n",
              "32GB SSD                           6\n",
              "180GB SSD                          4\n",
              "128GB Flash Storage                4\n",
              "512GB SSD +  2TB HDD               3\n",
              "16GB SSD                           3\n",
              "512GB Flash Storage                2\n",
              "1TB SSD +  1TB HDD                 2\n",
              "128GB SSD +  2TB HDD               2\n",
              "256GB SSD +  500GB HDD             2\n",
              "256GB SSD +  256GB SSD             2\n",
              "512GB SSD +  256GB SSD             1\n",
              "512GB SSD +  512GB SSD             1\n",
              "64GB Flash Storage +  1TB HDD      1\n",
              "1TB HDD +  1TB HDD                 1\n",
              "32GB HDD                           1\n",
              "64GB SSD                           1\n",
              "?                                  1\n",
              "128GB HDD                          1\n",
              "240GB SSD                          1\n",
              "8GB SSD                            1\n",
              "508GB Hybrid                       1\n",
              "1.0TB HDD                          1\n",
              "512GB SSD +  1.0TB Hybrid          1\n",
              "256GB SSD +  1.0TB Hybrid          1\n",
              "Name: Memory, dtype: int64"
            ]
          },
          "execution_count": 219,
          "metadata": {},
          "output_type": "execute_result"
        }
      ],
      "source": [
        "df['Memory'].value_counts()"
      ]
    },
    {
      "cell_type": "code",
      "execution_count": null,
      "id": "e1510feb",
      "metadata": {
        "id": "e1510feb",
        "outputId": "59c1fb68-db90-40cb-bce6-b9b21bf66e08"
      },
      "outputs": [
        {
          "data": {
            "text/plain": [
              "Windows 10      1022\n",
              "No OS             63\n",
              "Linux             57\n",
              "Windows 7         45\n",
              "Chrome OS         27\n",
              "macOS             13\n",
              "Mac OS X           8\n",
              "Windows 10 S       8\n",
              "Android            1\n",
              "Name: OpSys, dtype: int64"
            ]
          },
          "execution_count": 220,
          "metadata": {},
          "output_type": "execute_result"
        }
      ],
      "source": [
        "df['OpSys'].value_counts()"
      ]
    },
    {
      "cell_type": "code",
      "execution_count": null,
      "id": "bf2526ba",
      "metadata": {
        "id": "bf2526ba"
      },
      "outputs": [],
      "source": [
        "df['Memory']=df['Memory'].astype(str).replace('\\.0','',regex=True)\n",
        "df['Memory']=df['Memory'].str.replace('GB','')\n",
        "df['Memory']=df['Memory'].str.replace('TB','000')"
      ]
    },
    {
      "cell_type": "code",
      "execution_count": null,
      "id": "b272b77c",
      "metadata": {
        "id": "b272b77c"
      },
      "outputs": [],
      "source": [
        "x=df['Memory'].str.split('+',n=1,expand=True)\n"
      ]
    },
    {
      "cell_type": "code",
      "execution_count": null,
      "id": "2f238af2",
      "metadata": {
        "id": "2f238af2"
      },
      "outputs": [],
      "source": [
        "df['first']=x[0]\n",
        "df['first']=df['first'].str.strip()\n",
        "df['second']=x[1]"
      ]
    },
    {
      "cell_type": "code",
      "execution_count": null,
      "id": "c22376bb",
      "metadata": {
        "id": "c22376bb"
      },
      "outputs": [],
      "source": [
        "df['layer_1_SSD']=df['first'].apply(lambda x:1 if 'SSD' in x else 0)\n",
        "df['layer_1_HDD']=df['first'].apply(lambda x:1 if 'HDD' in x else 0)"
      ]
    },
    {
      "cell_type": "code",
      "execution_count": null,
      "id": "a1b4c432",
      "metadata": {
        "id": "a1b4c432",
        "outputId": "0c90701f-4632-46b1-d4dc-2d4d031048da"
      },
      "outputs": [
        {
          "data": {
            "text/plain": [
              "'256'"
            ]
          },
          "execution_count": 230,
          "metadata": {},
          "output_type": "execute_result"
        }
      ],
      "source": [
        "m=df['first'].mode()[0]\n",
        "m"
      ]
    },
    {
      "cell_type": "code",
      "execution_count": null,
      "id": "c13cfd93",
      "metadata": {
        "id": "c13cfd93"
      },
      "outputs": [],
      "source": [
        "df['first']=df['first'].str.replace(r'\\D','')"
      ]
    },
    {
      "cell_type": "code",
      "execution_count": null,
      "id": "efcad438",
      "metadata": {
        "id": "efcad438"
      },
      "outputs": [],
      "source": [
        "df['first']=df['first'].replace('',m)"
      ]
    },
    {
      "cell_type": "code",
      "execution_count": null,
      "id": "35e1f653",
      "metadata": {
        "id": "35e1f653"
      },
      "outputs": [],
      "source": [
        "df['second'].fillna('0',inplace=True)\n",
        "df['layer_2_SSD']=df['second'].apply(lambda x:1 if 'SSD' in x else 0)\n",
        "df['layer_2_HDD']=df['second'].apply(lambda x:1 if 'HDD' in x else 0)\n",
        "df['second']=df['second'].str.replace(r'\\D','')"
      ]
    },
    {
      "cell_type": "code",
      "execution_count": null,
      "id": "1c793ca9",
      "metadata": {
        "id": "1c793ca9"
      },
      "outputs": [],
      "source": [
        "df['first']=df['first'].astype(int)\n",
        "\n",
        "df['second']=df['second'].astype(int)"
      ]
    },
    {
      "cell_type": "code",
      "execution_count": null,
      "id": "9b2d2a15",
      "metadata": {
        "id": "9b2d2a15"
      },
      "outputs": [],
      "source": [
        "df['SSD']=df['first']*df['layer_1_SSD']+df['second']*df['layer_2_SSD']\n",
        "\n",
        "df['HDD']=df['first']*df['layer_1_HDD']+df['second']*df['layer_2_HDD']"
      ]
    },
    {
      "cell_type": "code",
      "execution_count": null,
      "id": "1919d7a1",
      "metadata": {
        "id": "1919d7a1"
      },
      "outputs": [],
      "source": [
        "df.drop(columns=['Memory','first','second','layer_1_SSD','layer_1_HDD','layer_2_SSD','layer_2_HDD'],inplace=True)"
      ]
    },
    {
      "cell_type": "code",
      "execution_count": null,
      "id": "d0e44796",
      "metadata": {
        "id": "d0e44796",
        "outputId": "92dd4c0d-0b01-4987-b8a6-3bd5740bfe46"
      },
      "outputs": [
        {
          "data": {
            "text/plain": [
              "Windows 10      1022\n",
              "No OS             63\n",
              "Linux             57\n",
              "Windows 7         45\n",
              "Chrome OS         27\n",
              "macOS             13\n",
              "Mac OS X           8\n",
              "Windows 10 S       8\n",
              "Android            1\n",
              "Name: OpSys, dtype: int64"
            ]
          },
          "execution_count": 238,
          "metadata": {},
          "output_type": "execute_result"
        }
      ],
      "source": [
        "df['OpSys'].value_counts()"
      ]
    },
    {
      "cell_type": "code",
      "execution_count": null,
      "id": "a8ca4a74",
      "metadata": {
        "id": "a8ca4a74"
      },
      "outputs": [],
      "source": [
        "def operating_systems(text):\n",
        "    if text == 'Windows 10' or text == 'Windows 7' or text == 'Windows 10 S':\n",
        "        return 'Windows'\n",
        "    elif text == 'macOS' or text == 'Mac OS X':\n",
        "        return 'Mac'\n",
        "    else:\n",
        "        return 'others/No os/Linux'\n",
        "df['OS']=df['OpSys'].apply(operating_systems)"
      ]
    },
    {
      "cell_type": "code",
      "execution_count": null,
      "id": "3712abc3",
      "metadata": {
        "id": "3712abc3"
      },
      "outputs": [],
      "source": [
        "df.drop(columns=['OpSys'],inplace=True)"
      ]
    },
    {
      "cell_type": "code",
      "execution_count": null,
      "id": "6fe95101",
      "metadata": {
        "id": "6fe95101",
        "outputId": "412a2456-7c21-45ba-99e4-74a685353ff8"
      },
      "outputs": [
        {
          "data": {
            "text/plain": [
              "<AxesSubplot:xlabel='OS', ylabel='count'>"
            ]
          },
          "execution_count": 243,
          "metadata": {},
          "output_type": "execute_result"
        },
        {
          "data": {
            "image/png": "[encoded data removed]",
            "text/plain": [
              "<Figure size 800x500 with 1 Axes>"
            ]
          },
          "metadata": {},
          "output_type": "display_data"
        }
      ],
      "source": [
        "plt.figure(figsize=(8,5))\n",
        "sns.countplot(x=df['OS'],data=df)"
      ]
    },
    {
      "cell_type": "code",
      "execution_count": null,
      "id": "9241bcd2",
      "metadata": {
        "id": "9241bcd2",
        "outputId": "66146586-9ea3-44f6-a699-787bbbe67ca3"
      },
      "outputs": [
        {
          "data": {
            "text/plain": [
              "<AxesSubplot:xlabel='OS', ylabel='Price'>"
            ]
          },
          "execution_count": 249,
          "metadata": {},
          "output_type": "execute_result"
        },
        {
          "data": {
            "image/png": "[encoded data removed]",
            "text/plain": [
              "<Figure size 800x500 with 1 Axes>"
            ]
          },
          "metadata": {},
          "output_type": "display_data"
        }
      ],
      "source": [
        "plt.figure(figsize=(8,5))\n",
        "sns.barplot(x=df['OS'],y=df['Price'])"
      ]
    },
    {
      "cell_type": "code",
      "execution_count": null,
      "id": "a2095aad",
      "metadata": {
        "id": "a2095aad",
        "outputId": "d805a7fe-378f-4c9f-a9c7-c4749ef93d7a"
      },
      "outputs": [
        {
          "name": "stdout",
          "output_type": "stream",
          "text": [
            "<class 'pandas.core.frame.DataFrame'>\n",
            "RangeIndex: 1244 entries, 0 to 1243\n",
            "Data columns (total 13 columns):\n",
            " #   Column       Non-Null Count  Dtype  \n",
            "---  ------       --------------  -----  \n",
            " 0   Company      1244 non-null   object \n",
            " 1   TypeName     1244 non-null   object \n",
            " 2   Ram          1244 non-null   float64\n",
            " 3   Weight       1244 non-null   float64\n",
            " 4   Price        1244 non-null   float64\n",
            " 5   TouchScreen  1244 non-null   int32  \n",
            " 6   IPS          1244 non-null   int32  \n",
            " 7   ppi          1244 non-null   float64\n",
            " 8   cpu_brand    1244 non-null   object \n",
            " 9   Gpu_Model    1244 non-null   object \n",
            " 10  SSD          1244 non-null   int64  \n",
            " 11  HDD          1244 non-null   int64  \n",
            " 12  OS           1244 non-null   object \n",
            "dtypes: float64(4), int32(2), int64(2), object(5)\n",
            "memory usage: 116.8+ KB\n"
          ]
        }
      ],
      "source": [
        "df.info()"
      ]
    },
    {
      "cell_type": "code",
      "execution_count": null,
      "id": "fbadb9f2",
      "metadata": {
        "id": "fbadb9f2",
        "outputId": "5cd310ab-e881-4dcc-bd8f-4f08f07cc374"
      },
      "outputs": [
        {
          "data": {
            "text/html": [
              "<div>\n",
              "<style scoped>\n",
              "    .dataframe tbody tr th:only-of-type {\n",
              "        vertical-align: middle;\n",
              "    }\n",
              "\n",
              "    .dataframe tbody tr th {\n",
              "        vertical-align: top;\n",
              "    }\n",
              "\n",
              "    .dataframe thead th {\n",
              "        text-align: right;\n",
              "    }\n",
              "</style>\n",
              "<table border=\"1\" class=\"dataframe\">\n",
              "  <thead>\n",
              "    <tr style=\"text-align: right;\">\n",
              "      <th></th>\n",
              "      <th>Company</th>\n",
              "      <th>TypeName</th>\n",
              "      <th>Ram</th>\n",
              "      <th>Weight</th>\n",
              "      <th>Price</th>\n",
              "      <th>TouchScreen</th>\n",
              "      <th>IPS</th>\n",
              "      <th>ppi</th>\n",
              "      <th>cpu_brand</th>\n",
              "      <th>Gpu_Model</th>\n",
              "      <th>SSD</th>\n",
              "      <th>HDD</th>\n",
              "      <th>OS</th>\n",
              "    </tr>\n",
              "  </thead>\n",
              "  <tbody>\n",
              "    <tr>\n",
              "      <th>0</th>\n",
              "      <td>Apple</td>\n",
              "      <td>Ultrabook</td>\n",
              "      <td>8.0</td>\n",
              "      <td>1.37</td>\n",
              "      <td>71378.6832</td>\n",
              "      <td>0</td>\n",
              "      <td>1</td>\n",
              "      <td>226.983005</td>\n",
              "      <td>Intel Core i5</td>\n",
              "      <td>Intel</td>\n",
              "      <td>128</td>\n",
              "      <td>0</td>\n",
              "      <td>Mac</td>\n",
              "    </tr>\n",
              "    <tr>\n",
              "      <th>1</th>\n",
              "      <td>Apple</td>\n",
              "      <td>Ultrabook</td>\n",
              "      <td>8.0</td>\n",
              "      <td>1.34</td>\n",
              "      <td>47895.5232</td>\n",
              "      <td>0</td>\n",
              "      <td>0</td>\n",
              "      <td>127.677940</td>\n",
              "      <td>Intel Core i5</td>\n",
              "      <td>Intel</td>\n",
              "      <td>0</td>\n",
              "      <td>0</td>\n",
              "      <td>Mac</td>\n",
              "    </tr>\n",
              "    <tr>\n",
              "      <th>2</th>\n",
              "      <td>HP</td>\n",
              "      <td>Notebook</td>\n",
              "      <td>8.0</td>\n",
              "      <td>1.86</td>\n",
              "      <td>30636.0000</td>\n",
              "      <td>0</td>\n",
              "      <td>0</td>\n",
              "      <td>141.211998</td>\n",
              "      <td>Intel Core i5</td>\n",
              "      <td>Intel</td>\n",
              "      <td>256</td>\n",
              "      <td>0</td>\n",
              "      <td>others/No os/Linux</td>\n",
              "    </tr>\n",
              "    <tr>\n",
              "      <th>3</th>\n",
              "      <td>Apple</td>\n",
              "      <td>Ultrabook</td>\n",
              "      <td>16.0</td>\n",
              "      <td>1.83</td>\n",
              "      <td>135195.3360</td>\n",
              "      <td>0</td>\n",
              "      <td>1</td>\n",
              "      <td>220.534624</td>\n",
              "      <td>Intel Core i7</td>\n",
              "      <td>AMD</td>\n",
              "      <td>512</td>\n",
              "      <td>0</td>\n",
              "      <td>Mac</td>\n",
              "    </tr>\n",
              "    <tr>\n",
              "      <th>4</th>\n",
              "      <td>Apple</td>\n",
              "      <td>Ultrabook</td>\n",
              "      <td>8.0</td>\n",
              "      <td>1.37</td>\n",
              "      <td>96095.8080</td>\n",
              "      <td>0</td>\n",
              "      <td>1</td>\n",
              "      <td>226.983005</td>\n",
              "      <td>Intel Core i5</td>\n",
              "      <td>Intel</td>\n",
              "      <td>256</td>\n",
              "      <td>0</td>\n",
              "      <td>Mac</td>\n",
              "    </tr>\n",
              "  </tbody>\n",
              "</table>\n",
              "</div>"
            ],
            "text/plain": [
              "  Company   TypeName   Ram  Weight        Price  TouchScreen  IPS         ppi  \\\n",
              "0   Apple  Ultrabook   8.0    1.37   71378.6832            0    1  226.983005   \n",
              "1   Apple  Ultrabook   8.0    1.34   47895.5232            0    0  127.677940   \n",
              "2      HP   Notebook   8.0    1.86   30636.0000            0    0  141.211998   \n",
              "3   Apple  Ultrabook  16.0    1.83  135195.3360            0    1  220.534624   \n",
              "4   Apple  Ultrabook   8.0    1.37   96095.8080            0    1  226.983005   \n",
              "\n",
              "       cpu_brand Gpu_Model  SSD  HDD                  OS  \n",
              "0  Intel Core i5     Intel  128    0                 Mac  \n",
              "1  Intel Core i5     Intel    0    0                 Mac  \n",
              "2  Intel Core i5     Intel  256    0  others/No os/Linux  \n",
              "3  Intel Core i7       AMD  512    0                 Mac  \n",
              "4  Intel Core i5     Intel  256    0                 Mac  "
            ]
          },
          "execution_count": 251,
          "metadata": {},
          "output_type": "execute_result"
        }
      ],
      "source": [
        "df.head()"
      ]
    },
    {
      "cell_type": "code",
      "execution_count": null,
      "id": "5f785f6a",
      "metadata": {
        "id": "5f785f6a"
      },
      "outputs": [],
      "source": [
        "# We have to encode the columns\n",
        "# Company, TypeName, cpu_brand, Gpu_model, OS"
      ]
    },
    {
      "cell_type": "code",
      "execution_count": null,
      "id": "8de329df",
      "metadata": {
        "id": "8de329df",
        "outputId": "f6e1f6c0-6ac7-4329-b7d1-65975461d8e0"
      },
      "outputs": [
        {
          "name": "stdout",
          "output_type": "stream",
          "text": [
            "Lenovo       282\n",
            "Dell         281\n",
            "HP           260\n",
            "Asus         149\n",
            "Acer         101\n",
            "MSI           53\n",
            "Toshiba       47\n",
            "Apple         21\n",
            "Samsung        9\n",
            "Razer          7\n",
            "Mediacom       7\n",
            "Microsoft      6\n",
            "Xiaomi         4\n",
            "Vero           4\n",
            "Chuwi          3\n",
            "Google         3\n",
            "LG             3\n",
            "Huawei         2\n",
            "Fujitsu        2\n",
            "Name: Company, dtype: int64\n",
            "================================\n",
            "Notebook              689\n",
            "Gaming                203\n",
            "Ultrabook             189\n",
            "2 in 1 Convertible    112\n",
            "Workstation            29\n",
            "Netbook                22\n",
            "Name: TypeName, dtype: int64\n",
            "================================\n",
            "Intel Core i7             503\n",
            "Intel Core i5             410\n",
            "Other Intel Processosr    138\n",
            "Intel Core i3             132\n",
            "AMD                        61\n",
            "Name: cpu_brand, dtype: int64\n",
            "================================\n",
            "Intel     684\n",
            "Nvidia    389\n",
            "AMD       170\n",
            "ARM         1\n",
            "Name: Gpu_Model, dtype: int64\n",
            "================================\n",
            "Windows               1075\n",
            "others/No os/Linux     148\n",
            "Mac                     21\n",
            "Name: OS, dtype: int64\n",
            "================================\n"
          ]
        }
      ],
      "source": [
        "for i in df[['Company', 'TypeName', 'cpu_brand', 'Gpu_Model', 'OS']]:\n",
        "    x= df[i].value_counts()\n",
        "    print(x)\n",
        "    print('================================')"
      ]
    },
    {
      "cell_type": "code",
      "execution_count": null,
      "id": "80884026",
      "metadata": {
        "id": "80884026"
      },
      "outputs": [],
      "source": [
        "lap_data=df.copy()"
      ]
    },
    {
      "cell_type": "code",
      "execution_count": null,
      "id": "24ff5055",
      "metadata": {
        "id": "24ff5055",
        "outputId": "97b35834-cff3-4917-cd42-c58c21d6efdd"
      },
      "outputs": [
        {
          "data": {
            "text/html": [
              "<div>\n",
              "<style scoped>\n",
              "    .dataframe tbody tr th:only-of-type {\n",
              "        vertical-align: middle;\n",
              "    }\n",
              "\n",
              "    .dataframe tbody tr th {\n",
              "        vertical-align: top;\n",
              "    }\n",
              "\n",
              "    .dataframe thead th {\n",
              "        text-align: right;\n",
              "    }\n",
              "</style>\n",
              "<table border=\"1\" class=\"dataframe\">\n",
              "  <thead>\n",
              "    <tr style=\"text-align: right;\">\n",
              "      <th></th>\n",
              "      <th>Company</th>\n",
              "      <th>TypeName</th>\n",
              "      <th>Ram</th>\n",
              "      <th>Weight</th>\n",
              "      <th>Price</th>\n",
              "      <th>TouchScreen</th>\n",
              "      <th>IPS</th>\n",
              "      <th>ppi</th>\n",
              "      <th>cpu_brand</th>\n",
              "      <th>Gpu_Model</th>\n",
              "      <th>SSD</th>\n",
              "      <th>HDD</th>\n",
              "      <th>OS</th>\n",
              "    </tr>\n",
              "  </thead>\n",
              "  <tbody>\n",
              "    <tr>\n",
              "      <th>0</th>\n",
              "      <td>Apple</td>\n",
              "      <td>Ultrabook</td>\n",
              "      <td>8.0</td>\n",
              "      <td>1.37</td>\n",
              "      <td>71378.6832</td>\n",
              "      <td>0</td>\n",
              "      <td>1</td>\n",
              "      <td>226.983005</td>\n",
              "      <td>Intel Core i5</td>\n",
              "      <td>Intel</td>\n",
              "      <td>128</td>\n",
              "      <td>0</td>\n",
              "      <td>Mac</td>\n",
              "    </tr>\n",
              "    <tr>\n",
              "      <th>1</th>\n",
              "      <td>Apple</td>\n",
              "      <td>Ultrabook</td>\n",
              "      <td>8.0</td>\n",
              "      <td>1.34</td>\n",
              "      <td>47895.5232</td>\n",
              "      <td>0</td>\n",
              "      <td>0</td>\n",
              "      <td>127.677940</td>\n",
              "      <td>Intel Core i5</td>\n",
              "      <td>Intel</td>\n",
              "      <td>0</td>\n",
              "      <td>0</td>\n",
              "      <td>Mac</td>\n",
              "    </tr>\n",
              "    <tr>\n",
              "      <th>2</th>\n",
              "      <td>HP</td>\n",
              "      <td>Notebook</td>\n",
              "      <td>8.0</td>\n",
              "      <td>1.86</td>\n",
              "      <td>30636.0000</td>\n",
              "      <td>0</td>\n",
              "      <td>0</td>\n",
              "      <td>141.211998</td>\n",
              "      <td>Intel Core i5</td>\n",
              "      <td>Intel</td>\n",
              "      <td>256</td>\n",
              "      <td>0</td>\n",
              "      <td>others/No os/Linux</td>\n",
              "    </tr>\n",
              "    <tr>\n",
              "      <th>3</th>\n",
              "      <td>Apple</td>\n",
              "      <td>Ultrabook</td>\n",
              "      <td>16.0</td>\n",
              "      <td>1.83</td>\n",
              "      <td>135195.3360</td>\n",
              "      <td>0</td>\n",
              "      <td>1</td>\n",
              "      <td>220.534624</td>\n",
              "      <td>Intel Core i7</td>\n",
              "      <td>AMD</td>\n",
              "      <td>512</td>\n",
              "      <td>0</td>\n",
              "      <td>Mac</td>\n",
              "    </tr>\n",
              "    <tr>\n",
              "      <th>4</th>\n",
              "      <td>Apple</td>\n",
              "      <td>Ultrabook</td>\n",
              "      <td>8.0</td>\n",
              "      <td>1.37</td>\n",
              "      <td>96095.8080</td>\n",
              "      <td>0</td>\n",
              "      <td>1</td>\n",
              "      <td>226.983005</td>\n",
              "      <td>Intel Core i5</td>\n",
              "      <td>Intel</td>\n",
              "      <td>256</td>\n",
              "      <td>0</td>\n",
              "      <td>Mac</td>\n",
              "    </tr>\n",
              "  </tbody>\n",
              "</table>\n",
              "</div>"
            ],
            "text/plain": [
              "  Company   TypeName   Ram  Weight        Price  TouchScreen  IPS         ppi  \\\n",
              "0   Apple  Ultrabook   8.0    1.37   71378.6832            0    1  226.983005   \n",
              "1   Apple  Ultrabook   8.0    1.34   47895.5232            0    0  127.677940   \n",
              "2      HP   Notebook   8.0    1.86   30636.0000            0    0  141.211998   \n",
              "3   Apple  Ultrabook  16.0    1.83  135195.3360            0    1  220.534624   \n",
              "4   Apple  Ultrabook   8.0    1.37   96095.8080            0    1  226.983005   \n",
              "\n",
              "       cpu_brand Gpu_Model  SSD  HDD                  OS  \n",
              "0  Intel Core i5     Intel  128    0                 Mac  \n",
              "1  Intel Core i5     Intel    0    0                 Mac  \n",
              "2  Intel Core i5     Intel  256    0  others/No os/Linux  \n",
              "3  Intel Core i7       AMD  512    0                 Mac  \n",
              "4  Intel Core i5     Intel  256    0                 Mac  "
            ]
          },
          "execution_count": 270,
          "metadata": {},
          "output_type": "execute_result"
        }
      ],
      "source": [
        "lap_data.head()"
      ]
    },
    {
      "cell_type": "code",
      "execution_count": null,
      "id": "f50c8426",
      "metadata": {
        "id": "f50c8426"
      },
      "outputs": [],
      "source": [
        "lap_data=pd.get_dummies(lap_data,columns=['Company', 'TypeName', 'cpu_brand', 'Gpu_Model', 'OS'],drop_first=True)"
      ]
    },
    {
      "cell_type": "code",
      "execution_count": null,
      "id": "7be044f3",
      "metadata": {
        "id": "7be044f3",
        "outputId": "dfcf0cc4-2de7-4ef7-a463-330ca7451e2d"
      },
      "outputs": [
        {
          "data": {
            "text/html": [
              "<div>\n",
              "<style scoped>\n",
              "    .dataframe tbody tr th:only-of-type {\n",
              "        vertical-align: middle;\n",
              "    }\n",
              "\n",
              "    .dataframe tbody tr th {\n",
              "        vertical-align: top;\n",
              "    }\n",
              "\n",
              "    .dataframe thead th {\n",
              "        text-align: right;\n",
              "    }\n",
              "</style>\n",
              "<table border=\"1\" class=\"dataframe\">\n",
              "  <thead>\n",
              "    <tr style=\"text-align: right;\">\n",
              "      <th></th>\n",
              "      <th>Ram</th>\n",
              "      <th>Weight</th>\n",
              "      <th>Price</th>\n",
              "      <th>TouchScreen</th>\n",
              "      <th>IPS</th>\n",
              "      <th>ppi</th>\n",
              "      <th>SSD</th>\n",
              "      <th>HDD</th>\n",
              "      <th>Company_Apple</th>\n",
              "      <th>Company_Asus</th>\n",
              "      <th>...</th>\n",
              "      <th>TypeName_Workstation</th>\n",
              "      <th>cpu_brand_Intel Core i3</th>\n",
              "      <th>cpu_brand_Intel Core i5</th>\n",
              "      <th>cpu_brand_Intel Core i7</th>\n",
              "      <th>cpu_brand_Other Intel Processosr</th>\n",
              "      <th>Gpu_Model_ARM</th>\n",
              "      <th>Gpu_Model_Intel</th>\n",
              "      <th>Gpu_Model_Nvidia</th>\n",
              "      <th>OS_Windows</th>\n",
              "      <th>OS_others/No os/Linux</th>\n",
              "    </tr>\n",
              "  </thead>\n",
              "  <tbody>\n",
              "    <tr>\n",
              "      <th>0</th>\n",
              "      <td>8.0</td>\n",
              "      <td>1.37</td>\n",
              "      <td>71378.6832</td>\n",
              "      <td>0</td>\n",
              "      <td>1</td>\n",
              "      <td>226.983005</td>\n",
              "      <td>128</td>\n",
              "      <td>0</td>\n",
              "      <td>1</td>\n",
              "      <td>0</td>\n",
              "      <td>...</td>\n",
              "      <td>0</td>\n",
              "      <td>0</td>\n",
              "      <td>1</td>\n",
              "      <td>0</td>\n",
              "      <td>0</td>\n",
              "      <td>0</td>\n",
              "      <td>1</td>\n",
              "      <td>0</td>\n",
              "      <td>0</td>\n",
              "      <td>0</td>\n",
              "    </tr>\n",
              "    <tr>\n",
              "      <th>1</th>\n",
              "      <td>8.0</td>\n",
              "      <td>1.34</td>\n",
              "      <td>47895.5232</td>\n",
              "      <td>0</td>\n",
              "      <td>0</td>\n",
              "      <td>127.677940</td>\n",
              "      <td>0</td>\n",
              "      <td>0</td>\n",
              "      <td>1</td>\n",
              "      <td>0</td>\n",
              "      <td>...</td>\n",
              "      <td>0</td>\n",
              "      <td>0</td>\n",
              "      <td>1</td>\n",
              "      <td>0</td>\n",
              "      <td>0</td>\n",
              "      <td>0</td>\n",
              "      <td>1</td>\n",
              "      <td>0</td>\n",
              "      <td>0</td>\n",
              "      <td>0</td>\n",
              "    </tr>\n",
              "    <tr>\n",
              "      <th>2</th>\n",
              "      <td>8.0</td>\n",
              "      <td>1.86</td>\n",
              "      <td>30636.0000</td>\n",
              "      <td>0</td>\n",
              "      <td>0</td>\n",
              "      <td>141.211998</td>\n",
              "      <td>256</td>\n",
              "      <td>0</td>\n",
              "      <td>0</td>\n",
              "      <td>0</td>\n",
              "      <td>...</td>\n",
              "      <td>0</td>\n",
              "      <td>0</td>\n",
              "      <td>1</td>\n",
              "      <td>0</td>\n",
              "      <td>0</td>\n",
              "      <td>0</td>\n",
              "      <td>1</td>\n",
              "      <td>0</td>\n",
              "      <td>0</td>\n",
              "      <td>1</td>\n",
              "    </tr>\n",
              "    <tr>\n",
              "      <th>3</th>\n",
              "      <td>16.0</td>\n",
              "      <td>1.83</td>\n",
              "      <td>135195.3360</td>\n",
              "      <td>0</td>\n",
              "      <td>1</td>\n",
              "      <td>220.534624</td>\n",
              "      <td>512</td>\n",
              "      <td>0</td>\n",
              "      <td>1</td>\n",
              "      <td>0</td>\n",
              "      <td>...</td>\n",
              "      <td>0</td>\n",
              "      <td>0</td>\n",
              "      <td>0</td>\n",
              "      <td>1</td>\n",
              "      <td>0</td>\n",
              "      <td>0</td>\n",
              "      <td>0</td>\n",
              "      <td>0</td>\n",
              "      <td>0</td>\n",
              "      <td>0</td>\n",
              "    </tr>\n",
              "    <tr>\n",
              "      <th>4</th>\n",
              "      <td>8.0</td>\n",
              "      <td>1.37</td>\n",
              "      <td>96095.8080</td>\n",
              "      <td>0</td>\n",
              "      <td>1</td>\n",
              "      <td>226.983005</td>\n",
              "      <td>256</td>\n",
              "      <td>0</td>\n",
              "      <td>1</td>\n",
              "      <td>0</td>\n",
              "      <td>...</td>\n",
              "      <td>0</td>\n",
              "      <td>0</td>\n",
              "      <td>1</td>\n",
              "      <td>0</td>\n",
              "      <td>0</td>\n",
              "      <td>0</td>\n",
              "      <td>1</td>\n",
              "      <td>0</td>\n",
              "      <td>0</td>\n",
              "      <td>0</td>\n",
              "    </tr>\n",
              "  </tbody>\n",
              "</table>\n",
              "<p>5 rows × 40 columns</p>\n",
              "</div>"
            ],
            "text/plain": [
              "    Ram  Weight        Price  TouchScreen  IPS         ppi  SSD  HDD  \\\n",
              "0   8.0    1.37   71378.6832            0    1  226.983005  128    0   \n",
              "1   8.0    1.34   47895.5232            0    0  127.677940    0    0   \n",
              "2   8.0    1.86   30636.0000            0    0  141.211998  256    0   \n",
              "3  16.0    1.83  135195.3360            0    1  220.534624  512    0   \n",
              "4   8.0    1.37   96095.8080            0    1  226.983005  256    0   \n",
              "\n",
              "   Company_Apple  Company_Asus  ...  TypeName_Workstation  \\\n",
              "0              1             0  ...                     0   \n",
              "1              1             0  ...                     0   \n",
              "2              0             0  ...                     0   \n",
              "3              1             0  ...                     0   \n",
              "4              1             0  ...                     0   \n",
              "\n",
              "   cpu_brand_Intel Core i3  cpu_brand_Intel Core i5  cpu_brand_Intel Core i7  \\\n",
              "0                        0                        1                        0   \n",
              "1                        0                        1                        0   \n",
              "2                        0                        1                        0   \n",
              "3                        0                        0                        1   \n",
              "4                        0                        1                        0   \n",
              "\n",
              "   cpu_brand_Other Intel Processosr  Gpu_Model_ARM  Gpu_Model_Intel  \\\n",
              "0                                 0              0                1   \n",
              "1                                 0              0                1   \n",
              "2                                 0              0                1   \n",
              "3                                 0              0                0   \n",
              "4                                 0              0                1   \n",
              "\n",
              "   Gpu_Model_Nvidia  OS_Windows  OS_others/No os/Linux  \n",
              "0                 0           0                      0  \n",
              "1                 0           0                      0  \n",
              "2                 0           0                      1  \n",
              "3                 0           0                      0  \n",
              "4                 0           0                      0  \n",
              "\n",
              "[5 rows x 40 columns]"
            ]
          },
          "execution_count": 272,
          "metadata": {},
          "output_type": "execute_result"
        }
      ],
      "source": [
        "lap_data.head()"
      ]
    },
    {
      "cell_type": "code",
      "execution_count": null,
      "id": "8b0119d8",
      "metadata": {
        "id": "8b0119d8",
        "outputId": "38e63977-b52b-4276-e08a-13c4daaac230"
      },
      "outputs": [
        {
          "data": {
            "text/plain": [
              "<AxesSubplot:xlabel='Price', ylabel='Density'>"
            ]
          },
          "execution_count": 262,
          "metadata": {},
          "output_type": "execute_result"
        },
        {
          "data": {
            "image/png": "[encoded data removed]",
            "text/plain": [
              "<Figure size 640x480 with 1 Axes>"
            ]
          },
          "metadata": {},
          "output_type": "display_data"
        }
      ],
      "source": [
        "import numpy as p\n",
        "sns.distplot(np.log(lap_data['Price']))"
      ]
    },
    {
      "cell_type": "code",
      "execution_count": null,
      "id": "c3f50793",
      "metadata": {
        "id": "c3f50793"
      },
      "outputs": [],
      "source": [
        "y=np.log(lap_data['Price'])\n",
        "X=lap_data.drop(columns=['Price'])"
      ]
    },
    {
      "cell_type": "code",
      "execution_count": null,
      "id": "03a92ccb",
      "metadata": {
        "id": "03a92ccb",
        "outputId": "7f7bd139-fd5d-499c-e5d6-2536f206a224"
      },
      "outputs": [
        {
          "data": {
            "text/html": [
              "<div>\n",
              "<style scoped>\n",
              "    .dataframe tbody tr th:only-of-type {\n",
              "        vertical-align: middle;\n",
              "    }\n",
              "\n",
              "    .dataframe tbody tr th {\n",
              "        vertical-align: top;\n",
              "    }\n",
              "\n",
              "    .dataframe thead th {\n",
              "        text-align: right;\n",
              "    }\n",
              "</style>\n",
              "<table border=\"1\" class=\"dataframe\">\n",
              "  <thead>\n",
              "    <tr style=\"text-align: right;\">\n",
              "      <th></th>\n",
              "      <th>Ram</th>\n",
              "      <th>Weight</th>\n",
              "      <th>TouchScreen</th>\n",
              "      <th>IPS</th>\n",
              "      <th>ppi</th>\n",
              "      <th>SSD</th>\n",
              "      <th>HDD</th>\n",
              "      <th>Company_Apple</th>\n",
              "      <th>Company_Asus</th>\n",
              "      <th>Company_Chuwi</th>\n",
              "      <th>...</th>\n",
              "      <th>TypeName_Workstation</th>\n",
              "      <th>cpu_brand_Intel Core i3</th>\n",
              "      <th>cpu_brand_Intel Core i5</th>\n",
              "      <th>cpu_brand_Intel Core i7</th>\n",
              "      <th>cpu_brand_Other Intel Processosr</th>\n",
              "      <th>Gpu_Model_ARM</th>\n",
              "      <th>Gpu_Model_Intel</th>\n",
              "      <th>Gpu_Model_Nvidia</th>\n",
              "      <th>OS_Windows</th>\n",
              "      <th>OS_others/No os/Linux</th>\n",
              "    </tr>\n",
              "  </thead>\n",
              "  <tbody>\n",
              "    <tr>\n",
              "      <th>0</th>\n",
              "      <td>8.0</td>\n",
              "      <td>1.37</td>\n",
              "      <td>0</td>\n",
              "      <td>1</td>\n",
              "      <td>226.983005</td>\n",
              "      <td>128</td>\n",
              "      <td>0</td>\n",
              "      <td>1</td>\n",
              "      <td>0</td>\n",
              "      <td>0</td>\n",
              "      <td>...</td>\n",
              "      <td>0</td>\n",
              "      <td>0</td>\n",
              "      <td>1</td>\n",
              "      <td>0</td>\n",
              "      <td>0</td>\n",
              "      <td>0</td>\n",
              "      <td>1</td>\n",
              "      <td>0</td>\n",
              "      <td>0</td>\n",
              "      <td>0</td>\n",
              "    </tr>\n",
              "    <tr>\n",
              "      <th>1</th>\n",
              "      <td>8.0</td>\n",
              "      <td>1.34</td>\n",
              "      <td>0</td>\n",
              "      <td>0</td>\n",
              "      <td>127.677940</td>\n",
              "      <td>0</td>\n",
              "      <td>0</td>\n",
              "      <td>1</td>\n",
              "      <td>0</td>\n",
              "      <td>0</td>\n",
              "      <td>...</td>\n",
              "      <td>0</td>\n",
              "      <td>0</td>\n",
              "      <td>1</td>\n",
              "      <td>0</td>\n",
              "      <td>0</td>\n",
              "      <td>0</td>\n",
              "      <td>1</td>\n",
              "      <td>0</td>\n",
              "      <td>0</td>\n",
              "      <td>0</td>\n",
              "    </tr>\n",
              "    <tr>\n",
              "      <th>2</th>\n",
              "      <td>8.0</td>\n",
              "      <td>1.86</td>\n",
              "      <td>0</td>\n",
              "      <td>0</td>\n",
              "      <td>141.211998</td>\n",
              "      <td>256</td>\n",
              "      <td>0</td>\n",
              "      <td>0</td>\n",
              "      <td>0</td>\n",
              "      <td>0</td>\n",
              "      <td>...</td>\n",
              "      <td>0</td>\n",
              "      <td>0</td>\n",
              "      <td>1</td>\n",
              "      <td>0</td>\n",
              "      <td>0</td>\n",
              "      <td>0</td>\n",
              "      <td>1</td>\n",
              "      <td>0</td>\n",
              "      <td>0</td>\n",
              "      <td>1</td>\n",
              "    </tr>\n",
              "    <tr>\n",
              "      <th>3</th>\n",
              "      <td>16.0</td>\n",
              "      <td>1.83</td>\n",
              "      <td>0</td>\n",
              "      <td>1</td>\n",
              "      <td>220.534624</td>\n",
              "      <td>512</td>\n",
              "      <td>0</td>\n",
              "      <td>1</td>\n",
              "      <td>0</td>\n",
              "      <td>0</td>\n",
              "      <td>...</td>\n",
              "      <td>0</td>\n",
              "      <td>0</td>\n",
              "      <td>0</td>\n",
              "      <td>1</td>\n",
              "      <td>0</td>\n",
              "      <td>0</td>\n",
              "      <td>0</td>\n",
              "      <td>0</td>\n",
              "      <td>0</td>\n",
              "      <td>0</td>\n",
              "    </tr>\n",
              "    <tr>\n",
              "      <th>4</th>\n",
              "      <td>8.0</td>\n",
              "      <td>1.37</td>\n",
              "      <td>0</td>\n",
              "      <td>1</td>\n",
              "      <td>226.983005</td>\n",
              "      <td>256</td>\n",
              "      <td>0</td>\n",
              "      <td>1</td>\n",
              "      <td>0</td>\n",
              "      <td>0</td>\n",
              "      <td>...</td>\n",
              "      <td>0</td>\n",
              "      <td>0</td>\n",
              "      <td>1</td>\n",
              "      <td>0</td>\n",
              "      <td>0</td>\n",
              "      <td>0</td>\n",
              "      <td>1</td>\n",
              "      <td>0</td>\n",
              "      <td>0</td>\n",
              "      <td>0</td>\n",
              "    </tr>\n",
              "  </tbody>\n",
              "</table>\n",
              "<p>5 rows × 39 columns</p>\n",
              "</div>"
            ],
            "text/plain": [
              "    Ram  Weight  TouchScreen  IPS         ppi  SSD  HDD  Company_Apple  \\\n",
              "0   8.0    1.37            0    1  226.983005  128    0              1   \n",
              "1   8.0    1.34            0    0  127.677940    0    0              1   \n",
              "2   8.0    1.86            0    0  141.211998  256    0              0   \n",
              "3  16.0    1.83            0    1  220.534624  512    0              1   \n",
              "4   8.0    1.37            0    1  226.983005  256    0              1   \n",
              "\n",
              "   Company_Asus  Company_Chuwi  ...  TypeName_Workstation  \\\n",
              "0             0              0  ...                     0   \n",
              "1             0              0  ...                     0   \n",
              "2             0              0  ...                     0   \n",
              "3             0              0  ...                     0   \n",
              "4             0              0  ...                     0   \n",
              "\n",
              "   cpu_brand_Intel Core i3  cpu_brand_Intel Core i5  cpu_brand_Intel Core i7  \\\n",
              "0                        0                        1                        0   \n",
              "1                        0                        1                        0   \n",
              "2                        0                        1                        0   \n",
              "3                        0                        0                        1   \n",
              "4                        0                        1                        0   \n",
              "\n",
              "   cpu_brand_Other Intel Processosr  Gpu_Model_ARM  Gpu_Model_Intel  \\\n",
              "0                                 0              0                1   \n",
              "1                                 0              0                1   \n",
              "2                                 0              0                1   \n",
              "3                                 0              0                0   \n",
              "4                                 0              0                1   \n",
              "\n",
              "   Gpu_Model_Nvidia  OS_Windows  OS_others/No os/Linux  \n",
              "0                 0           0                      0  \n",
              "1                 0           0                      0  \n",
              "2                 0           0                      1  \n",
              "3                 0           0                      0  \n",
              "4                 0           0                      0  \n",
              "\n",
              "[5 rows x 39 columns]"
            ]
          },
          "execution_count": 274,
          "metadata": {},
          "output_type": "execute_result"
        }
      ],
      "source": [
        "X.head()"
      ]
    },
    {
      "cell_type": "code",
      "execution_count": null,
      "id": "0ad77a87",
      "metadata": {
        "id": "0ad77a87",
        "outputId": "2cf453fc-e4f5-494f-9f30-c5c4caf9b8f7"
      },
      "outputs": [
        {
          "data": {
            "text/plain": [
              "0       11.175755\n",
              "1       10.776777\n",
              "2       10.329931\n",
              "3       11.814476\n",
              "4       11.473101\n",
              "          ...    \n",
              "1239    10.555257\n",
              "1240    10.433899\n",
              "1241    11.288115\n",
              "1242     9.409283\n",
              "1243    10.614129\n",
              "Name: Price, Length: 1244, dtype: float64"
            ]
          },
          "execution_count": 275,
          "metadata": {},
          "output_type": "execute_result"
        }
      ],
      "source": [
        "y"
      ]
    },
    {
      "cell_type": "code",
      "execution_count": null,
      "id": "bc782f63",
      "metadata": {
        "id": "bc782f63"
      },
      "outputs": [],
      "source": [
        "from sklearn.model_selection import train_test_split\n",
        "from sklearn.linear_model import LinearRegression"
      ]
    },
    {
      "cell_type": "code",
      "execution_count": null,
      "id": "140f4f76",
      "metadata": {
        "id": "140f4f76"
      },
      "outputs": [],
      "source": [
        "X_train,X_test,y_train,y_test=train_test_split(X,y,test_size=0.2,random_state=42)"
      ]
    },
    {
      "cell_type": "code",
      "execution_count": null,
      "id": "545df5b4",
      "metadata": {
        "id": "545df5b4",
        "outputId": "b8268995-dea8-4811-e247-10a1ea2e8dcf"
      },
      "outputs": [
        {
          "data": {
            "text/html": [
              "<div>\n",
              "<style scoped>\n",
              "    .dataframe tbody tr th:only-of-type {\n",
              "        vertical-align: middle;\n",
              "    }\n",
              "\n",
              "    .dataframe tbody tr th {\n",
              "        vertical-align: top;\n",
              "    }\n",
              "\n",
              "    .dataframe thead th {\n",
              "        text-align: right;\n",
              "    }\n",
              "</style>\n",
              "<table border=\"1\" class=\"dataframe\">\n",
              "  <thead>\n",
              "    <tr style=\"text-align: right;\">\n",
              "      <th></th>\n",
              "      <th>Ram</th>\n",
              "      <th>Weight</th>\n",
              "      <th>TouchScreen</th>\n",
              "      <th>IPS</th>\n",
              "      <th>ppi</th>\n",
              "      <th>SSD</th>\n",
              "      <th>HDD</th>\n",
              "      <th>Company_Apple</th>\n",
              "      <th>Company_Asus</th>\n",
              "      <th>Company_Chuwi</th>\n",
              "      <th>...</th>\n",
              "      <th>TypeName_Workstation</th>\n",
              "      <th>cpu_brand_Intel Core i3</th>\n",
              "      <th>cpu_brand_Intel Core i5</th>\n",
              "      <th>cpu_brand_Intel Core i7</th>\n",
              "      <th>cpu_brand_Other Intel Processosr</th>\n",
              "      <th>Gpu_Model_ARM</th>\n",
              "      <th>Gpu_Model_Intel</th>\n",
              "      <th>Gpu_Model_Nvidia</th>\n",
              "      <th>OS_Windows</th>\n",
              "      <th>OS_others/No os/Linux</th>\n",
              "    </tr>\n",
              "  </thead>\n",
              "  <tbody>\n",
              "    <tr>\n",
              "      <th>306</th>\n",
              "      <td>8.0</td>\n",
              "      <td>2.33</td>\n",
              "      <td>0</td>\n",
              "      <td>0</td>\n",
              "      <td>141.211998</td>\n",
              "      <td>128</td>\n",
              "      <td>0</td>\n",
              "      <td>0</td>\n",
              "      <td>0</td>\n",
              "      <td>0</td>\n",
              "      <td>...</td>\n",
              "      <td>0</td>\n",
              "      <td>0</td>\n",
              "      <td>1</td>\n",
              "      <td>0</td>\n",
              "      <td>0</td>\n",
              "      <td>0</td>\n",
              "      <td>0</td>\n",
              "      <td>0</td>\n",
              "      <td>1</td>\n",
              "      <td>0</td>\n",
              "    </tr>\n",
              "    <tr>\n",
              "      <th>1220</th>\n",
              "      <td>4.0</td>\n",
              "      <td>2.20</td>\n",
              "      <td>0</td>\n",
              "      <td>0</td>\n",
              "      <td>100.454670</td>\n",
              "      <td>0</td>\n",
              "      <td>500</td>\n",
              "      <td>0</td>\n",
              "      <td>0</td>\n",
              "      <td>0</td>\n",
              "      <td>...</td>\n",
              "      <td>0</td>\n",
              "      <td>0</td>\n",
              "      <td>0</td>\n",
              "      <td>0</td>\n",
              "      <td>1</td>\n",
              "      <td>0</td>\n",
              "      <td>1</td>\n",
              "      <td>0</td>\n",
              "      <td>0</td>\n",
              "      <td>1</td>\n",
              "    </tr>\n",
              "    <tr>\n",
              "      <th>977</th>\n",
              "      <td>4.0</td>\n",
              "      <td>1.20</td>\n",
              "      <td>0</td>\n",
              "      <td>0</td>\n",
              "      <td>165.632118</td>\n",
              "      <td>128</td>\n",
              "      <td>0</td>\n",
              "      <td>0</td>\n",
              "      <td>0</td>\n",
              "      <td>0</td>\n",
              "      <td>...</td>\n",
              "      <td>0</td>\n",
              "      <td>0</td>\n",
              "      <td>1</td>\n",
              "      <td>0</td>\n",
              "      <td>0</td>\n",
              "      <td>0</td>\n",
              "      <td>1</td>\n",
              "      <td>0</td>\n",
              "      <td>1</td>\n",
              "      <td>0</td>\n",
              "    </tr>\n",
              "    <tr>\n",
              "      <th>548</th>\n",
              "      <td>4.0</td>\n",
              "      <td>1.25</td>\n",
              "      <td>1</td>\n",
              "      <td>1</td>\n",
              "      <td>189.905791</td>\n",
              "      <td>0</td>\n",
              "      <td>0</td>\n",
              "      <td>0</td>\n",
              "      <td>0</td>\n",
              "      <td>0</td>\n",
              "      <td>...</td>\n",
              "      <td>0</td>\n",
              "      <td>0</td>\n",
              "      <td>0</td>\n",
              "      <td>0</td>\n",
              "      <td>1</td>\n",
              "      <td>0</td>\n",
              "      <td>1</td>\n",
              "      <td>0</td>\n",
              "      <td>1</td>\n",
              "      <td>0</td>\n",
              "    </tr>\n",
              "    <tr>\n",
              "      <th>96</th>\n",
              "      <td>12.0</td>\n",
              "      <td>2.62</td>\n",
              "      <td>0</td>\n",
              "      <td>1</td>\n",
              "      <td>141.211998</td>\n",
              "      <td>128</td>\n",
              "      <td>0</td>\n",
              "      <td>0</td>\n",
              "      <td>0</td>\n",
              "      <td>0</td>\n",
              "      <td>...</td>\n",
              "      <td>0</td>\n",
              "      <td>0</td>\n",
              "      <td>0</td>\n",
              "      <td>1</td>\n",
              "      <td>0</td>\n",
              "      <td>0</td>\n",
              "      <td>0</td>\n",
              "      <td>1</td>\n",
              "      <td>1</td>\n",
              "      <td>0</td>\n",
              "    </tr>\n",
              "    <tr>\n",
              "      <th>...</th>\n",
              "      <td>...</td>\n",
              "      <td>...</td>\n",
              "      <td>...</td>\n",
              "      <td>...</td>\n",
              "      <td>...</td>\n",
              "      <td>...</td>\n",
              "      <td>...</td>\n",
              "      <td>...</td>\n",
              "      <td>...</td>\n",
              "      <td>...</td>\n",
              "      <td>...</td>\n",
              "      <td>...</td>\n",
              "      <td>...</td>\n",
              "      <td>...</td>\n",
              "      <td>...</td>\n",
              "      <td>...</td>\n",
              "      <td>...</td>\n",
              "      <td>...</td>\n",
              "      <td>...</td>\n",
              "      <td>...</td>\n",
              "      <td>...</td>\n",
              "    </tr>\n",
              "    <tr>\n",
              "      <th>1044</th>\n",
              "      <td>8.0</td>\n",
              "      <td>1.26</td>\n",
              "      <td>0</td>\n",
              "      <td>0</td>\n",
              "      <td>176.232574</td>\n",
              "      <td>256</td>\n",
              "      <td>0</td>\n",
              "      <td>0</td>\n",
              "      <td>0</td>\n",
              "      <td>0</td>\n",
              "      <td>...</td>\n",
              "      <td>0</td>\n",
              "      <td>0</td>\n",
              "      <td>1</td>\n",
              "      <td>0</td>\n",
              "      <td>0</td>\n",
              "      <td>0</td>\n",
              "      <td>1</td>\n",
              "      <td>0</td>\n",
              "      <td>1</td>\n",
              "      <td>0</td>\n",
              "    </tr>\n",
              "    <tr>\n",
              "      <th>1095</th>\n",
              "      <td>4.0</td>\n",
              "      <td>2.09</td>\n",
              "      <td>0</td>\n",
              "      <td>0</td>\n",
              "      <td>100.454670</td>\n",
              "      <td>0</td>\n",
              "      <td>500</td>\n",
              "      <td>0</td>\n",
              "      <td>0</td>\n",
              "      <td>0</td>\n",
              "      <td>...</td>\n",
              "      <td>0</td>\n",
              "      <td>0</td>\n",
              "      <td>1</td>\n",
              "      <td>0</td>\n",
              "      <td>0</td>\n",
              "      <td>0</td>\n",
              "      <td>1</td>\n",
              "      <td>0</td>\n",
              "      <td>0</td>\n",
              "      <td>1</td>\n",
              "    </tr>\n",
              "    <tr>\n",
              "      <th>1130</th>\n",
              "      <td>8.0</td>\n",
              "      <td>2.50</td>\n",
              "      <td>0</td>\n",
              "      <td>0</td>\n",
              "      <td>141.211998</td>\n",
              "      <td>0</td>\n",
              "      <td>0</td>\n",
              "      <td>0</td>\n",
              "      <td>0</td>\n",
              "      <td>0</td>\n",
              "      <td>...</td>\n",
              "      <td>0</td>\n",
              "      <td>0</td>\n",
              "      <td>1</td>\n",
              "      <td>0</td>\n",
              "      <td>0</td>\n",
              "      <td>0</td>\n",
              "      <td>0</td>\n",
              "      <td>0</td>\n",
              "      <td>1</td>\n",
              "      <td>0</td>\n",
              "    </tr>\n",
              "    <tr>\n",
              "      <th>860</th>\n",
              "      <td>4.0</td>\n",
              "      <td>1.65</td>\n",
              "      <td>0</td>\n",
              "      <td>0</td>\n",
              "      <td>111.141337</td>\n",
              "      <td>0</td>\n",
              "      <td>0</td>\n",
              "      <td>0</td>\n",
              "      <td>1</td>\n",
              "      <td>0</td>\n",
              "      <td>...</td>\n",
              "      <td>0</td>\n",
              "      <td>0</td>\n",
              "      <td>0</td>\n",
              "      <td>0</td>\n",
              "      <td>1</td>\n",
              "      <td>0</td>\n",
              "      <td>1</td>\n",
              "      <td>0</td>\n",
              "      <td>1</td>\n",
              "      <td>0</td>\n",
              "    </tr>\n",
              "    <tr>\n",
              "      <th>1126</th>\n",
              "      <td>8.0</td>\n",
              "      <td>2.04</td>\n",
              "      <td>1</td>\n",
              "      <td>1</td>\n",
              "      <td>282.423996</td>\n",
              "      <td>256</td>\n",
              "      <td>0</td>\n",
              "      <td>0</td>\n",
              "      <td>0</td>\n",
              "      <td>0</td>\n",
              "      <td>...</td>\n",
              "      <td>0</td>\n",
              "      <td>0</td>\n",
              "      <td>1</td>\n",
              "      <td>0</td>\n",
              "      <td>0</td>\n",
              "      <td>0</td>\n",
              "      <td>0</td>\n",
              "      <td>1</td>\n",
              "      <td>1</td>\n",
              "      <td>0</td>\n",
              "    </tr>\n",
              "  </tbody>\n",
              "</table>\n",
              "<p>995 rows × 39 columns</p>\n",
              "</div>"
            ],
            "text/plain": [
              "       Ram  Weight  TouchScreen  IPS         ppi  SSD  HDD  Company_Apple  \\\n",
              "306    8.0    2.33            0    0  141.211998  128    0              0   \n",
              "1220   4.0    2.20            0    0  100.454670    0  500              0   \n",
              "977    4.0    1.20            0    0  165.632118  128    0              0   \n",
              "548    4.0    1.25            1    1  189.905791    0    0              0   \n",
              "96    12.0    2.62            0    1  141.211998  128    0              0   \n",
              "...    ...     ...          ...  ...         ...  ...  ...            ...   \n",
              "1044   8.0    1.26            0    0  176.232574  256    0              0   \n",
              "1095   4.0    2.09            0    0  100.454670    0  500              0   \n",
              "1130   8.0    2.50            0    0  141.211998    0    0              0   \n",
              "860    4.0    1.65            0    0  111.141337    0    0              0   \n",
              "1126   8.0    2.04            1    1  282.423996  256    0              0   \n",
              "\n",
              "      Company_Asus  Company_Chuwi  ...  TypeName_Workstation  \\\n",
              "306              0              0  ...                     0   \n",
              "1220             0              0  ...                     0   \n",
              "977              0              0  ...                     0   \n",
              "548              0              0  ...                     0   \n",
              "96               0              0  ...                     0   \n",
              "...            ...            ...  ...                   ...   \n",
              "1044             0              0  ...                     0   \n",
              "1095             0              0  ...                     0   \n",
              "1130             0              0  ...                     0   \n",
              "860              1              0  ...                     0   \n",
              "1126             0              0  ...                     0   \n",
              "\n",
              "      cpu_brand_Intel Core i3  cpu_brand_Intel Core i5  \\\n",
              "306                         0                        1   \n",
              "1220                        0                        0   \n",
              "977                         0                        1   \n",
              "548                         0                        0   \n",
              "96                          0                        0   \n",
              "...                       ...                      ...   \n",
              "1044                        0                        1   \n",
              "1095                        0                        1   \n",
              "1130                        0                        1   \n",
              "860                         0                        0   \n",
              "1126                        0                        1   \n",
              "\n",
              "      cpu_brand_Intel Core i7  cpu_brand_Other Intel Processosr  \\\n",
              "306                         0                                 0   \n",
              "1220                        0                                 1   \n",
              "977                         0                                 0   \n",
              "548                         0                                 1   \n",
              "96                          1                                 0   \n",
              "...                       ...                               ...   \n",
              "1044                        0                                 0   \n",
              "1095                        0                                 0   \n",
              "1130                        0                                 0   \n",
              "860                         0                                 1   \n",
              "1126                        0                                 0   \n",
              "\n",
              "      Gpu_Model_ARM  Gpu_Model_Intel  Gpu_Model_Nvidia  OS_Windows  \\\n",
              "306               0                0                 0           1   \n",
              "1220              0                1                 0           0   \n",
              "977               0                1                 0           1   \n",
              "548               0                1                 0           1   \n",
              "96                0                0                 1           1   \n",
              "...             ...              ...               ...         ...   \n",
              "1044              0                1                 0           1   \n",
              "1095              0                1                 0           0   \n",
              "1130              0                0                 0           1   \n",
              "860               0                1                 0           1   \n",
              "1126              0                0                 1           1   \n",
              "\n",
              "      OS_others/No os/Linux  \n",
              "306                       0  \n",
              "1220                      1  \n",
              "977                       0  \n",
              "548                       0  \n",
              "96                        0  \n",
              "...                     ...  \n",
              "1044                      0  \n",
              "1095                      1  \n",
              "1130                      0  \n",
              "860                       0  \n",
              "1126                      0  \n",
              "\n",
              "[995 rows x 39 columns]"
            ]
          },
          "execution_count": 277,
          "metadata": {},
          "output_type": "execute_result"
        }
      ],
      "source": [
        "X_train"
      ]
    },
    {
      "cell_type": "code",
      "execution_count": null,
      "id": "2874c860",
      "metadata": {
        "id": "2874c860",
        "outputId": "304ddfcb-72ef-41a5-ddc4-169c57235e0f"
      },
      "outputs": [
        {
          "data": {
            "text/plain": [
              "306     10.713714\n",
              "1220     9.756305\n",
              "977     11.061462\n",
              "548      9.830633\n",
              "96      11.105660\n",
              "          ...    \n",
              "1044    11.064804\n",
              "1095    10.236346\n",
              "1130    10.645681\n",
              "860      9.827764\n",
              "1126    11.694549\n",
              "Name: Price, Length: 995, dtype: float64"
            ]
          },
          "execution_count": 279,
          "metadata": {},
          "output_type": "execute_result"
        }
      ],
      "source": [
        "y_train"
      ]
    },
    {
      "cell_type": "code",
      "execution_count": null,
      "id": "de8e2658",
      "metadata": {
        "id": "de8e2658"
      },
      "outputs": [],
      "source": [
        "LR=LinearRegression()"
      ]
    },
    {
      "cell_type": "code",
      "execution_count": null,
      "id": "5c213eb0",
      "metadata": {
        "id": "5c213eb0",
        "outputId": "845c6b3d-a840-4ff6-deea-4d5fa53f98e3"
      },
      "outputs": [
        {
          "data": {
            "text/plain": [
              "LinearRegression()"
            ]
          },
          "execution_count": 281,
          "metadata": {},
          "output_type": "execute_result"
        }
      ],
      "source": [
        "LR.fit(X_train,y_train)"
      ]
    },
    {
      "cell_type": "code",
      "execution_count": null,
      "id": "5e3de125",
      "metadata": {
        "id": "5e3de125"
      },
      "outputs": [],
      "source": [
        "y_pred=LR.predict(X_test)"
      ]
    },
    {
      "cell_type": "code",
      "execution_count": null,
      "id": "c6669bf0",
      "metadata": {
        "id": "c6669bf0"
      },
      "outputs": [],
      "source": [
        "from sklearn.metrics import r2_score,mean_squared_error"
      ]
    },
    {
      "cell_type": "code",
      "execution_count": null,
      "id": "8b4763ea",
      "metadata": {
        "id": "8b4763ea"
      },
      "outputs": [],
      "source": [
        "MSE=mean_squared_error(y_test,y_pred)\n",
        "R2_score=r2_score(y_test,y_pred)"
      ]
    },
    {
      "cell_type": "code",
      "execution_count": null,
      "id": "b753dfe7",
      "metadata": {
        "id": "b753dfe7",
        "outputId": "68fc3190-f1ed-4ffd-99b5-d05c6d45eae0"
      },
      "outputs": [
        {
          "name": "stdout",
          "output_type": "stream",
          "text": [
            "The MSE value is : 0.07381942109038052\n",
            "The RMSE Value is :  0.2716972968035945\n",
            "The R2_score value is : 0.7906440968637005\n"
          ]
        }
      ],
      "source": [
        "print('The MSE value is :', MSE)\n",
        "RMSE=np.sqrt(MSE)\n",
        "print('The RMSE Value is : ',RMSE)\n",
        "print('The R2_score value is :',R2_score)"
      ]
    },
    {
      "cell_type": "code",
      "execution_count": null,
      "id": "c20f7ec3",
      "metadata": {
        "id": "c20f7ec3"
      },
      "outputs": [],
      "source": [
        "from sklearn.ensemble import RandomForestRegressor,AdaBoostRegressor"
      ]
    },
    {
      "cell_type": "code",
      "execution_count": null,
      "id": "9af91fda",
      "metadata": {
        "id": "9af91fda"
      },
      "outputs": [],
      "source": [
        "RFR=RandomForestRegressor()"
      ]
    },
    {
      "cell_type": "code",
      "execution_count": null,
      "id": "6a8d3fce",
      "metadata": {
        "id": "6a8d3fce",
        "outputId": "f5b666d6-f610-4c24-8f39-acc3352b9a57"
      },
      "outputs": [
        {
          "data": {
            "text/plain": [
              "RandomForestRegressor()"
            ]
          },
          "execution_count": 293,
          "metadata": {},
          "output_type": "execute_result"
        }
      ],
      "source": [
        "RFR.fit(X_train,y_train)"
      ]
    },
    {
      "cell_type": "code",
      "execution_count": null,
      "id": "52f37694",
      "metadata": {
        "id": "52f37694"
      },
      "outputs": [],
      "source": [
        "y_pred1=RFR.predict(X_test)"
      ]
    },
    {
      "cell_type": "code",
      "execution_count": null,
      "id": "7f2ae228",
      "metadata": {
        "id": "7f2ae228"
      },
      "outputs": [],
      "source": [
        "MSE=mean_squared_error(y_test,y_pred1)\n",
        "R2_score=r2_score(y_test,y_pred1)"
      ]
    },
    {
      "cell_type": "code",
      "execution_count": null,
      "id": "0a1a5266",
      "metadata": {
        "id": "0a1a5266",
        "outputId": "2af51cfb-9357-44b5-c524-31c0ec3d6958"
      },
      "outputs": [
        {
          "name": "stdout",
          "output_type": "stream",
          "text": [
            "The MSE value is : 0.056325792476937885\n",
            "The RMSE value is : 0.2373305552956422\n",
            "The R2_Score value is : 0.8402569814325764\n"
          ]
        }
      ],
      "source": [
        "print('The MSE value is :',MSE)\n",
        "RMSE=np.sqrt(MSE)\n",
        "print('The RMSE value is :',RMSE)\n",
        "print('The R2_Score value is :',R2_score)"
      ]
    },
    {
      "cell_type": "code",
      "execution_count": null,
      "id": "a625d3bc",
      "metadata": {
        "id": "a625d3bc"
      },
      "outputs": [],
      "source": [
        "ABR=AdaBoostRegressor()"
      ]
    },
    {
      "cell_type": "code",
      "execution_count": null,
      "id": "9a9e084b",
      "metadata": {
        "id": "9a9e084b",
        "outputId": "1bbcc1a2-b720-4f34-cf73-0fcdef863cc0"
      },
      "outputs": [
        {
          "data": {
            "text/plain": [
              "AdaBoostRegressor()"
            ]
          },
          "execution_count": 298,
          "metadata": {},
          "output_type": "execute_result"
        }
      ],
      "source": [
        "ABR.fit(X_train,y_train)"
      ]
    },
    {
      "cell_type": "code",
      "execution_count": null,
      "id": "9300444b",
      "metadata": {
        "id": "9300444b"
      },
      "outputs": [],
      "source": [
        "y_pred2=ABR.predict(X_test)"
      ]
    },
    {
      "cell_type": "code",
      "execution_count": null,
      "id": "e186be74",
      "metadata": {
        "id": "e186be74"
      },
      "outputs": [],
      "source": [
        "MSE=mean_squared_error(y_test,y_pred2)\n",
        "R2_score=r2_score(y_test,y_pred2)"
      ]
    },
    {
      "cell_type": "code",
      "execution_count": null,
      "id": "6062245f",
      "metadata": {
        "id": "6062245f",
        "outputId": "92632e08-55bf-44ef-d935-c21eacf670c5"
      },
      "outputs": [
        {
          "name": "stdout",
          "output_type": "stream",
          "text": [
            "The MSE Value is : 0.07507942211887267\n",
            "The RMSE value is : 0.2740062446713079\n",
            "The r2_score value is : 0.7870706652467053\n"
          ]
        }
      ],
      "source": [
        "print('The MSE Value is :',MSE)\n",
        "RMSE=np.sqrt(MSE)\n",
        "print('The RMSE value is :',RMSE)\n",
        "print('The r2_score value is :',R2_score)"
      ]
    }
  ],
  "metadata": {
    "kernelspec": {
      "display_name": "Python 3 (ipykernel)",
      "language": "python",
      "name": "python3"
    },
    "language_info": {
      "codemirror_mode": {
        "name": "ipython",
        "version": 3
      },
      "file_extension": ".py",
      "mimetype": "text/x-python",
      "name": "python",
      "nbconvert_exporter": "python",
      "pygments_lexer": "ipython3",
      "version": "3.9.13"
    },
    "colab": {
      "provenance": []
    }
  },
  "nbformat": 4,
  "nbformat_minor": 5
}